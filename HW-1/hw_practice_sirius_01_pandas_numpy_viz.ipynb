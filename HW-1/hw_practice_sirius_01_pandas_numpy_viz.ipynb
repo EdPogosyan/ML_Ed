{
 "cells": [
  {
   "cell_type": "markdown",
   "metadata": {
    "id": "HcF9My_FhLuk"
   },
   "source": [
    "<div class=\"alert alert-success\">\n",
    "    \n",
    "## Машинное обучение\n",
    "\n",
    "## Практическое домашнее задание 1\n",
    "\n",
    "### Общая информация\n",
    "\n",
    "Смотрите на даты мягкого и жёсткого дедлайна на странице в ноушне"
   ]
  },
  {
   "cell_type": "markdown",
   "metadata": {
    "id": "G64TptyJhLuo"
   },
   "source": [
    "### О задании\n",
    "\n",
    "Задание состоит из трех небольших разделов, посвященных работе с табличными данными с помощью библиотеки pandas, визуализации с помощью matplotlib и маленькой задачки на использование numpy.\n",
    "\n",
    "Баллы даются за выполнение отдельных пунктов. Задачи в рамках одного раздела рекомендуется решать в том порядке, в котором они даны в задании.\n",
    "\n",
    "Задание направлено на освоение `jupyter notebook` (будет использоваться в дальнейших заданиях), библиотек `pandas`, `numpy` и `matplotlib`/`seaborn`.\n",
    "\n",
    "Большинство пакетов можно поставить через питоновский установщик pip, но проще установить [Anaconda](https://www.anaconda.com/products/distribution) с python3 – там будет уже куча нужных библиотек.\n",
    "\n",
    "### Оценивание и штрафы\n",
    "Каждая из задач имеет определенную «стоимость» (указана в скобках около задачи). Максимально допустимая оценка за работу — 10 баллов.\n",
    "\n",
    "Сдавать задание после жёсткого дедлайна нельзя. При выставлении неполного балла за задание в связи с наличием ошибок на усмотрение проверяющего предусмотрена возможность исправить работу на указанных в ответном письме условиях.\n",
    "\n",
    "Задание выполняется самостоятельно. «Похожие» решения считаются плагиатом и все задействованные студенты (в том числе те, у кого списали) не могут получить за него больше 0 баллов. Если вы нашли решение какого-то из заданий (или его часть) в открытом источнике, необходимо указать ссылку на этот источник (скорее всего вы будете не единственным, кто это нашел, поэтому чтобы исключить подозрение в плагиате, необходима ссылка на источник).\n",
    "\n",
    "### Формат сдачи\n",
    "Задания следует отправлять в гугл-форму по ссылке, прикрепленной в ноушне. Присылать необходимо ноутбук с выполненным заданием. Сам ноутбук при сдаче называйте в формате hw-01-pandas-Username.ipynb, где Username — ваша фамилия.\n",
    "\n",
    "Для удобства проверки настоятельно рекомендуется самостоятельно посчитать свою максимальную оценку (исходя из набора решенных задач) и указать ниже.\n",
    "\n",
    "Оценка: xx."
   ]
  },
  {
   "cell_type": "markdown",
   "metadata": {
    "id": "BaXlfHE_hLup"
   },
   "source": [
    "# Введение"
   ]
  },
  {
   "cell_type": "markdown",
   "metadata": {
    "id": "wirAvJNxhLup"
   },
   "source": [
    "Сейчас мы находимся в jupyter-ноутбуке (или ipython-ноутбуке). Это удобная среда для написания кода, проведения экспериментов, изучения данных, построения визуализаций и других нужд, не связанных с написанием production-кода.\n",
    "\n",
    "Ноутбук состоит из ячеек, каждая из которых может быть либо ячейкой с кодом, либо ячейкой с текстом размеченным и неразмеченным. Текст поддерживает markdown-разметку и формулы в Latex.\n",
    "\n",
    "Для работы с содержимым ячейки используется *режим редактирования* (*Edit mode*, включается нажатием клавиши **Enter** после выбора ячейки), а для навигации между ячейками искользуется *командный режим* (*Command mode*, включается нажатием клавиши **Esc**). Тип ячейки можно задать в командном режиме либо с помощью горячих клавиш (**y** to code, **m** to markdown, **r** to edit raw text), либо в меню *Cell -> Cell type*.\n",
    "\n",
    "После заполнения ячейки нужно нажать *Shift + Enter*, эта команда обработает содержимое ячейки: проинтерпретирует код или сверстает размеченный текст."
   ]
  },
  {
   "cell_type": "code",
   "execution_count": null,
   "metadata": {
    "colab": {
     "base_uri": "https://localhost:8080/"
    },
    "id": "aQ2_j3nkhLuq",
    "outputId": "99e13ee5-f80c-4d47-dc3b-1f35359f1337"
   },
   "outputs": [],
   "source": [
    "# ячейка с кодом, при выполнении которой появится output\n",
    "2 + 2 == 4 #epepepepe"
   ]
  },
  {
   "cell_type": "code",
   "execution_count": null,
   "metadata": {
    "id": "CANjwh8UqmxQ"
   },
   "outputs": [],
   "source": [
    " # ячейка с кодом, при выполнении которой НЕ появится output\n",
    "2 + 2;\n",
    "\n",
    "a = 2 + 2 - 1 /3.1 # доступ работает"
   ]
  },
  {
   "cell_type": "markdown",
   "metadata": {
    "id": "ZlulCwVKhLur"
   },
   "source": [
    "Ячейка с неразмеченным текстом."
   ]
  },
  {
   "cell_type": "markdown",
   "metadata": {
    "id": "A4wkVlIehLur"
   },
   "source": [
    "Попробуйте создать свои ячейки, написать какой-нибудь код и текст какой-нибудь формулой."
   ]
  },
  {
   "cell_type": "code",
   "execution_count": null,
   "metadata": {
    "id": "BIuaYSvqhLus"
   },
   "outputs": [],
   "source": [
    "# your code"
   ]
  },
  {
   "cell_type": "markdown",
   "metadata": {
    "id": "iWs6ljrIhLus"
   },
   "source": [
    "[Здесь](https://athena.brynmawr.edu/jupyter/hub/dblank/public/Jupyter%20Notebook%20Users%20Manual.ipynb) находится <s>не</s>большая заметка о используемом языке разметки Markdown. Он позволяет:\n",
    "\n",
    "0. Составлять упорядоченные списки\n",
    "1. Выделять *текст* <s>при</s> **необходимости**\n",
    "2. Добавлять [ссылки](http://imgs.xkcd.com/comics/the_universal_label.png)\n",
    "\n",
    "\n",
    "* Составлять неупорядоченные списки\n",
    "\n",
    "Делать вставки с помощью LaTex:\n",
    "    \n",
    "$\n",
    "\\left\\{\n",
    "\\begin{array}{ll}\n",
    "x = 16 \\sin^3 (t) \\\\\n",
    "y = 13 \\cos (t) - 5 \\cos (2t) - 2 \\cos (3t) - \\cos (4t) \\\\\n",
    "t \\in [0, 2 \\pi]\n",
    "\\end{array}\n",
    "\\right.$"
   ]
  },
  {
   "cell_type": "markdown",
   "metadata": {
    "id": "ixQ82T0nqmxR"
   },
   "source": [
    "А ещё можно вставлять картинки, или гифки, или что захотите:\n",
    "\n",
    "<img src=\"https://img10.reactor.cc/pics/post/%D0%B3%D0%B8%D1%84%D0%BA%D0%B8-%D0%BF%D0%B0%D0%BD%D0%B4%D0%B0-%D0%B6%D0%B8%D0%B2%D0%BD%D0%BE%D1%81%D1%82%D1%8C-%D0%BC%D1%8F%D1%87%D0%B8%D0%BA-1600214.gif\" style=\"width: 400px\">"
   ]
  },
  {
   "cell_type": "markdown",
   "metadata": {
    "id": "J_toGw7DhLut"
   },
   "source": [
    "### Google Colab"
   ]
  },
  {
   "cell_type": "markdown",
   "metadata": {
    "id": "jpkbCVjGhLut"
   },
   "source": [
    "Что за колаб?\n",
    "\n",
    "**Google Colab (Colaboratory)** это **Jupyter Notebook + Cloud + Google Drive.**\n",
    "\n",
    "Компания Google предоставляет возможность бесплатно запускать ноутбуки (предварительно загрузив их на свой гугл-диск) прямо в облаке. При этом вам не требуется установка никаких пакетов на свою машину, а работать можно прямиком из браузера. Вот ссылка:"
   ]
  },
  {
   "cell_type": "markdown",
   "metadata": {
    "id": "06MQog3yhLut"
   },
   "source": [
    "https://colab.research.google.com"
   ]
  },
  {
   "cell_type": "markdown",
   "metadata": {
    "id": "5_hfWXKPhLut"
   },
   "source": [
    "При использовании вы увидете много сходств с jupyter ноутбуком. Одним из преимуществ является доступность GPU, соответствующую опцию можно активировать в настройках сервиса. При желании вы сможете найти в интернете много туториалов по использованию или разобраться самостоятельно :)"
   ]
  },
  {
   "cell_type": "markdown",
   "metadata": {
    "id": "sUe2vnFGhLuu"
   },
   "source": [
    "# I. Табличные данные и Pandas"
   ]
  },
  {
   "cell_type": "markdown",
   "metadata": {
    "id": "DJQzjjqJhLuu"
   },
   "source": [
    "Pandas — удобная библиотека для работы с табличными данными в Python, если данных не слишком много и они помещаются в оперативную память вашего компьютера. Несмотря на неэффективность реализации и некоторые проблемы, библиотека стала стандартом в анализе данных.\n",
    "\n",
    "\n",
    "Основной объект в pandas — это DataFrame, представляющий собой таблицу с именованными колонками различных типов, индексом (может быть многоуровневым). DataFrame можно создавать, считывая таблицу из файла или задавая вручную из других объектов.\n",
    "\n",
    "В этой части потребуется выполнить несколько небольших заданий. Можно пойти двумя путями: сначала изучить материалы, а потом приступить к заданиям, или же разбираться \"по ходу\". Выбирайте сами.\n",
    "\n",
    "\n",
    "Многие из заданий можно выполнить несколькими способами. Не существуют единственно верного, но попробуйте максимально задействовать арсенал pandas и ориентируйтесь на простоту и понятность вашего кода. Мы не будем подсказывать, что нужно использовать для решения конкретной задачи, попробуйте находить необходимый функционал сами (название метода чаще всего очевидно). В помощь вам документация, поиск и stackoverflow."
   ]
  },
  {
   "cell_type": "markdown",
   "metadata": {
    "id": "Fyej-hIrqmxS"
   },
   "source": [
    "Обзор полезных ресурсов\n",
    "\n",
    "В первую очередь, конечно же, официальная документация Pandas. В частности, рекомендуем короткое введение 10 minutes to pandas\n",
    "1. [Pandas за 10 минут из официального руководства](http://pandas.pydata.org/pandas-docs/stable/10min.html)\n",
    "2. [Документация](http://pandas.pydata.org/pandas-docs/stable/index.html) (стоит обращаться, если не понятно, как вызывать конкретный метод)\n",
    "3. [Примеры использования функционала](http://nbviewer.jupyter.org/github/justmarkham/pandas-videos/blob/master/pandas.ipynb)\n",
    "2. [Презентация](http://alexanderdyakonov.wordpress.com/2015/11/06/знакомство-с-pandas-слайды.html) Александра Дьяконова «Знакомство с Pandas»\n",
    "5. [Серия](http://tomaugspurger.github.io/posts/modern-1-intro.html) постов \"Modern Pandas\" (на английском языке)\n",
    "\n",
    "\n",
    "[scipy-lectures.org](http://scipy-lectures.org/index.html) — учебник по работе с pandas, numpy, matplotlib и scikit-learn\n",
    "\n"
   ]
  },
  {
   "cell_type": "code",
   "execution_count": null,
   "metadata": {
    "colab": {
     "base_uri": "https://localhost:8080/"
    },
    "id": "26zbFY25hLuv",
    "outputId": "cba40ff7-bb7d-4fe1-b751-dbb7a311b78d"
   },
   "outputs": [],
   "source": [
    "%pylab inline\n",
    "import pandas as pd\n",
    "import numpy as np"
   ]
  },
  {
   "cell_type": "markdown",
   "metadata": {
    "id": "7Y0fwVDwqmxS"
   },
   "source": [
    "<span style=\"color:red\">Перед выполнением задания необходимо ознакомиться с первым семинаром (sem01-1-pandas.ipynb и sem01-2-numpy.ipynb) </span>.\n",
    "\n",
    "Это поможет вам получить общее понимание происходяшего и успешнее справиться с заданием.\n",
    "\n",
    "Также успешному выполнению способствует внимательное чтение текста задания от начала до конца.\n",
    "\n",
    "Удачи!"
   ]
  },
  {
   "cell_type": "markdown",
   "metadata": {
    "id": "dbLS-qjzqmxS"
   },
   "source": [
    "<div class=\"alert alert-success\">\n",
    "\n",
    "Ниже вам следует продемонстрировать множество методов в Pandas на примере анализа данных о сражениях в популярном сериале \"Игра престолов\", который был снят по мотивам серии книг Дж.Мартина.\n",
    "    \n",
    "Cамо собой разумеется, что этот набор данных содержит спойлеры ;) Он объединяет три источника данных, каждый из которых основан на информации из серии книг.\n",
    "\n",
    "- Во-первых, есть `battles.csv`, который содержит данные Криса Албона \"The Война пяти королей\". Это\n",
    "отличная коллекция всех битв в серии.\n",
    "- Во-вторых, у нас есть файл `character-deaths.csv` от Эрин Пирс и Бена Кейла. Этот набор данных был создан в рамках их проекта \"Байесовский анализ выживаемости\".\n",
    "\n",
    "Наконец, у нас есть более полный набор данных по персонажам с `character-predictions.csv`. Он\n",
    "включает их предсказания о том, какой персонаж умрет. Он был подготовлен командой \"A Song of Ice and Data\", которая собрала эти данные с [сайта](http://awoiaf.westeros.org/). Методологию можно найти [здесь](https://got.show/machine-learning-algorithm-predicts-death-game-of-thrones)\n"
   ]
  },
  {
   "cell_type": "markdown",
   "metadata": {
    "id": "shFkfJkohLux"
   },
   "source": [
    "Для каждой задачи вы должны написать код для получения ответа, а также дать текстовый ответ, если он предполагается.\n",
    "\n",
    "На некоторые вопросы вы можете получить ответ путём пристального взгляда на таблицу, но это не будет засчитываться. Вы в любом случае должны получить ответ с помощью кода."
   ]
  },
  {
   "cell_type": "markdown",
   "metadata": {
    "id": "gDD85M7bhLux"
   },
   "source": [
    "#### [0 баллов] Импортируйте все данные (не забудьте про формат). Выведите последние 10 строк каждого набора данных.\n",
    "\n",
    "Посмотрите на данные и скажите, что они из себя представляют, сколько в таблице строк, какие столбцы? (на это не надо отвечать, просто подумайте об этом)"
   ]
  },
  {
   "cell_type": "code",
   "execution_count": null,
   "metadata": {
    "colab": {
     "base_uri": "https://localhost:8080/",
     "height": 738
    },
    "id": "PKulur3LhLuy",
    "outputId": "2d6baa7f-83d6-4eaa-fb9c-9d6c9c3b99f9"
   },
   "outputs": [],
   "source": [
    "character_predictions_df = pd.read_csv(\"CSV/character-predictions.csv\", sep=\",\", index_col=0)\n",
    "character_deaths_df = pd.read_csv(\"CSV/character-deaths.csv\", sep=\",\", index_col=0)\n",
    "german_credit_df = pd.read_csv(\"CSV/german_credit.csv\", sep=\",\", index_col=0)\n",
    "battles_df = pd.read_csv(\"CSV/battles.csv\", sep=\",\", index_col=0)\n",
    "battles_df.tail(10)"
   ]
  },
  {
   "cell_type": "markdown",
   "metadata": {
    "id": "B8PkqOAsZGyq"
   },
   "source": [
    "Все задания ниже, относящиеся к пункту I имеют равный вес (4/22)."
   ]
  },
  {
   "cell_type": "markdown",
   "metadata": {
    "id": "jPiMwyqHhLuy"
   },
   "source": [
    "#### 1. Есть ли в данных `character-predictions.csv` пропуски? В каких колонках? Сколько их в каждой из этих колонок? Сколько всего в общем?"
   ]
  },
  {
   "cell_type": "code",
   "execution_count": null,
   "metadata": {
    "colab": {
     "base_uri": "https://localhost:8080/"
    },
    "id": "edY1RrSOhLuy",
    "outputId": "d29c973f-f0b0-4e5a-8a28-a2a1e853002e"
   },
   "outputs": [],
   "source": [
    "cp_null_df = character_predictions_df.isnull().sum()\n",
    "print(cp_null_df, \"\\n Totall gaps: \", cp_null_df.sum())"
   ]
  },
  {
   "cell_type": "markdown",
   "metadata": {
    "id": "B5ORhP2uhLuz"
   },
   "source": [
    "\n",
    "\n",
    "```\n",
    "# Выбран кодовый формат\n",
    "```\n",
    "\n",
    "#### 2. Заполните пропуски в `character-predictions.csv` пустой строкой для строковых колонок и нулём для числовых (постарайтесь избежать перечисления названий всех столбцов).\n"
   ]
  },
  {
   "cell_type": "code",
   "execution_count": null,
   "metadata": {
    "id": "u-UakbEeqmxT"
   },
   "outputs": [],
   "source": [
    "string_columns = character_predictions_df.select_dtypes(include=['object']).columns\n",
    "character_predictions_df[string_columns] = character_predictions_df[string_columns].fillna('')\n",
    "\n",
    "# Заполнение пропусков числовых колонок нулём\n",
    "numeric_columns = character_predictions_df.select_dtypes(include=['float64', 'int64']).columns\n",
    "character_predictions_df[numeric_columns] = character_predictions_df[numeric_columns].fillna(0)\n"
   ]
  },
  {
   "cell_type": "markdown",
   "metadata": {
    "id": "LQNoFtSZqmxT"
   },
   "source": [
    "Проверьте, что в ваших данных отсутствуют нулевые значения:"
   ]
  },
  {
   "cell_type": "code",
   "execution_count": null,
   "metadata": {
    "colab": {
     "base_uri": "https://localhost:8080/"
    },
    "id": "TlF_JJ2ghLuz",
    "outputId": "97e822da-03be-442d-b7e6-50e7d2b19f54"
   },
   "outputs": [],
   "source": [
    "character_predictions_df.isnull().sum()"
   ]
  },
  {
   "cell_type": "markdown",
   "metadata": {
    "id": "spu3r3vchLu0"
   },
   "source": [
    "#### 3. Как сражения в 299 году повлияли на количество основных_смертей? ( используйте данные из `battles.csv`)\n",
    "\n",
    "Например, в скольких битвах погиб хотя бы один командир и в скольких не погиб ни один"
   ]
  },
  {
   "cell_type": "code",
   "execution_count": null,
   "metadata": {},
   "outputs": [],
   "source": [
    "print(battles_df.columns)\n",
    "character_deaths_df.columns"
   ]
  },
  {
   "cell_type": "code",
   "execution_count": null,
   "metadata": {
    "colab": {
     "base_uri": "https://localhost:8080/"
    },
    "id": "t21fWi8ShLu0",
    "outputId": "27f81269-897b-4fda-ee02-8fa891475f11"
   },
   "outputs": [],
   "source": [
    "year299 = battles_df.loc[battles_df[\"year\"]==299]\n",
    "\n",
    "battles_with_commander_deaths = year299[year299['major_death']!=0].shape[0]\n",
    "\n",
    "battles_without_commander_deaths = year299[year299['major_death']==0].shape[0]\n",
    "\n",
    "print(\"Битв, в которых потенциально(ибо смерть короля тоже major) погиб хотя бы один командир:\", battles_with_commander_deaths)\n",
    "print(\"Битв, в которых ни один командир не погиб:\", battles_without_commander_deaths)\n",
    "\n"
   ]
  },
  {
   "cell_type": "markdown",
   "metadata": {
    "id": "jLUfNWAXqmxT"
   },
   "source": [
    "#### 4. Каково среднее число смертей в наборе данных? см. `major_death`\n"
   ]
  },
  {
   "cell_type": "code",
   "execution_count": null,
   "metadata": {
    "id": "PmGqCJPGqmxT"
   },
   "outputs": [],
   "source": [
    "battles_df['major_death'].mean()"
   ]
  },
  {
   "cell_type": "markdown",
   "metadata": {
    "id": "meJsghEeqmxT"
   },
   "source": [
    "#### 5. Каково среднее количество смертей только за 299 год? см. `major_death`"
   ]
  },
  {
   "cell_type": "code",
   "execution_count": null,
   "metadata": {
    "id": "y-tqSyB0qmxU"
   },
   "outputs": [],
   "source": [
    "year299['major_death'].mean()"
   ]
  },
  {
   "cell_type": "markdown",
   "metadata": {
    "id": "MlLowWINqmxU"
   },
   "source": [
    "#### 6. Перечислите наибольшее количество сражений, произошедших за год, используя два разных метода**\n",
    "\n",
    "А также ниже выпишите год с наибольшим и с наименьшим числом сражений"
   ]
  },
  {
   "cell_type": "code",
   "execution_count": null,
   "metadata": {
    "id": "f5vNhiBPqmxU"
   },
   "outputs": [],
   "source": [
    "battles_by_year = battles_df.groupby('year').size()\n",
    "\n",
    "max_battles_years_group = battles_by_year[battles_by_year == battles_by_year.max()]\n",
    "print(\"First way\",max_battles_years_group)\n",
    "\n",
    "battles_by_year = battles_df['year'].value_counts()\n",
    "\n",
    "max_battles_years_group = battles_by_year[battles_by_year == battles_by_year.max()]\n",
    "print(\"Second way\",max_battles_years_group)"
   ]
  },
  {
   "cell_type": "markdown",
   "metadata": {
    "id": "hPI2A7BiqmxU"
   },
   "source": [
    "####  7. Найти среднее количество крупных захватов за битву. см. `major_capture`\n"
   ]
  },
  {
   "cell_type": "code",
   "execution_count": null,
   "metadata": {
    "id": "ZCu7Dq28qmxd"
   },
   "outputs": [],
   "source": [
    "battles_df['major_capture'].mean()"
   ]
  },
  {
   "cell_type": "markdown",
   "metadata": {
    "id": "7vXBZVXbqmxd"
   },
   "source": [
    "#### 8. Напишите количество битв, проведенных каждым из нападавших королей"
   ]
  },
  {
   "cell_type": "code",
   "execution_count": null,
   "metadata": {
    "id": "WAaHGfPIqmxd"
   },
   "outputs": [],
   "source": [
    "\n",
    "for name, group in battles_df.groupby(\"attacker_king\"):\n",
    "    print(\"Name :\",name,\"\\n\")\n",
    "    print(group[\"year\"].size,\"\\n\")\n",
    "#если я правильно понял, там король должен быть именно атакующим. 2 битв без нападающих как раз не хватает"
   ]
  },
  {
   "cell_type": "markdown",
   "metadata": {
    "id": "zX-YJy2XbHb5"
   },
   "source": [
    "### Далее давайте применим методы pandas для другого набора данных.\n",
    "\n",
    "#### Описание данных\n",
    "\n",
    "В папке Data находится информация о студентах. Всего 10 групп студентов. Файлы делятся на две категории:\n",
    "\n",
    "    * Students_info_i - информация о студентах из группы i\n",
    "    * Students_marks_i - оценки студентов из группы i за экзамены"
   ]
  },
  {
   "cell_type": "markdown",
   "metadata": {
    "id": "B0Jib5MjbVs0"
   },
   "source": [
    "Одно из важных достоинств pandas $-$ это удобные методы реляционного взаимодействия с данными, аналогичные, например, возможностям SQL для слияния и конкатенации таблиц: merge, join, concat. Наличие готовых методов позволяет не реализовывать самостоятельно поэлементную обработку данных и оперировать сразу целыми таблицами данных.\n",
    "\n",
    "Подробно об этих методах посмотрите тут: https://www.kaggle.com/residentmario/renaming-and-combining#Combining"
   ]
  },
  {
   "cell_type": "markdown",
   "metadata": {
    "id": "Ft8eWeR8ba_d"
   },
   "source": [
    "#### 9. Соберите всю информацию о студентах в одну таблицу df. В получившейся таблице должна быть информация и оценки всех студентов из всех групп. Напечатайте несколько строк таблицы для демонстрации результата.¶"
   ]
  },
  {
   "cell_type": "code",
   "execution_count": null,
   "metadata": {
    "id": "PNwAFaKnbgap"
   },
   "outputs": [],
   "source": [
    "import zipfile\n",
    "\n",
    "with zipfile.ZipFile(\"CSV/Data.zip\", 'r') as zip_ref:\n",
    "    for i in range(10):\n",
    "        df_students_path = zip_ref.extract(\"Data/Students_info_\"+str(i)+\".csv\")\n",
    "        df_grades_path = zip_ref.extract(\"Data/Students_marks_\"+str(i)+\".csv\")\n",
    "        df_students = pd.read_csv(df_students_path, index_col=0)\n",
    "        df_grades = pd.read_csv(df_grades_path)\n",
    "        students_and_grades = pd.merge(df_students, df_grades, on=\"index\", how=\"left\")\n",
    "\n",
    "students_and_grades.head(5)\n"
   ]
  },
  {
   "cell_type": "markdown",
   "metadata": {
    "id": "ssKWnBvta_Qy"
   },
   "source": [
    "#### 10. Удалите столбец index у полученной таблицы. Напечатайте первые 10 строк таблицы."
   ]
  },
  {
   "cell_type": "code",
   "execution_count": null,
   "metadata": {
    "id": "MOoI2CAYa-Q3"
   },
   "outputs": [],
   "source": [
    "sng_dropped = students_and_grades[students_and_grades.columns.drop('index')]\n",
    "sng_dropped.head(10)"
   ]
  },
  {
   "cell_type": "markdown",
   "metadata": {
    "id": "kNXgQEeSbjjZ"
   },
   "source": [
    "#### 11. Выведите на экран размеры полученной таблицы"
   ]
  },
  {
   "cell_type": "code",
   "execution_count": null,
   "metadata": {
    "id": "wGKgf78UbwRs"
   },
   "outputs": [],
   "source": [
    "sng_dropped.size"
   ]
  },
  {
   "cell_type": "markdown",
   "metadata": {
    "id": "nL7RFdhNbwmz"
   },
   "source": [
    "12. Выведите на экран статистические характеристики числовых столбцов таблицы (минимум, максимум, среднее значение, стандартное отклонение)"
   ]
  },
  {
   "cell_type": "code",
   "execution_count": null,
   "metadata": {
    "id": "l7XJAaUDbscs"
   },
   "outputs": [],
   "source": [
    "sng_dropped.describe()"
   ]
  },
  {
   "cell_type": "markdown",
   "metadata": {
    "id": "8tSJ8F2eb07W"
   },
   "source": [
    "13. Как зависят оценки от того, проходил ли студент курс для подготовки к сдаче экзамена (test preparation course)? Выведите на экран для каждого предмета в отдельности средний балл студентов, проходивших курс для подготовки к экзамену и не проходивших курс."
   ]
  },
  {
   "cell_type": "code",
   "execution_count": null,
   "metadata": {
    "id": "G4e9_rmHcCMG"
   },
   "outputs": [],
   "source": [
    "for name, group in sng_dropped.groupby(\"test preparation course\"):\n",
    "    print(\"NAME: \", name, \"\\n\")\n",
    "    print(\"GROUPS: \", group.select_dtypes(include=[np.number]).mean(), \"\\n\")"
   ]
  },
  {
   "cell_type": "markdown",
   "metadata": {
    "id": "fvUzhQ0QcEF0"
   },
   "source": [
    " 14. Выведите на экран все различные значения из столбца lunch."
   ]
  },
  {
   "cell_type": "code",
   "execution_count": null,
   "metadata": {
    "id": "_cQ5H6PWcCa4"
   },
   "outputs": [],
   "source": [
    "sng_dropped['lunch'].value_counts #не уверен, что правильно"
   ]
  },
  {
   "cell_type": "markdown",
   "metadata": {
    "id": "5sVVUZwrcNbU"
   },
   "source": [
    "15. Переименуйте колонку \"parental level of education\" в \"education\", а \"test preparation course\" в \"test preparation\" с помощью метода pandas rename https://pandas.pydata.org/pandas-docs/stable/reference/api/pandas.DataFrame.rename.html"
   ]
  },
  {
   "cell_type": "code",
   "execution_count": null,
   "metadata": {
    "id": "TmzVKnjPcPSz"
   },
   "outputs": [],
   "source": [
    "sng_dropped = sng_dropped.rename(columns={\"parental level of education\":\"education\", \"test preparation course\": \"test preparation\"})"
   ]
  },
  {
   "cell_type": "code",
   "execution_count": null,
   "metadata": {},
   "outputs": [],
   "source": [
    "sng_dropped.columns"
   ]
  },
  {
   "cell_type": "markdown",
   "metadata": {
    "id": "tUJDxJ5gcREN"
   },
   "source": [
    "Зафиксируем минимальный балл для сдачи экзамена"
   ]
  },
  {
   "cell_type": "code",
   "execution_count": null,
   "metadata": {
    "id": "BbrAzON0cPl3"
   },
   "outputs": [],
   "source": [
    "passmark = 50"
   ]
  },
  {
   "cell_type": "markdown",
   "metadata": {
    "id": "U-PWS5N1cYgC"
   },
   "source": [
    "16. Ответьте на вопросы: * Какая доля студентов сдала экзамен по математике (passmark >= 50)? * Какая доля студентов, проходивших курс подготовки к экзамену, сдала экзамен по математике? * Какая доля женщин, не проходивших курс подготовки к экзамену, не сдала экзамен по математике?"
   ]
  },
  {
   "cell_type": "code",
   "execution_count": null,
   "metadata": {
    "id": "ihxfK4eqcPsc"
   },
   "outputs": [],
   "source": [
    "print(sng_dropped[sng_dropped['math score']>=passmark].shape[0]/sng_dropped.shape[0])\n",
    "print((sng_dropped[sng_dropped['math score']>=passmark]['test preparation']=='completed').sum()/sng_dropped.shape[0])\n",
    "print((sng_dropped[(sng_dropped['math score']>=passmark) & (sng_dropped['gender']=='female')]['test preparation']=='completed').sum()/sng_dropped.shape[0])"
   ]
  },
  {
   "cell_type": "markdown",
   "metadata": {
    "id": "e4I94p2Rcddp"
   },
   "source": [
    "17. С помощью groupby выполните задания ниже. Также выведите время выполнения каждого из заданий. * Для каждой этнической группы выведите средний балл за экзамен по чтению * Для каждого уровня образования выведите минимальный балл за экзамен по письму"
   ]
  },
  {
   "cell_type": "code",
   "execution_count": null,
   "metadata": {
    "id": "i-WNS831cPyC"
   },
   "outputs": [],
   "source": [
    "%%time\n",
    "\n",
    "for name, group in sng_dropped.groupby('race/ethnicity'):\n",
    "    print(name)\n",
    "    print(\"Mean score: \",group.select_dtypes(include=[np.number]).mean())\n",
    "    print(\"Min score: \",group.select_dtypes(include=[np.number]).min())\n",
    "#sng_dropped.groupby('race/ethnicity')['math score'].mean()"
   ]
  },
  {
   "cell_type": "markdown",
   "metadata": {
    "id": "aUAkO71fcgWr"
   },
   "source": [
    "18. Выполните предыдущее выше задание с помощью циклов. Сравните время выполнения."
   ]
  },
  {
   "cell_type": "code",
   "execution_count": null,
   "metadata": {
    "id": "CsC0-6mkcg8z"
   },
   "outputs": [],
   "source": [
    "%%time\n",
    "\n",
    "for ethn in sng_dropped['race/ethnicity'].unique():\n",
    "    score = sng_dropped[sng_dropped['race/ethnicity']==ethn][[\"math score\", \"reading score\", \"writing score\"]]\n",
    "    print(ethn,\"\\n\",\" ---Mean score--- \",\"\\n\", score.mean())\n",
    "    print(\" ---Min score--- \",\"\\n\", score.min())"
   ]
  },
  {
   "cell_type": "markdown",
   "metadata": {},
   "source": [
    "# Через groupby немного быстрее, но я не уверен, что цикл правильно написан"
   ]
  },
  {
   "cell_type": "markdown",
   "metadata": {
    "id": "2SqPLVP1cr89"
   },
   "source": [
    "19. Выведите на экран средние баллы студентов по каждому предмету в зависимости от пола и уровня образования. То есть должно получиться количество групп, равных 2 * (число уровней образования), и для каждой такой группы выыведите средний балл по каждому из предметов.**\n",
    "\n",
    "Это можно сделать с помощью сводных таблиц (pivot_table):\n",
    "\n",
    "https://www.kaggle.com/kamilpolak/tutorial-how-to-use-pivot-table-in-pandas"
   ]
  },
  {
   "cell_type": "code",
   "execution_count": null,
   "metadata": {
    "id": "qPYcv-CAc7b2"
   },
   "outputs": [],
   "source": [
    "# your code"
   ]
  },
  {
   "cell_type": "markdown",
   "metadata": {
    "id": "8nnBl_OHc70Z"
   },
   "source": [
    "20. Сколько студентов успешно сдали экзамен по математике?\n",
    "\n",
    "Создайте новый столбец в таблице df под названием Math_PassStatus и запишите в него F, если студент не сдал экзамен по математике (балл за экзамен < passmark), и P иначе.\n",
    "\n",
    "Посчитайте количество студентов, сдавших и не сдавших экзамен по математике.\n",
    "\n",
    "Сделайте аналогичные шаги для экзаменов по чтению и письму."
   ]
  },
  {
   "cell_type": "code",
   "execution_count": null,
   "metadata": {
    "id": "jnmsr8bZc-Ik"
   },
   "outputs": [],
   "source": [
    "# your code"
   ]
  },
  {
   "cell_type": "markdown",
   "metadata": {
    "id": "YwA3jJSpc_p0"
   },
   "source": [
    "21. Сколько студентов успешно сдали все экзамены?\n",
    "Создайте столбец OverAll_PassStatus и запишите в него для каждого студента 'F', если студент не сдал хотя бы один из трех экзаменов, а иначе 'P'.\n",
    "\n",
    "Посчитайте количество студентов, которые сдали все экзамены."
   ]
  },
  {
   "cell_type": "code",
   "execution_count": null,
   "metadata": {
    "id": "TBwUHZ-9c9vh"
   },
   "outputs": [],
   "source": []
  },
  {
   "cell_type": "markdown",
   "metadata": {
    "id": "8uWElO-ddHS1"
   },
   "source": [
    "22. Переведем баллы в оценки\n",
    "\n",
    " Система перевода баллов в оценки:\n",
    "                      больше 90 = A\n",
    "                      80-90 = B\n",
    "                      70-80 = C\n",
    "                      60-70 = D\n",
    "                      50-60 = E\n",
    "                      меньше 50 = F (Fail)\n",
    "\n",
    "Создайте вспомогательную функцию, которая будет по среднему баллу за три экзамена выставлять оценку студенту по данным выше критериям.\n",
    "\n",
    "Создайте столбец Grade и запишите в него оценку каждого студента.\n",
    "\n",
    "Выведите количество студентов, получивших каждую из оценок.\n",
    "\n",
    "**В случае, если средний балл попадает на границу между оценками (т.е. равен ровно 60, 70 или 80 баллов), вы можете интерпретировать условие на своё усмотрение (т.е. можете поставить за 60 баллов оценку D, а можете - E).**"
   ]
  },
  {
   "cell_type": "code",
   "execution_count": null,
   "metadata": {
    "colab": {
     "base_uri": "https://localhost:8080/",
     "height": 106
    },
    "id": "LVLdHJzndPRq",
    "outputId": "7dabe6da-3789-4c3b-c5d3-3ba49a687658"
   },
   "outputs": [],
   "source": [
    "def GetGrade(average_mark):\n",
    "    # your code here\n",
    "    pass\n",
    "# your code here"
   ]
  },
  {
   "cell_type": "markdown",
   "metadata": {
    "id": "A68xnXoaqmxd"
   },
   "source": [
    "На этом с пандами пока все, но только на сегодня;)\n",
    "\n",
    "<img src=\"https://media1.tenor.com/images/9b8fbe9214504bcf6c60fe4e4f7e114e/tenor.gif?itemid=5416416\" style=\"width: 400px\">"
   ]
  },
  {
   "cell_type": "markdown",
   "metadata": {
    "id": "uL45Tg5fhLu1"
   },
   "source": [
    "## II. Визуализации"
   ]
  },
  {
   "cell_type": "markdown",
   "metadata": {
    "id": "MY9lKmP2hLu1"
   },
   "source": [
    "При работе с данными часто неудобно делать какие-то выводы, если смотреть на таблицу и числа в частности, поэтому важно уметь визуализировать данные. Здесь будут описаны ключевые правила оформления графиков для **всех** домашних заданий.\n",
    "\n",
    "У matplotlib, конечно же, есть [документация](https://matplotlib.org/users/index.html) с большим количеством [примеров](https://matplotlib.org/examples/), но для начала достаточно знать про несколько основных типов графиков:\n",
    "- plot — обычный поточечный график, которым можно изображать кривые или отдельные точки;\n",
    "- hist — гистограмма, показывающая распределение некоторой величины;\n",
    "- scatter — график, показывающий взаимосвязь двух величин;\n",
    "- bar — столбцовый график, показывающий взаимосвязь количественной величины от категориальной.\n",
    "\n",
    "В этом задании вы попробуете построить один из них. Не забывайте про базовые принципы построения приличных графиков:\n",
    "- оси должны быть подписаны, причём не слишком мелко;\n",
    "- у графика должно быть название;\n",
    "- если изображено несколько графиков, то необходима поясняющая легенда;\n",
    "- все линии на графиках должны быть чётко видны (нет похожих цветов или цветов, сливающихся с фоном);\n",
    "- если отображена величина, имеющая очевидный диапазон значений (например, проценты могут быть от 0 до 100), то желательно масштабировать ось на весь диапазон значений (исключением является случай, когда вам необходимо показать малое отличие, которое незаметно в таких масштабах);\n",
    "- сетка на графике помогает оценить значения в точках на глаз, это обычно полезно, поэтому лучше ее отрисовывать;\n",
    "- если распределение на гистограмме имеет тяжёлые хвосты, лучше использовать логарифмическую шкалу.\n",
    "\n",
    "Каждый построенный график необходимо красиво оформить - для этого требуется как минимум указать его название, а также отметить, что изображено по каждой из осей.\n",
    "Также по каждому графику ожидается небольшой комментарий с выводами.\n",
    "\n",
    "*Функции, которые могут пригодиться при оформлении графиков: `.show()`, `.title()`, `.xlabel()`, `.ylabel()`*\n",
    "\n",
    "Еще одна билиотека для визуализации: [seaborn](https://jakevdp.github.io/PythonDataScienceHandbook/04.14-visualization-with-seaborn.html) (обычно сокращается до sns). Это настройка над matplotlib, иногда удобнее и красивее делать визуализации через неё.\n",
    "\n",
    "\n",
    "\n",
    "**5 пунктов после которых ваши графики не будут прежними:**\n",
    "- для красивой картинки <code>%config InlineBackend.figure_format = 'retina'</code>\n",
    "- задаем размер (почти) всех графиков (можно выбрать другие значения) <code>plt.rcParams['figure.figsize'] = 8, 5</code>\n",
    "- размер шрифта подписей графиков <code>plt.rcParams['font.size'] = 12</code>\n",
    "- формат в котором сохраняется изображение <code>mpl.rcParams['savefig.format'] = 'pdf'</code>\n",
    "- sns – seaborn, добавляет решетку <code>sns.set_style('darkgrid')</code>\n",
    "\n",
    "Добавьте эти функции в ячейку ниже. Каждый график все равно придется настраивать отдельно, но указанные строчки позволят значительно упростить процесс.  "
   ]
  },
  {
   "cell_type": "code",
   "execution_count": null,
   "metadata": {
    "colab": {
     "base_uri": "https://localhost:8080/",
     "height": 226
    },
    "id": "na9doUOFhLu1",
    "outputId": "ac6ceb69-3201-41af-8cb0-91c863f7ad98"
   },
   "outputs": [],
   "source": [
    "%matplotlib inline\n",
    "import matplotlib.pyplot as plt\n",
    "import seaborn as sns\n",
    "\n",
    "#настройка вывода информации на графиках\n",
    "%config InlineBackend.figure_format = 'retina'\n",
    "plt.rcParams['figure.figsize'] = 8, 5\n",
    "plt.rcParams['font.size'] = 12\n",
    "plt.rcParams['savefig.format'] = 'pdf'\n",
    "sns.set_style('darkgrid')\n",
    "\n",
    "battles_df.head()\n"
   ]
  },
  {
   "cell_type": "markdown",
   "metadata": {
    "id": "39Zzdh0EeA5f"
   },
   "source": [
    "Все задания, относящиеся к пункту II имеют равный вес (3/14)."
   ]
  },
  {
   "cell_type": "markdown",
   "metadata": {
    "id": "5UDhjOtHaunv"
   },
   "source": [
    "Вернемся к данным о сражениях из сериала \"Игра престолов\":"
   ]
  },
  {
   "cell_type": "markdown",
   "metadata": {
    "id": "kikwLpxfhLu1"
   },
   "source": [
    "#### 1. Выведите на экран круговую диаграмму распределения количества смертей. Какие Вы можете следать по ней выводы?\n",
    "Этот инструмент отлично подходит для визуализации собранных нами данных. На выбор предлагается множество графиков: столбик, линия, круговая диаграмма или диаграмма рассеяния."
   ]
  },
  {
   "cell_type": "code",
   "execution_count": 97,
   "metadata": {
    "colab": {
     "base_uri": "https://localhost:8080/",
     "height": 479
    },
    "id": "UTPLVeQvhLu2",
    "outputId": "d315003d-bc33-4e84-d404-11c85b564077"
   },
   "outputs": [
    {
     "name": "stdout",
     "output_type": "stream",
     "text": [
      "Data size: (38, 24)\n"
     ]
    },
    {
     "data": {
      "text/plain": [
       "([<matplotlib.patches.Wedge at 0x7f1aea06cdf0>,\n",
       "  <matplotlib.patches.Wedge at 0x7f1aea06d0f0>],\n",
       " [Text(-0.4952240298229685, 0.9822184890776083, 'Alive'),\n",
       "  Text(0.4952239378610339, -0.9822185354438242, 'Death')],\n",
       " [Text(-0.2701221980852555, 0.5357555394968772, '64.9%'),\n",
       "  Text(0.2701221479242003, -0.5357555647875404, '35.1%')])"
      ]
     },
     "execution_count": 97,
     "metadata": {},
     "output_type": "execute_result"
    },
    {
     "data": {
      "image/png": "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",
      "text/plain": [
       "<Figure size 800x500 with 1 Axes>"
      ]
     },
     "metadata": {
      "image/png": {
       "height": 428,
       "width": 405
      }
     },
     "output_type": "display_data"
    }
   ],
   "source": [
    "print(f\"Data size: {battles_df.shape}\")\n",
    "plt.title(\"Круговая диаграмма\")\n",
    "plt.pie(battles_df[\"major_death\"].value_counts(),labels=[\"Alive\",\"Death\"],autopct=\"%1.1f%%\")"
   ]
  },
  {
   "cell_type": "markdown",
   "metadata": {
    "id": "AmsQg9_xhLu2"
   },
   "source": [
    "Сохраните график в формате pdf (так он останется векторизованным)."
   ]
  },
  {
   "cell_type": "code",
   "execution_count": null,
   "metadata": {
    "id": "vKZNSwWghLu2"
   },
   "outputs": [],
   "source": [
    "plt.title(\"Круговая диаграмма\", fontsize=15)\n",
    "count = battles_df[\"major_death\"].value_counts()\n",
    "plt.pie(count, labels=[\"Alive\", \"Death\"], autopct='%1.1f%%')\n",
    "plt.savefig('pie.pdf', format='pdf')"
   ]
  },
  {
   "cell_type": "markdown",
   "metadata": {
    "id": "Wq-yI-4qqmxe"
   },
   "source": [
    "#### 2. Выведите на экран гистограмму, показывающую количество умерших людей по отношению к каждому дому."
   ]
  },
  {
   "cell_type": "code",
   "execution_count": 154,
   "metadata": {
    "id": "VQS-q-2aqmxe"
   },
<<<<<<< Updated upstream
   "outputs": [
    {
     "data": {
      "image/png": "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",
      "text/plain": [
       "<Figure size 800x500 with 1 Axes>"
      ]
     },
     "metadata": {
      "image/png": {
       "height": 651,
       "width": 680
      }
     },
     "output_type": "display_data"
    }
   ],
=======
   "outputs": [],
>>>>>>> Stashed changes
   "source": [
    "a = battles_df.groupby('attacker_1')['major_death'].sum()\n",
    "a.plot(kind='bar')\n",
    "plt.xlabel('Дом')\n",
    "plt.ylabel('Количество умерших')\n",
    "plt.show()"
   ]
  },
  {
   "cell_type": "markdown",
   "metadata": {
    "id": "1jC9nr2Cqmxe"
   },
   "source": [
    "#### 3. Выведите на экран диаграмму, используя библиотеку `seaborn`, которая бы наглядно показала количество битв, в которых король участвовал в качестве защитника"
   ]
  },
  {
   "cell_type": "code",
   "execution_count": null,
   "metadata": {
    "id": "rlW0y1nFqmxe"
   },
   "outputs": [],
   "source": [
    "plt.title(\"Кол-во битв, в которых король участвовал в качестве защитника\")\n",
    "\n",
    "ax = sns.countplot(data=battles_df, x=\"defender_king\")\n",
    "\n",
    "ax.set_xticklabels(ax.get_xticklabels(), rotation = 90)\n",
    "plt.xlabel('Король')\n",
    "plt.ylabel('Количество битв')\n",
    "plt.show()"
   ]
  },
  {
   "cell_type": "markdown",
   "metadata": {
    "id": "576mSF3Lqmxe"
   },
   "source": [
    "#### 4. Выведите на экран диаграмму, используя библиотеку `seaborn`, которая бы наглядно показала количество битв, в которых король участвовал в качестве атакующего"
   ]
  },
  {
   "cell_type": "code",
   "execution_count": null,
   "metadata": {
    "id": "vee2vgzHqmxe"
   },
   "outputs": [],
   "source": [
    "# your code\n",
    "plt.title('Кол-во битв, в которых король участвовал в качестве атакующего')\n",
    "ax = sns.countplot(data=battles_df, x=\"attacker_king\")\n",
    "ax.set_xticklabels(ax.get_xticklabels(), rotation = 90)\n",
    "plt.xlabel('Король')\n",
    "plt.ylabel('Количество битв')\n",
    "plt.show()"
   ]
  },
  {
   "cell_type": "markdown",
   "metadata": {
    "id": "Iw6ni5_uqmxe"
   },
   "source": [
    "#### 5. Выведите на экран диаграмму зависимости успеха атаки от числа защитников. Используйте \"ящик с усами\" из `seaborn`"
   ]
  },
  {
   "cell_type": "code",
   "execution_count": null,
   "metadata": {
    "id": "7tywtsAWqmxe"
   },
   "outputs": [],
   "source": [
    "sns.catplot(x=\"attacker_outcome\", y=\"defender_size\", data=battles_df, kind=\"box\")\n",
    "plt.show()"
   ]
  },
  {
   "cell_type": "markdown",
   "metadata": {
    "id": "ngRs4V9_qmxf"
   },
   "source": [
    "#### 6. Приведите ниже диаграмму, которая показывает, как количество серьезных смертей повлияло на результат битвы для атакующего ('Влияние гибели командира на исход битвы')."
   ]
  },
  {
   "cell_type": "code",
   "execution_count": null,
   "metadata": {
    "id": "JxDRLeb5qmxf"
   },
   "outputs": [],
   "source": [
    "grouped_data = battles_df.groupby(['major_death', 'attacker_outcome']).size().unstack()\n",
    "\n",
    "grouped_data.plot(kind='bar', stacked=True, figsize=(10, 6))\n",
    "plt.title('Влияние гибели командира на исход битвы')\n",
    "plt.xlabel('Количество серьезных смертей')\n",
    "plt.ylabel('Количество битв')\n",
    "\n",
    "plt.show()"
   ]
  },
  {
   "cell_type": "markdown",
   "metadata": {
    "id": "-Smd75jUqmxf"
   },
   "source": [
    "#### 7. Приведите ниже диаграмму, которая показывает, как количество крупных захватов повлияло на результат боя для атакующего ('Влияние пленения командира на исход битвы')."
   ]
  },
  {
   "cell_type": "code",
   "execution_count": null,
   "metadata": {
    "id": "i0FlMQUrqmxf"
   },
   "outputs": [],
   "source": [
    "grouped_data = battles_df.groupby(['major_capture', 'attacker_outcome']).size().unstack()\n",
    "\n",
    "grouped_data.plot(kind='bar', stacked=True, figsize=(10, 6))\n",
    "plt.title('Влияние захвата командира на исход битвы')\n",
    "plt.xlabel('Количество захватов')\n",
    "plt.ylabel('Количество битв')\n",
    "\n",
    "plt.show()"
   ]
  },
  {
   "cell_type": "markdown",
   "metadata": {
    "id": "c3ifNyOqSnrz"
   },
   "source": [
    "# И ещё немного EDA и визуализаций"
   ]
  },
  {
   "cell_type": "markdown",
   "metadata": {
    "id": "8gY_INKJThW6"
   },
   "source": [
    "Теперь поработаетм с такой задачей, как задача кредитного скоринга (оценка надёжности клиента).\n",
    "\n",
    "Предоставляются данные о 1000 клиентов, про которых известно около 20 признаков и положительная или отрицательная оценка в качестве кредитуемого. Эти данные нужно будет подготовить, исследовать (в том числе с помощью средств визуализации) и даже попробовать предложить какую-нибудь формулу для условной оценки надёжности клиентов исходя из предоставленных данных. Описание данных:\n",
    "https://www.rdocumentation.org/packages/evtree/versions/1.0-8/topics/GermanCredit\n",
    "\n"
   ]
  },
  {
   "cell_type": "markdown",
   "metadata": {
    "id": "otLtn4NIUMw1"
   },
   "source": [
    "8. Прочитайте средствами pandas файл с данными `german_credit.csv`. Выведите базовое представление таблицы (первые 5 и последние 5 строк, размер)."
   ]
  },
  {
   "cell_type": "code",
   "execution_count": 135,
   "metadata": {},
   "outputs": [
    {
     "data": {
      "text/plain": [
       "Index(['duration', 'credit_history', 'purpose', 'amount', 'savings',\n",
       "       'employment_duration', 'installment_rate', 'personal_status_sex',\n",
       "       'other_debtors', 'present_residence', 'property', 'age',\n",
       "       'other_installment_plans', 'housing', 'number_credits', 'job',\n",
       "       'people_liable', 'telephone', 'foreign_worker', 'credit_risk'],\n",
       "      dtype='object')"
      ]
     },
     "execution_count": 135,
     "metadata": {},
     "output_type": "execute_result"
    }
   ],
   "source": [
    "german_credit_df.columns"
   ]
  },
  {
   "cell_type": "code",
   "execution_count": 134,
   "metadata": {},
   "outputs": [],
   "source": [
    "german_credit_df.shape"
   ]
  },
  {
   "cell_type": "code",
   "execution_count": null,
   "metadata": {
    "id": "dwByl1fKSmQc"
   },
   "outputs": [],
   "source": [
    "german_credit_df.head(5)"
   ]
  },
  {
   "cell_type": "code",
   "execution_count": null,
   "metadata": {},
   "outputs": [],
   "source": [
    "german_credit_df.tail(5)"
   ]
  },
  {
   "cell_type": "markdown",
   "metadata": {
    "id": "DS62tFQ3Ujtg"
   },
   "source": [
    "\n",
    "9. Рассмотрим сравнительное количество положительных и отрицательных кейсов в зависимости от размера текущего счёта. Постройте зеркальные горизонтальные гистограммы."
   ]
  },
  {
   "cell_type": "code",
   "execution_count": 161,
   "metadata": {
    "id": "KDoRz6h-U9lR"
   },
   "outputs": [
    {
     "data": {
      "image/png": "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",
      "text/plain": [
       "<Figure size 800x500 with 1 Axes>"
      ]
     },
     "metadata": {
      "image/png": {
       "height": 430,
       "width": 696
      }
     },
     "output_type": "display_data"
    }
   ],
   "source": [
    "plt.barh(german_credit_df[\"amount\"], german_credit_df[\"credit_risk\"], edgecolor='black')\n",
    "\n",
    "plt.show()"
   ]
  },
  {
   "cell_type": "markdown",
   "metadata": {
    "id": "u7PddnyKUjig"
   },
   "source": [
    "10. Теперь постройте гистограмму для сравнения количества положительных и отрицательных кейсов в зависимости от размера сберегательного счёта с помощью seaborn. Какой способ вам больше нравится с точки зрения трудоёмкости написания кода? А с точки зрения восприятия результата? (используйте `seaborn`)"
   ]
  },
  {
   "cell_type": "code",
   "execution_count": null,
   "metadata": {
    "id": "wHa7SboDUi6l"
   },
   "outputs": [],
   "source": [
    "# your code"
   ]
  },
  {
   "cell_type": "markdown",
   "metadata": {
    "id": "UYUKNLm_Vcb0"
   },
   "source": [
    "11. `seaborn` легко позволяет добавить ещё больше информации на один график. Для каждого размера сберегательного счёта мы можем оценить не только количество положительных и отрицательных кейсов, но и их распределение по возрасту, например. Постройте подходящую для этого визуализацию."
   ]
  },
  {
   "cell_type": "code",
   "execution_count": null,
   "metadata": {
    "id": "AvsmsGrIVgBE"
   },
   "outputs": [],
   "source": [
    "# your code"
   ]
  },
  {
   "cell_type": "markdown",
   "metadata": {
    "id": "qu69orsNViiu"
   },
   "source": [
    "12. Заканчивая с гистограммами, посмотрим на распределение положительных и отрицательных кейсов по возрастам, разместив их друг над другом. Добавим распределение всех взятых кредитов."
   ]
  },
  {
   "cell_type": "code",
   "execution_count": null,
   "metadata": {
    "id": "ap-TJUs-VgmB"
   },
   "outputs": [],
   "source": [
    "# your code here"
   ]
  },
  {
   "cell_type": "markdown",
   "metadata": {
    "id": "HlDnZ3xiVpNO"
   },
   "source": [
    "13. Не менее полезной иногда может быть диаграмма рассеяния. Постройте такую диаграмму с продолжительностью и размерами кредитов в качестве осей. Обозначьте положительные и отрицательные кейсы разными цветами."
   ]
  },
  {
   "cell_type": "code",
   "execution_count": null,
   "metadata": {
    "id": "VwXLYYEGVxEz"
   },
   "outputs": [],
   "source": [
    "# your code here"
   ]
  },
  {
   "cell_type": "markdown",
   "metadata": {
    "id": "w5-TASo4VvYv"
   },
   "source": [
    "14. Продвинемся глубже. Постройте 3D версию диаграммы рассеяния, добавив ось с возрастом."
   ]
  },
  {
   "cell_type": "code",
   "execution_count": null,
   "metadata": {
    "id": "4b4LpuSNVvJP"
   },
   "outputs": [],
   "source": [
    "# your code here"
   ]
  },
  {
   "cell_type": "markdown",
   "metadata": {
    "id": "6QPVKZgpqmxf"
   },
   "source": [
    "## III. NumPy\n",
    "\n",
    "\n",
    "Далее вы попрактикуетесь в работе с библиотекой numpy, которая позволяет сравнительно легко и удобно выполнять разнообразные вычисления, избегая самостоятельной реализации поэлементной обработки.\n",
    "\n",
    "Во всех задачах необходимо написать код решения внутри функции и убедиться, что она работает, с помощью assert на выражение с использованием этой функции для данных из условия.\n",
    "\n",
    "При решении задач запрещается использовать циклы (for, while) и оператор if.\n",
    "\n",
    "Везде, где встречаются массивы или матрицы, подразумевается, что это numpy.array.\n",
    "\n",
    "numpy reference: https://numpy.org/doc/stable/reference/index.html"
   ]
  },
  {
   "cell_type": "markdown",
   "metadata": {
    "id": "0fVDag9vqmxf"
   },
   "source": [
    "\n",
    "\n",
    "**NumPy** — библиотека языка Python, позволяющая (удобно) работать с многомерными массивами и матрицами. Кроме того, NumPy позволяет векторизовать многие вычисления, имеющие место в машинном обучении.\n",
    "\n",
    " - [numpy](http://www.numpy.org)\n",
    " - [numpy tutorial](http://cs231n.github.io/python-numpy-tutorial/)\n",
    " - [100 numpy exercises](http://www.labri.fr/perso/nrougier/teaching/numpy.100/)\n",
    "\n",
    "Кстати, про NumPy недавно вышла [публикация](https://www.nature.com/articles/s41586-020-2649-2) в Nature.\n",
    "\n",
    "Все задания ниже имеют равный вес (3/10)."
   ]
  },
  {
   "cell_type": "markdown",
   "metadata": {
    "id": "Fn2Y0xz5qmxf"
   },
   "source": [
    "#### Задача NumPy-1\n",
    "Напишите функцию, возвращающую округленную взвешенную сумму оценок по данным оценкам и весам. Можете посчитать свою оценку за курс :) В нашем случае вес экзамена равен 0.3, вес домашек - 0.4, вес контрольной - 0.2, вес самостоятельных - 0.1. Например, если за экзамен у вас 7, за домашки 10, за контрольную 8, а за самостоятельные 6, то вы получите отличную оценку 8!"
   ]
  },
  {
   "cell_type": "code",
   "execution_count": null,
   "metadata": {
    "id": "NYkbG5qTqmxf"
   },
   "outputs": [],
   "source": [
    "import numpy as np\n",
    "def result_mark(weights: np.array, marks: np.array) -> int:\n",
    "  return int(np.sum(weights * marks))"
   ]
  },
  {
   "cell_type": "code",
   "execution_count": null,
   "metadata": {
    "id": "AICLuEQ1qmxf"
   },
   "outputs": [],
   "source": [
    "weights = np.array([0.3, 0.4, 0.2, 0.1])\n",
    "marks = np.array([7, 10, 8, 6])\n",
    "#print(result_mark(weights, marks))\n",
    "assert result_mark(weights, marks) == 8"
   ]
  },
  {
   "cell_type": "code",
   "execution_count": null,
   "metadata": {
    "id": "68KYXW9Uqmxf"
   },
   "outputs": [],
   "source": [
    "weights = np.array([0.3, 0.4, 0.2, 0.1])\n",
    "marks = np.array([7, 0, 8, 6])\n",
    "\n",
    "assert result_mark(weights, marks) == 4"
   ]
  },
  {
   "cell_type": "markdown",
   "metadata": {
    "id": "AxlTeiTQXE5T"
   },
   "source": [
    "#### Задача NumPy-2\n",
    "Напишите функцию, меняющую каждое третье (начиная с 0) значение массива целых чисел на заданное число. Например, если на вход поступает массив `array([3, 5, 1, 0, -3, 22, 213436])` и число `-111`, то на выходе должен получиться массив `array([-111, 5, 1, -111, -3, 22, -111])`."
   ]
  },
  {
   "cell_type": "code",
   "execution_count": null,
   "metadata": {
    "id": "8oJe-EmTXES1"
   },
   "outputs": [],
   "source": [
    "def change_array(array: np.array, number: int) -> np.array:\n",
    "    array[::3] = number\n",
    "    return array"
   ]
  },
  {
   "cell_type": "code",
   "execution_count": null,
   "metadata": {
    "id": "2vYNvOJMXMLL"
   },
   "outputs": [],
   "source": [
    "array = np.array([3, 5, 1, 0, -3, 22, 213436])\n",
    "number = -111\n",
    "#print(change_array(array, number))\n",
    "assert np.allclose(change_array(array, number), np.array([-111, 5, 1, -111, -3, 22, -111]))"
   ]
  },
  {
   "cell_type": "code",
   "execution_count": null,
   "metadata": {
    "id": "D0xG3vE0XMim"
   },
   "outputs": [],
   "source": [
    "array = np.array([3, 14, 15, 92, 6])\n",
    "number = 8\n",
    "\n",
    "assert np.allclose(change_array(array, number), np.array([8, 14, 15, 8, 6]))"
   ]
  },
  {
   "cell_type": "markdown",
   "metadata": {
    "id": "36q_qmJoXWOw"
   },
   "source": [
    "#### Задача NumPy-3\n",
    "\n",
    "Напишите функцию, выдающую индексы «близких» элементов заданных массивов, а именно тех пар элементов, чей модуль разницы не превосходит заданного значения. Например, если на вход поступают массив `array([1.5, 0.5, 2, -4.1, -3, 6, -1])`, массив `array([1.2, 0.5, 1, -4, 3, 0, -1.2])` и число `0.5`, то на выходе должен получиться массив `array([0, 1, 3, 6])` (**важно: не `tuple`, а одномерный массив типа `numpy.ndarray` (то есть `.ndim` от него равно 1)!**)."
   ]
  },
  {
   "cell_type": "code",
   "execution_count": null,
   "metadata": {
    "id": "9CeKTj1-XVg0"
   },
   "outputs": [],
   "source": [
    "def find_close(array1: np.array, array2: np.array,\n",
    "               precision: float) -> np.array:\n",
    "       return  np.where(abs(array1 - array2) <= precision)[0]"
   ]
  },
  {
   "cell_type": "code",
   "execution_count": null,
   "metadata": {
    "id": "YpnDZK0QXbIu"
   },
   "outputs": [],
   "source": [
    "array1 = np.array([1.5, 0.5, 2, -4.1, -3, 6, -1])\n",
    "array2 = np.array([1.2, 0.5, 1, -4.0,  3, 0, -1.2])\n",
    "precision = 0.5\n",
    "res = find_close(array1, array2, precision)\n",
    "\n",
    "assert res.ndim == 1\n",
    "assert np.allclose(res, np.array([0, 1, 3, 6]))"
   ]
  },
  {
   "cell_type": "code",
   "execution_count": null,
   "metadata": {
    "id": "ulVhgO6zXdfa"
   },
   "outputs": [],
   "source": [
    "array1 = np.array([3.1415, 2.7182, 1.6180, 6.6261])\n",
    "array2 = np.array([6.6730, 1.3807, -1,     6.0222])\n",
    "precision = 1.7\n",
    "res = find_close(array1, array2, precision)\n",
    "\n",
    "assert res.ndim == 1\n",
    "assert np.allclose(res, np.array([1, 3]))"
   ]
  },
  {
   "cell_type": "markdown",
   "metadata": {
    "id": "yAxzSrx-Xk5V"
   },
   "source": [
    "#### Задача NumPy-4\n",
    "Напишите функцию, которая составляет блочную матрицу из четырех блоков, где каждый блок - это заданная матрица. Например, если на вход поступает матрица\n",
    "$$\n",
    "\\begin{pmatrix}\n",
    "0 & 1 & 2\\\\\n",
    "3 & 4 & 5\\\\\n",
    "\\end{pmatrix},\n",
    "$$\n",
    "то ответом будет матрица\n",
    "$$\n",
    "\\begin{pmatrix}\n",
    "0 & 1 & 2 & 0 & 1 & 2\\\\\n",
    "3 & 4 & 5 & 3 & 4 & 5\\\\\n",
    "0 & 1 & 2 & 0 & 1 & 2\\\\\n",
    "3 & 4 & 5 & 3 & 4 & 5\\\\\n",
    "\\end{pmatrix}\n",
    "$$"
   ]
  },
  {
   "cell_type": "code",
   "execution_count": null,
   "metadata": {
    "id": "FrFqtoXQXkBO"
   },
   "outputs": [],
   "source": [
    "def block_matrix(block: np.array) -> np.array:\n",
    "    return np.tile(block,(2,2))\n"
   ]
  },
  {
   "cell_type": "code",
   "execution_count": null,
   "metadata": {
    "id": "JVbERmC4XrFu"
   },
   "outputs": [],
   "source": [
    "block = np.array([[1, 3, 3], [7, 0, 0]])\n",
    "\n",
    "assert np.allclose(\n",
    "    block_matrix(block),\n",
    "    np.array([[1, 3, 3, 1, 3, 3],\n",
    "              [7, 0, 0, 7, 0, 0],\n",
    "              [1, 3, 3, 1, 3, 3],\n",
    "              [7, 0, 0, 7, 0, 0]])\n",
    ")"
   ]
  },
  {
   "cell_type": "markdown",
   "metadata": {
    "id": "1JtlkjJFXvQU"
   },
   "source": [
    "#### Задача NumPy-5\n",
    "Напишите функцию, вычисляющую произведение всех ненулевых диагональных элементов на диагонали данной квадратной матрицы. Например, если на вход поступает матрица\n",
    "$$\n",
    "\\begin{pmatrix}\n",
    "0 & 1 & 2\\\\\n",
    "3 & 4 & 5\\\\\n",
    "6 & 7 & 8\\\\\n",
    "\\end{pmatrix},\n",
    "$$\n",
    "то ответом будет 32.\n",
    "\n",
    "Элементы матрицы считать целочисленными."
   ]
  },
  {
   "cell_type": "code",
   "execution_count": null,
   "metadata": {
    "id": "8zfqCvgBXvnO"
   },
   "outputs": [],
   "source": [
    "def diag_prod(matrix: np.array) -> int:\n",
    "  return np.array([a if a !=0 else 1 for a in  np.diag(matrix)]).prod()"
   ]
  },
  {
   "cell_type": "code",
   "execution_count": null,
   "metadata": {
    "id": "IqMxXJQYX2rj"
   },
   "outputs": [],
   "source": [
    "matrix = np.array([[0, 1, 2, 3],\n",
    "                   [4, 5, 6, 7],\n",
    "                   [8, 9, 10, 11],\n",
    "                   [12, 13, 14, 15]])\n",
    "\n",
    "assert diag_prod(matrix) == 750"
   ]
  },
  {
   "cell_type": "markdown",
   "metadata": {
    "id": "nYh2_sXpqmxf"
   },
   "source": [
    "####  Задача NumPy-6\n",
    "Для улучшения качества работы некоторых алгоритмов машинного обучения может быть полезно использовать [нормализацию данных](https://vk.cc/8xmfQk), чтобы привести признаки в выборке к одному масштабу — а именно, из каждого столбца вычесть среднее его значений и поделить на их стандартное отклонение. Напишите функцию, нормализующую входящую матрицу (по столбцам). Например, если на вход подается матрица\n",
    "$$\n",
    "\\begin{pmatrix}\n",
    "1 & 4 & 4200\\\\\n",
    "0 & 10 & 5000\\\\\n",
    "1 & 2 & 1000\\\\\n",
    "\\end{pmatrix},\n",
    "$$\n",
    "то результатом с точностью до сотых будет матрица\n",
    "$$\n",
    "\\begin{pmatrix}\n",
    "0.71 & -0.39 & 0.46\\\\\n",
    "-1.41 & 1.37 & 0.93\\\\\n",
    "0.71 & -0.98 & -1.39\\\\\n",
    "\\end{pmatrix}\n",
    "$$\n",
    "\n",
    "Учтите, что в вашем матрице не должно получаться никаких nan. Подумайте, в каком случае они могут возникнуть и как обойти эту проблему.\n",
    "\n",
    "_Подсказка. Казалось бы, при чем тут деление на ноль._"
   ]
  },
  {
   "cell_type": "code",
   "execution_count": null,
   "metadata": {
    "id": "mEX6OOFCqmxg"
   },
   "outputs": [],
   "source": [
    "def normalize(matrix: np.array) -> np.array:\n",
    "    # your code here\n",
    "    #return matrix - np.mean(matrix,axis=0) / np.var(matrix, axis=0)\n",
    "    return (matrix - np.mean(matrix,axis=0)) / np.sqrt(np.var(matrix, axis=0))"
   ]
  },
  {
   "cell_type": "code",
   "execution_count": null,
   "metadata": {
    "colab": {
     "base_uri": "https://localhost:8080/"
    },
    "id": "Dsg4QXmQqmxg",
    "outputId": "90888e89-c84a-442a-e27c-324dafac7b2a"
   },
   "outputs": [],
   "source": [
    "matrix = np.array([[1, 4, 4200], [0, 10, 5000], [1, 2, 1000]])\n",
    "\n",
    "print(normalize(matrix))\n",
    "\n",
    "assert np.allclose(\n",
    "    normalize(matrix),\n",
    "    np.array([[ 0.7071, -0.39223,  0.46291],\n",
    "              [-1.4142,  1.37281,  0.92582],\n",
    "              [ 0.7071, -0.98058, -1.38873]])\n",
    ")"
   ]
  },
  {
   "cell_type": "code",
   "execution_count": null,
   "metadata": {
    "id": "yQ9lTpIVqmxg"
   },
   "outputs": [],
   "source": [
    "matrix = np.array([[-7, 2, 42], [2, 10, 50], [5, 4, 10]])\n",
    "\n",
    "assert np.allclose(\n",
    "    normalize(matrix),\n",
    "    np.array([[-1.37281, -0.98058,  0.46291],\n",
    "              [ 0.39223,  1.37281,  0.92582],\n",
    "              [ 0.98058, -0.39223, -1.38873]])\n",
    ")"
   ]
  },
  {
   "cell_type": "markdown",
   "metadata": {
    "id": "id5OgPpoX-7_"
   },
   "source": [
    " #### Задача NumPy-7\n",
    "\n",
    " Напишите функцию, вычисляющую какую-нибудь первообразную данного полинома (в качестве константы возьмите $0$). Например, если на вход поступает массив коэффициентов `array([4, 6, 0, 1])`, что соответствует полиному $4x^3 + 6x^2 + 1$, на выходе получается массив коэффициентов `array([1, 2, 0, 1, -2])`, соответствующий полиному $x^4 + 2x^3 + x - 2$."
   ]
  },
  {
   "cell_type": "code",
   "execution_count": null,
   "metadata": {
    "id": "VWPjNjSzX-VN"
   },
   "outputs": [],
   "source": [
    "def antiderivative(coefs: np.array) -> np.array:\n",
    "    # your code here\n",
    "    res = list(coefs / np.array(range(len(coefs),0,-1)))\n",
    "    res.append(0)\n",
    "    return res"
   ]
  },
  {
   "cell_type": "code",
   "execution_count": null,
   "metadata": {
    "colab": {
     "base_uri": "https://localhost:8080/"
    },
    "id": "paNTR2DFYGKk",
    "outputId": "37011cd4-0a14-4657-a8e2-dac83849f6d5"
   },
   "outputs": [],
   "source": [
    "coefs = np.array([4, 6, 0, 1])\n",
    "print(antiderivative(coefs))\n",
    "assert np.allclose(\n",
    "    antiderivative(coefs),\n",
    "    np.array([1., 2., 0., 1., 0.])\n",
    ")"
   ]
  },
  {
   "cell_type": "code",
   "execution_count": null,
   "metadata": {
    "id": "GQrWaef1YIVS"
   },
   "outputs": [],
   "source": [
    "coefs = np.array([1, 7, -12, 21, -6])\n",
    "\n",
    "assert np.allclose(\n",
    "    antiderivative(coefs),\n",
    "    np.array([ 0.2, 1.75, -4., 10.5, -6., 0.])\n",
    ")"
   ]
  },
  {
   "cell_type": "markdown",
   "metadata": {
    "id": "yVUjo56OYPP6"
   },
   "source": [
    "#### Задача NumPy-8\n",
    "\n",
    "Напишите функцию, делающую данную [треугольную матрицу](https://ru.wikipedia.org/wiki/%D0%A2%D1%80%D0%B5%D1%83%D0%B3%D0%BE%D0%BB%D1%8C%D0%BD%D0%B0%D1%8F_%D0%BC%D0%B0%D1%82%D1%80%D0%B8%D1%86%D0%B0) симметричной. Например, если на вход поступает матрица\n",
    "$$\n",
    "\\begin{pmatrix}\n",
    "1 & 2 & 3 & 4\\\\\n",
    "0 & 5 & 6 & 7\\\\\n",
    "0 & 0 & 8 & 9\\\\\n",
    "0 & 0 & 0 & 10\\\\\n",
    "\\end{pmatrix},\n",
    "$$\n",
    "то на выходе должна быть матрица\n",
    "$$\n",
    "\\begin{pmatrix}\n",
    "1 & 2 & 3 & 4\\\\\n",
    "2 & 5 & 6 & 7\\\\\n",
    "3 & 6 & 8 & 9\\\\\n",
    "4 & 7 & 9 & 10\\\\\n",
    "\\end{pmatrix}.\n",
    "$$"
   ]
  },
  {
   "cell_type": "code",
   "execution_count": null,
   "metadata": {
    "id": "k3Ln_C0TYOmX"
   },
   "outputs": [],
   "source": [
    "def make_symmetric(matrix: np.array) -> np.array:\n",
    "    # your code here\n",
    "    return matrix.T + matrix - np.diag(np.diag(matrix))"
   ]
  },
  {
   "cell_type": "code",
   "execution_count": null,
   "metadata": {
    "id": "V6Jg-lpoYfX-"
   },
   "outputs": [],
   "source": [
    "matrix = np.array([[1, 2, 3, 4], [0, 5, 6, 7], [0, 0, 8, 9], [0, 0, 0, 10]])\n",
    "\n",
    "assert np.allclose(\n",
    "    make_symmetric(matrix),\n",
    "    np.array([[ 1,  2,  3,  4],\n",
    "              [ 2,  5,  6,  7],\n",
    "              [ 3,  6,  8,  9],\n",
    "              [ 4,  7,  9, 10]])\n",
    ")"
   ]
  },
  {
   "cell_type": "code",
   "execution_count": null,
   "metadata": {
    "id": "SG4VXJN3YXBq"
   },
   "outputs": [],
   "source": [
    "matrix = np.array([[10, 21, 32, 49], [0, 53, 62, 78], [0, 0, 82, 92], [0, 0, 0, 10]])\n",
    "\n",
    "assert np.allclose(\n",
    "    make_symmetric(matrix),\n",
    "    np.array([[10, 21, 32, 49],\n",
    "              [21, 53, 62, 78],\n",
    "              [32, 62, 82, 92],\n",
    "              [49, 78, 92, 10]])\n",
    ")"
   ]
  },
  {
   "cell_type": "markdown",
   "metadata": {
    "id": "2tNcnHiDYXo6"
   },
   "source": [
    "#### Задача NumPy-9\n",
    "\n",
    "Напишите функцию, создающую прямоугольную матрицу из m одинаковых строк, заполненных последовательными натуральными числами от a до b включительно в возрастающем порядке. Например, если m = 5, a = 3, b = 10, то на выходе будет матрица\n",
    "$$\n",
    "\\begin{pmatrix}\n",
    "3 & 4 & 5 & 6 & 7 & 8 & 9 & 10\\\\\n",
    "3 & 4 & 5 & 6 & 7 & 8 & 9 & 10\\\\\n",
    "3 & 4 & 5 & 6 & 7 & 8 & 9 & 10\\\\\n",
    "3 & 4 & 5 & 6 & 7 & 8 & 9 & 10\\\\\n",
    "3 & 4 & 5 & 6 & 7 & 8 & 9 & 10\\\\\n",
    "\\end{pmatrix}\n",
    "$$"
   ]
  },
  {
   "cell_type": "code",
   "execution_count": null,
   "metadata": {
    "id": "4DtNF8p9Yjcs"
   },
   "outputs": [],
   "source": [
    "def construct_matrix(m: int, a: int, b: int) -> np.array:\n",
    "    # your code here\n",
    "    return np.tile(np.array(range(a,b+1)), (m,1))"
   ]
  },
  {
   "cell_type": "code",
   "execution_count": null,
   "metadata": {
    "id": "oAXQfWmTYj8t"
   },
   "outputs": [],
   "source": [
    "m = 5\n",
    "a = 3\n",
    "b = 10\n",
    "\n",
    "assert np.allclose(\n",
    "    construct_matrix(m, a, b),\n",
    "    np.array([[ 3,  4,  5,  6,  7,  8,  9, 10],\n",
    "              [ 3,  4,  5,  6,  7,  8,  9, 10],\n",
    "              [ 3,  4,  5,  6,  7,  8,  9, 10],\n",
    "              [ 3,  4,  5,  6,  7,  8,  9, 10],\n",
    "              [ 3,  4,  5,  6,  7,  8,  9, 10]])\n",
    ")"
   ]
  },
  {
   "cell_type": "code",
   "execution_count": null,
   "metadata": {
    "id": "nr4Sh8GXYlay"
   },
   "outputs": [],
   "source": [
    "m = 3\n",
    "a = 2\n",
    "b = 6\n",
    "\n",
    "assert np.allclose(\n",
    "    construct_matrix(m, a, b),\n",
    "    np.array([[2, 3, 4, 5, 6],\n",
    "              [2, 3, 4, 5, 6],\n",
    "              [2, 3, 4, 5, 6]])\n",
    ")"
   ]
  },
  {
   "cell_type": "markdown",
   "metadata": {
    "id": "XnZZ7H43qmxg"
   },
   "source": [
    "#### Задача NumPy-10\n",
    "\n",
    "Напишите функцию, вычисляющую [косинусную близость](https://en.wikipedia.org/wiki/Cosine_similarity) двух векторов. Например, если на вход поступают вектора `array([-2, 1, 0, -5, 4, 3, -3])` и `array([0, 2, -2, 10, 6, 0, 0])`, ответом будет -0.25."
   ]
  },
  {
   "cell_type": "markdown",
   "metadata": {
    "id": "uY_OY6inhLu7"
   },
   "source": [
    "Вставьте картинку, описывающую ваш опыт выполнения этого задания:"
   ]
  },
  {
   "cell_type": "code",
   "execution_count": null,
   "metadata": {
    "id": "HbEFWVajqmxg"
   },
   "outputs": [],
   "source": [
    "def cosine_similarity(vec1: np.array, vec2: np.array) -> float:\n",
    "    # your code here\n",
    "    return vec1 @ vec2 / (np.linalg.norm(vec1) * np.linalg.norm(vec2))"
   ]
  },
  {
   "cell_type": "code",
   "execution_count": null,
   "metadata": {
    "colab": {
     "base_uri": "https://localhost:8080/"
    },
    "id": "g0O77__uqmxg",
    "outputId": "be210d67-a542-4b78-da7f-883bc1fcccfc"
   },
   "outputs": [],
   "source": [
    "vec1 = np.array([-2, 1,  0, -5, 4, 3, -3])\n",
    "vec2 = np.array([ 0, 2, -2, 10, 6, 0,  0])\n",
    "print(cosine_similarity(vec1, vec2))\n",
    "assert np.allclose(cosine_similarity(vec1, vec2), -0.25)"
   ]
  },
  {
   "cell_type": "code",
   "execution_count": null,
   "metadata": {
    "id": "Qbjcu5BLqmxg"
   },
   "outputs": [],
   "source": [
    "vec1 = np.array([-2, 1,  0, -5, 4, 3, -3])\n",
    "vec2 = np.array([ 0, 2, -2, 10, 6, 0,  0])\n",
    "\n",
    "assert np.allclose(cosine_similarity(vec1, vec2), -0.25)"
   ]
  },
  {
   "cell_type": "markdown",
   "metadata": {
    "id": "RQSLfvJRqmxg"
   },
   "source": [
    "# Бонусное задание (0.01 балла)\n",
    "\n",
    "Наступило прекрасное время --- весна. Напишите и/или прикрепите примеры того, как вы занимаетесь дейстельностью, которая вас радует этой весной."
   ]
  },
  {
   "cell_type": "code",
   "execution_count": null,
   "metadata": {
    "id": "uPbYmoljPtOB"
   },
   "outputs": [],
   "source": [
    "# ٩(◕‿◕｡)۶"
   ]
  },
  {
   "cell_type": "markdown",
   "metadata": {
    "id": "ZdUuTiomPqfL"
   },
   "source": [
    "Для удобства проверки настоятельно рекомендуется самостоятельно посчитать свою максимальную оценку (исходя из набора решенных задач) и указать ниже.\n",
    "\n",
    "### Оценка: xx."
   ]
  }
 ],
 "metadata": {
  "colab": {
   "provenance": []
  },
  "kernelspec": {
   "display_name": "Python 3",
   "language": "python",
   "name": "python3"
  },
  "language_info": {
   "codemirror_mode": {
    "name": "ipython",
    "version": 3
   },
   "file_extension": ".py",
   "mimetype": "text/x-python",
   "name": "python",
   "nbconvert_exporter": "python",
   "pygments_lexer": "ipython3",
   "version": "3.10.12"
  },
  "toc": {
   "base_numbering": 1,
   "nav_menu": {},
   "number_sections": true,
   "sideBar": true,
   "skip_h1_title": false,
   "title_cell": "Table of Contents",
   "title_sidebar": "Contents",
   "toc_cell": false,
   "toc_position": {
    "height": "calc(100% - 180px)",
    "left": "10px",
    "top": "150px",
    "width": "599.006px"
   },
   "toc_section_display": true,
   "toc_window_display": false
  },
  "varInspector": {
   "cols": {
    "lenName": 16,
    "lenType": 16,
    "lenVar": 40
   },
   "kernels_config": {
    "python": {
     "delete_cmd_postfix": "",
     "delete_cmd_prefix": "del ",
     "library": "var_list.py",
     "varRefreshCmd": "print(var_dic_list())"
    },
    "r": {
     "delete_cmd_postfix": ") ",
     "delete_cmd_prefix": "rm(",
     "library": "var_list.r",
     "varRefreshCmd": "cat(var_dic_list()) "
    }
   },
   "types_to_exclude": [
    "module",
    "function",
    "builtin_function_or_method",
    "instance",
    "_Feature"
   ],
   "window_display": false
  },
  "vscode": {
   "interpreter": {
    "hash": "e7370f93d1d0cde622a1f8e1c04877d8463912d04d973331ad4851f04de6915a"
   }
  }
 },
 "nbformat": 4,
 "nbformat_minor": 1
}

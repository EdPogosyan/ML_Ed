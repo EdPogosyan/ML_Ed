{
 "cells": [
  {
   "cell_type": "markdown",
   "metadata": {
    "id": "HcF9My_FhLuk"
   },
   "source": [
    "<div class=\"alert alert-success\">\n",
    "    \n",
    "## Машинное обучение\n",
    "\n",
    "## Практическое домашнее задание 1\n",
    "\n",
    "### Общая информация\n",
    "\n",
    "Смотрите на даты мягкого и жёсткого дедлайна на странице в ноушне"
   ]
  },
  {
   "cell_type": "markdown",
   "metadata": {
    "id": "G64TptyJhLuo"
   },
   "source": [
    "### О задании\n",
    "\n",
    "Задание состоит из трех небольших разделов, посвященных работе с табличными данными с помощью библиотеки pandas, визуализации с помощью matplotlib и маленькой задачки на использование numpy.\n",
    "\n",
    "Баллы даются за выполнение отдельных пунктов. Задачи в рамках одного раздела рекомендуется решать в том порядке, в котором они даны в задании.\n",
    "\n",
    "Задание направлено на освоение `jupyter notebook` (будет использоваться в дальнейших заданиях), библиотек `pandas`, `numpy` и `matplotlib`/`seaborn`.\n",
    "\n",
    "Большинство пакетов можно поставить через питоновский установщик pip, но проще установить [Anaconda](https://www.anaconda.com/products/distribution) с python3 – там будет уже куча нужных библиотек.\n",
    "\n",
    "### Оценивание и штрафы\n",
    "Каждая из задач имеет определенную «стоимость» (указана в скобках около задачи). Максимально допустимая оценка за работу — 10 баллов.\n",
    "\n",
    "Сдавать задание после жёсткого дедлайна нельзя. При выставлении неполного балла за задание в связи с наличием ошибок на усмотрение проверяющего предусмотрена возможность исправить работу на указанных в ответном письме условиях.\n",
    "\n",
    "Задание выполняется самостоятельно. «Похожие» решения считаются плагиатом и все задействованные студенты (в том числе те, у кого списали) не могут получить за него больше 0 баллов. Если вы нашли решение какого-то из заданий (или его часть) в открытом источнике, необходимо указать ссылку на этот источник (скорее всего вы будете не единственным, кто это нашел, поэтому чтобы исключить подозрение в плагиате, необходима ссылка на источник).\n",
    "\n",
    "### Формат сдачи\n",
    "Задания следует отправлять в гугл-форму по ссылке, прикрепленной в ноушне. Присылать необходимо ноутбук с выполненным заданием. Сам ноутбук при сдаче называйте в формате hw-01-pandas-Username.ipynb, где Username — ваша фамилия.\n",
    "\n",
    "Для удобства проверки настоятельно рекомендуется самостоятельно посчитать свою максимальную оценку (исходя из набора решенных задач) и указать ниже.\n",
    "\n",
    "Оценка: xx."
   ]
  },
  {
   "cell_type": "markdown",
   "metadata": {
    "id": "BaXlfHE_hLup"
   },
   "source": [
    "# Введение"
   ]
  },
  {
   "cell_type": "markdown",
   "metadata": {
    "id": "wirAvJNxhLup"
   },
   "source": [
    "Сейчас мы находимся в jupyter-ноутбуке (или ipython-ноутбуке). Это удобная среда для написания кода, проведения экспериментов, изучения данных, построения визуализаций и других нужд, не связанных с написанием production-кода.\n",
    "\n",
    "Ноутбук состоит из ячеек, каждая из которых может быть либо ячейкой с кодом, либо ячейкой с текстом размеченным и неразмеченным. Текст поддерживает markdown-разметку и формулы в Latex.\n",
    "\n",
    "Для работы с содержимым ячейки используется *режим редактирования* (*Edit mode*, включается нажатием клавиши **Enter** после выбора ячейки), а для навигации между ячейками искользуется *командный режим* (*Command mode*, включается нажатием клавиши **Esc**). Тип ячейки можно задать в командном режиме либо с помощью горячих клавиш (**y** to code, **m** to markdown, **r** to edit raw text), либо в меню *Cell -> Cell type*.\n",
    "\n",
    "После заполнения ячейки нужно нажать *Shift + Enter*, эта команда обработает содержимое ячейки: проинтерпретирует код или сверстает размеченный текст."
   ]
  },
  {
   "cell_type": "code",
   "execution_count": 1,
   "metadata": {
    "colab": {
     "base_uri": "https://localhost:8080/"
    },
    "id": "aQ2_j3nkhLuq",
    "outputId": "99e13ee5-f80c-4d47-dc3b-1f35359f1337"
   },
   "outputs": [
    {
     "data": {
      "text/plain": [
       "True"
      ]
     },
     "execution_count": 1,
     "metadata": {},
     "output_type": "execute_result"
    }
   ],
   "source": [
    "# ячейка с кодом, при выполнении которой появится output\n",
    "2 + 2 == 4 #epepepepe"
   ]
  },
  {
   "cell_type": "code",
   "execution_count": 2,
   "metadata": {
    "id": "CANjwh8UqmxQ"
   },
   "outputs": [],
   "source": [
    " # ячейка с кодом, при выполнении которой НЕ появится output\n",
    "2 + 2;\n",
    "\n",
    "a = 2 + 2 - 1 /3.1 # доступ работает"
   ]
  },
  {
   "cell_type": "markdown",
   "metadata": {
    "id": "ZlulCwVKhLur"
   },
   "source": [
    "Ячейка с неразмеченным текстом."
   ]
  },
  {
   "cell_type": "markdown",
   "metadata": {
    "id": "A4wkVlIehLur"
   },
   "source": [
    "Попробуйте создать свои ячейки, написать какой-нибудь код и текст какой-нибудь формулой."
   ]
  },
  {
   "cell_type": "code",
   "execution_count": 3,
   "metadata": {
    "id": "BIuaYSvqhLus"
   },
   "outputs": [],
   "source": [
    "# your code"
   ]
  },
  {
   "cell_type": "markdown",
   "metadata": {
    "id": "iWs6ljrIhLus"
   },
   "source": [
    "[Здесь](https://athena.brynmawr.edu/jupyter/hub/dblank/public/Jupyter%20Notebook%20Users%20Manual.ipynb) находится <s>не</s>большая заметка о используемом языке разметки Markdown. Он позволяет:\n",
    "\n",
    "0. Составлять упорядоченные списки\n",
    "1. Выделять *текст* <s>при</s> **необходимости**\n",
    "2. Добавлять [ссылки](http://imgs.xkcd.com/comics/the_universal_label.png)\n",
    "\n",
    "\n",
    "* Составлять неупорядоченные списки\n",
    "\n",
    "Делать вставки с помощью LaTex:\n",
    "    \n",
    "$\n",
    "\\left\\{\n",
    "\\begin{array}{ll}\n",
    "x = 16 \\sin^3 (t) \\\\\n",
    "y = 13 \\cos (t) - 5 \\cos (2t) - 2 \\cos (3t) - \\cos (4t) \\\\\n",
    "t \\in [0, 2 \\pi]\n",
    "\\end{array}\n",
    "\\right.$"
   ]
  },
  {
   "cell_type": "markdown",
   "metadata": {
    "id": "ixQ82T0nqmxR"
   },
   "source": [
    "А ещё можно вставлять картинки, или гифки, или что захотите:\n",
    "\n",
    "<img src=\"https://img10.reactor.cc/pics/post/%D0%B3%D0%B8%D1%84%D0%BA%D0%B8-%D0%BF%D0%B0%D0%BD%D0%B4%D0%B0-%D0%B6%D0%B8%D0%B2%D0%BD%D0%BE%D1%81%D1%82%D1%8C-%D0%BC%D1%8F%D1%87%D0%B8%D0%BA-1600214.gif\" style=\"width: 400px\">"
   ]
  },
  {
   "cell_type": "markdown",
   "metadata": {
    "id": "J_toGw7DhLut"
   },
   "source": [
    "### Google Colab"
   ]
  },
  {
   "cell_type": "markdown",
   "metadata": {
    "id": "jpkbCVjGhLut"
   },
   "source": [
    "Что за колаб?\n",
    "\n",
    "**Google Colab (Colaboratory)** это **Jupyter Notebook + Cloud + Google Drive.**\n",
    "\n",
    "Компания Google предоставляет возможность бесплатно запускать ноутбуки (предварительно загрузив их на свой гугл-диск) прямо в облаке. При этом вам не требуется установка никаких пакетов на свою машину, а работать можно прямиком из браузера. Вот ссылка:"
   ]
  },
  {
   "cell_type": "markdown",
   "metadata": {
    "id": "06MQog3yhLut"
   },
   "source": [
    "https://colab.research.google.com"
   ]
  },
  {
   "cell_type": "markdown",
   "metadata": {
    "id": "5_hfWXKPhLut"
   },
   "source": [
    "При использовании вы увидете много сходств с jupyter ноутбуком. Одним из преимуществ является доступность GPU, соответствующую опцию можно активировать в настройках сервиса. При желании вы сможете найти в интернете много туториалов по использованию или разобраться самостоятельно :)"
   ]
  },
  {
   "cell_type": "markdown",
   "metadata": {
    "id": "sUe2vnFGhLuu"
   },
   "source": [
    "# I. Табличные данные и Pandas"
   ]
  },
  {
   "cell_type": "markdown",
   "metadata": {
    "id": "DJQzjjqJhLuu"
   },
   "source": [
    "Pandas — удобная библиотека для работы с табличными данными в Python, если данных не слишком много и они помещаются в оперативную память вашего компьютера. Несмотря на неэффективность реализации и некоторые проблемы, библиотека стала стандартом в анализе данных.\n",
    "\n",
    "\n",
    "Основной объект в pandas — это DataFrame, представляющий собой таблицу с именованными колонками различных типов, индексом (может быть многоуровневым). DataFrame можно создавать, считывая таблицу из файла или задавая вручную из других объектов.\n",
    "\n",
    "В этой части потребуется выполнить несколько небольших заданий. Можно пойти двумя путями: сначала изучить материалы, а потом приступить к заданиям, или же разбираться \"по ходу\". Выбирайте сами.\n",
    "\n",
    "\n",
    "Многие из заданий можно выполнить несколькими способами. Не существуют единственно верного, но попробуйте максимально задействовать арсенал pandas и ориентируйтесь на простоту и понятность вашего кода. Мы не будем подсказывать, что нужно использовать для решения конкретной задачи, попробуйте находить необходимый функционал сами (название метода чаще всего очевидно). В помощь вам документация, поиск и stackoverflow."
   ]
  },
  {
   "cell_type": "markdown",
   "metadata": {
    "id": "Fyej-hIrqmxS"
   },
   "source": [
    "Обзор полезных ресурсов\n",
    "\n",
    "В первую очередь, конечно же, официальная документация Pandas. В частности, рекомендуем короткое введение 10 minutes to pandas\n",
    "1. [Pandas за 10 минут из официального руководства](http://pandas.pydata.org/pandas-docs/stable/10min.html)\n",
    "2. [Документация](http://pandas.pydata.org/pandas-docs/stable/index.html) (стоит обращаться, если не понятно, как вызывать конкретный метод)\n",
    "3. [Примеры использования функционала](http://nbviewer.jupyter.org/github/justmarkham/pandas-videos/blob/master/pandas.ipynb)\n",
    "2. [Презентация](http://alexanderdyakonov.wordpress.com/2015/11/06/знакомство-с-pandas-слайды.html) Александра Дьяконова «Знакомство с Pandas»\n",
    "5. [Серия](http://tomaugspurger.github.io/posts/modern-1-intro.html) постов \"Modern Pandas\" (на английском языке)\n",
    "\n",
    "\n",
    "[scipy-lectures.org](http://scipy-lectures.org/index.html) — учебник по работе с pandas, numpy, matplotlib и scikit-learn\n",
    "\n"
   ]
  },
  {
   "cell_type": "code",
   "execution_count": 4,
   "metadata": {
    "colab": {
     "base_uri": "https://localhost:8080/"
    },
    "id": "26zbFY25hLuv",
    "outputId": "cba40ff7-bb7d-4fe1-b751-dbb7a311b78d"
   },
   "outputs": [
    {
     "name": "stdout",
     "output_type": "stream",
     "text": [
      "%pylab is deprecated, use %matplotlib inline and import the required libraries.\n",
      "Populating the interactive namespace from numpy and matplotlib\n"
     ]
    }
   ],
   "source": [
    "%pylab inline\n",
    "import pandas as pd\n",
    "import numpy as np"
   ]
  },
  {
   "cell_type": "markdown",
   "metadata": {
    "id": "7Y0fwVDwqmxS"
   },
   "source": [
    "<span style=\"color:red\">Перед выполнением задания необходимо ознакомиться с первым семинаром (sem01-1-pandas.ipynb и sem01-2-numpy.ipynb) </span>.\n",
    "\n",
    "Это поможет вам получить общее понимание происходяшего и успешнее справиться с заданием.\n",
    "\n",
    "Также успешному выполнению способствует внимательное чтение текста задания от начала до конца.\n",
    "\n",
    "Удачи!"
   ]
  },
  {
   "cell_type": "markdown",
   "metadata": {
    "id": "dbLS-qjzqmxS"
   },
   "source": [
    "<div class=\"alert alert-success\">\n",
    "\n",
    "Ниже вам следует продемонстрировать множество методов в Pandas на примере анализа данных о сражениях в популярном сериале \"Игра престолов\", который был снят по мотивам серии книг Дж.Мартина.\n",
    "    \n",
    "Cамо собой разумеется, что этот набор данных содержит спойлеры ;) Он объединяет три источника данных, каждый из которых основан на информации из серии книг.\n",
    "\n",
    "- Во-первых, есть `battles.csv`, который содержит данные Криса Албона \"The Война пяти королей\". Это\n",
    "отличная коллекция всех битв в серии.\n",
    "- Во-вторых, у нас есть файл `character-deaths.csv` от Эрин Пирс и Бена Кейла. Этот набор данных был создан в рамках их проекта \"Байесовский анализ выживаемости\".\n",
    "\n",
    "Наконец, у нас есть более полный набор данных по персонажам с `character-predictions.csv`. Он\n",
    "включает их предсказания о том, какой персонаж умрет. Он был подготовлен командой \"A Song of Ice and Data\", которая собрала эти данные с [сайта](http://awoiaf.westeros.org/). Методологию можно найти [здесь](https://got.show/machine-learning-algorithm-predicts-death-game-of-thrones)\n"
   ]
  },
  {
   "cell_type": "markdown",
   "metadata": {
    "id": "shFkfJkohLux"
   },
   "source": [
    "Для каждой задачи вы должны написать код для получения ответа, а также дать текстовый ответ, если он предполагается.\n",
    "\n",
    "На некоторые вопросы вы можете получить ответ путём пристального взгляда на таблицу, но это не будет засчитываться. Вы в любом случае должны получить ответ с помощью кода."
   ]
  },
  {
   "cell_type": "markdown",
   "metadata": {
    "id": "gDD85M7bhLux"
   },
   "source": [
    "#### [0 баллов] Импортируйте все данные (не забудьте про формат). Выведите последние 10 строк каждого набора данных.\n",
    "\n",
    "Посмотрите на данные и скажите, что они из себя представляют, сколько в таблице строк, какие столбцы? (на это не надо отвечать, просто подумайте об этом)"
   ]
  },
  {
   "cell_type": "code",
   "execution_count": 5,
   "metadata": {
    "colab": {
     "base_uri": "https://localhost:8080/",
     "height": 738
    },
    "id": "PKulur3LhLuy",
    "outputId": "2d6baa7f-83d6-4eaa-fb9c-9d6c9c3b99f9"
   },
   "outputs": [
    {
     "data": {
      "text/html": [
       "<div>\n",
       "<style scoped>\n",
       "    .dataframe tbody tr th:only-of-type {\n",
       "        vertical-align: middle;\n",
       "    }\n",
       "\n",
       "    .dataframe tbody tr th {\n",
       "        vertical-align: top;\n",
       "    }\n",
       "\n",
       "    .dataframe thead th {\n",
       "        text-align: right;\n",
       "    }\n",
       "</style>\n",
       "<table border=\"1\" class=\"dataframe\">\n",
       "  <thead>\n",
       "    <tr style=\"text-align: right;\">\n",
       "      <th></th>\n",
       "      <th>year</th>\n",
       "      <th>battle_number</th>\n",
       "      <th>attacker_king</th>\n",
       "      <th>defender_king</th>\n",
       "      <th>attacker_1</th>\n",
       "      <th>attacker_2</th>\n",
       "      <th>attacker_3</th>\n",
       "      <th>attacker_4</th>\n",
       "      <th>defender_1</th>\n",
       "      <th>defender_2</th>\n",
       "      <th>...</th>\n",
       "      <th>major_death</th>\n",
       "      <th>major_capture</th>\n",
       "      <th>attacker_size</th>\n",
       "      <th>defender_size</th>\n",
       "      <th>attacker_commander</th>\n",
       "      <th>defender_commander</th>\n",
       "      <th>summer</th>\n",
       "      <th>location</th>\n",
       "      <th>region</th>\n",
       "      <th>note</th>\n",
       "    </tr>\n",
       "    <tr>\n",
       "      <th>name</th>\n",
       "      <th></th>\n",
       "      <th></th>\n",
       "      <th></th>\n",
       "      <th></th>\n",
       "      <th></th>\n",
       "      <th></th>\n",
       "      <th></th>\n",
       "      <th></th>\n",
       "      <th></th>\n",
       "      <th></th>\n",
       "      <th></th>\n",
       "      <th></th>\n",
       "      <th></th>\n",
       "      <th></th>\n",
       "      <th></th>\n",
       "      <th></th>\n",
       "      <th></th>\n",
       "      <th></th>\n",
       "      <th></th>\n",
       "      <th></th>\n",
       "      <th></th>\n",
       "    </tr>\n",
       "  </thead>\n",
       "  <tbody>\n",
       "    <tr>\n",
       "      <th>Fall of Moat Cailin</th>\n",
       "      <td>300</td>\n",
       "      <td>29</td>\n",
       "      <td>Joffrey/Tommen Baratheon</td>\n",
       "      <td>Balon/Euron Greyjoy</td>\n",
       "      <td>Bolton</td>\n",
       "      <td>NaN</td>\n",
       "      <td>NaN</td>\n",
       "      <td>NaN</td>\n",
       "      <td>Greyjoy</td>\n",
       "      <td>NaN</td>\n",
       "      <td>...</td>\n",
       "      <td>0.0</td>\n",
       "      <td>0.0</td>\n",
       "      <td>NaN</td>\n",
       "      <td>NaN</td>\n",
       "      <td>Ramsey Bolton</td>\n",
       "      <td>NaN</td>\n",
       "      <td>0.0</td>\n",
       "      <td>Moat Cailin</td>\n",
       "      <td>The North</td>\n",
       "      <td>NaN</td>\n",
       "    </tr>\n",
       "    <tr>\n",
       "      <th>Sack of Saltpans</th>\n",
       "      <td>300</td>\n",
       "      <td>30</td>\n",
       "      <td>NaN</td>\n",
       "      <td>NaN</td>\n",
       "      <td>Brave Companions</td>\n",
       "      <td>NaN</td>\n",
       "      <td>NaN</td>\n",
       "      <td>NaN</td>\n",
       "      <td>NaN</td>\n",
       "      <td>NaN</td>\n",
       "      <td>...</td>\n",
       "      <td>0.0</td>\n",
       "      <td>0.0</td>\n",
       "      <td>NaN</td>\n",
       "      <td>NaN</td>\n",
       "      <td>Rorge</td>\n",
       "      <td>NaN</td>\n",
       "      <td>0.0</td>\n",
       "      <td>Saltpans</td>\n",
       "      <td>The Riverlands</td>\n",
       "      <td>NaN</td>\n",
       "    </tr>\n",
       "    <tr>\n",
       "      <th>Retaking of Deepwood Motte</th>\n",
       "      <td>300</td>\n",
       "      <td>31</td>\n",
       "      <td>Stannis Baratheon</td>\n",
       "      <td>Balon/Euron Greyjoy</td>\n",
       "      <td>Baratheon</td>\n",
       "      <td>Karstark</td>\n",
       "      <td>Mormont</td>\n",
       "      <td>Glover</td>\n",
       "      <td>Greyjoy</td>\n",
       "      <td>NaN</td>\n",
       "      <td>...</td>\n",
       "      <td>0.0</td>\n",
       "      <td>0.0</td>\n",
       "      <td>4500.0</td>\n",
       "      <td>200.0</td>\n",
       "      <td>Stannis Baratheon, Alysane Mormot</td>\n",
       "      <td>Asha Greyjoy</td>\n",
       "      <td>0.0</td>\n",
       "      <td>Deepwood Motte</td>\n",
       "      <td>The North</td>\n",
       "      <td>NaN</td>\n",
       "    </tr>\n",
       "    <tr>\n",
       "      <th>Battle of the Shield Islands</th>\n",
       "      <td>300</td>\n",
       "      <td>32</td>\n",
       "      <td>Balon/Euron Greyjoy</td>\n",
       "      <td>Joffrey/Tommen Baratheon</td>\n",
       "      <td>Greyjoy</td>\n",
       "      <td>NaN</td>\n",
       "      <td>NaN</td>\n",
       "      <td>NaN</td>\n",
       "      <td>Tyrell</td>\n",
       "      <td>NaN</td>\n",
       "      <td>...</td>\n",
       "      <td>0.0</td>\n",
       "      <td>0.0</td>\n",
       "      <td>NaN</td>\n",
       "      <td>NaN</td>\n",
       "      <td>Euron Greyjoy, Victarion Greyjoy</td>\n",
       "      <td>NaN</td>\n",
       "      <td>0.0</td>\n",
       "      <td>Shield Islands</td>\n",
       "      <td>The Reach</td>\n",
       "      <td>NaN</td>\n",
       "    </tr>\n",
       "    <tr>\n",
       "      <th>Invasion of Ryamsport, Vinetown, and Starfish Harbor</th>\n",
       "      <td>300</td>\n",
       "      <td>33</td>\n",
       "      <td>Balon/Euron Greyjoy</td>\n",
       "      <td>Joffrey/Tommen Baratheon</td>\n",
       "      <td>Greyjoy</td>\n",
       "      <td>NaN</td>\n",
       "      <td>NaN</td>\n",
       "      <td>NaN</td>\n",
       "      <td>Tyrell</td>\n",
       "      <td>NaN</td>\n",
       "      <td>...</td>\n",
       "      <td>0.0</td>\n",
       "      <td>0.0</td>\n",
       "      <td>NaN</td>\n",
       "      <td>NaN</td>\n",
       "      <td>Euron Greyjoy, Victarion Greyjoy</td>\n",
       "      <td>NaN</td>\n",
       "      <td>0.0</td>\n",
       "      <td>Ryamsport, Vinetown, Starfish Harbor</td>\n",
       "      <td>The Reach</td>\n",
       "      <td>NaN</td>\n",
       "    </tr>\n",
       "    <tr>\n",
       "      <th>Second Seige of Storm's End</th>\n",
       "      <td>300</td>\n",
       "      <td>34</td>\n",
       "      <td>Joffrey/Tommen Baratheon</td>\n",
       "      <td>Stannis Baratheon</td>\n",
       "      <td>Baratheon</td>\n",
       "      <td>NaN</td>\n",
       "      <td>NaN</td>\n",
       "      <td>NaN</td>\n",
       "      <td>Baratheon</td>\n",
       "      <td>NaN</td>\n",
       "      <td>...</td>\n",
       "      <td>0.0</td>\n",
       "      <td>0.0</td>\n",
       "      <td>NaN</td>\n",
       "      <td>200.0</td>\n",
       "      <td>Mace Tyrell, Mathis Rowan</td>\n",
       "      <td>Gilbert Farring</td>\n",
       "      <td>0.0</td>\n",
       "      <td>Storm's End</td>\n",
       "      <td>The Stormlands</td>\n",
       "      <td>NaN</td>\n",
       "    </tr>\n",
       "    <tr>\n",
       "      <th>Siege of Dragonstone</th>\n",
       "      <td>300</td>\n",
       "      <td>35</td>\n",
       "      <td>Joffrey/Tommen Baratheon</td>\n",
       "      <td>Stannis Baratheon</td>\n",
       "      <td>Baratheon</td>\n",
       "      <td>NaN</td>\n",
       "      <td>NaN</td>\n",
       "      <td>NaN</td>\n",
       "      <td>Baratheon</td>\n",
       "      <td>NaN</td>\n",
       "      <td>...</td>\n",
       "      <td>0.0</td>\n",
       "      <td>0.0</td>\n",
       "      <td>2000.0</td>\n",
       "      <td>NaN</td>\n",
       "      <td>Loras Tyrell, Raxter Redwyne</td>\n",
       "      <td>Rolland Storm</td>\n",
       "      <td>0.0</td>\n",
       "      <td>Dragonstone</td>\n",
       "      <td>The Stormlands</td>\n",
       "      <td>NaN</td>\n",
       "    </tr>\n",
       "    <tr>\n",
       "      <th>Siege of Riverrun</th>\n",
       "      <td>300</td>\n",
       "      <td>36</td>\n",
       "      <td>Joffrey/Tommen Baratheon</td>\n",
       "      <td>Robb Stark</td>\n",
       "      <td>Lannister</td>\n",
       "      <td>Frey</td>\n",
       "      <td>NaN</td>\n",
       "      <td>NaN</td>\n",
       "      <td>Tully</td>\n",
       "      <td>NaN</td>\n",
       "      <td>...</td>\n",
       "      <td>0.0</td>\n",
       "      <td>0.0</td>\n",
       "      <td>3000.0</td>\n",
       "      <td>NaN</td>\n",
       "      <td>Daven Lannister, Ryman Fey, Jaime Lannister</td>\n",
       "      <td>Brynden Tully</td>\n",
       "      <td>0.0</td>\n",
       "      <td>Riverrun</td>\n",
       "      <td>The Riverlands</td>\n",
       "      <td>NaN</td>\n",
       "    </tr>\n",
       "    <tr>\n",
       "      <th>Siege of Raventree</th>\n",
       "      <td>300</td>\n",
       "      <td>37</td>\n",
       "      <td>Joffrey/Tommen Baratheon</td>\n",
       "      <td>Robb Stark</td>\n",
       "      <td>Bracken</td>\n",
       "      <td>Lannister</td>\n",
       "      <td>NaN</td>\n",
       "      <td>NaN</td>\n",
       "      <td>Blackwood</td>\n",
       "      <td>NaN</td>\n",
       "      <td>...</td>\n",
       "      <td>0.0</td>\n",
       "      <td>1.0</td>\n",
       "      <td>1500.0</td>\n",
       "      <td>NaN</td>\n",
       "      <td>Jonos Bracken, Jaime Lannister</td>\n",
       "      <td>Tytos Blackwood</td>\n",
       "      <td>0.0</td>\n",
       "      <td>Raventree</td>\n",
       "      <td>The Riverlands</td>\n",
       "      <td>NaN</td>\n",
       "    </tr>\n",
       "    <tr>\n",
       "      <th>Siege of Winterfell</th>\n",
       "      <td>300</td>\n",
       "      <td>38</td>\n",
       "      <td>Stannis Baratheon</td>\n",
       "      <td>Joffrey/Tommen Baratheon</td>\n",
       "      <td>Baratheon</td>\n",
       "      <td>Karstark</td>\n",
       "      <td>Mormont</td>\n",
       "      <td>Glover</td>\n",
       "      <td>Bolton</td>\n",
       "      <td>Frey</td>\n",
       "      <td>...</td>\n",
       "      <td>NaN</td>\n",
       "      <td>NaN</td>\n",
       "      <td>5000.0</td>\n",
       "      <td>8000.0</td>\n",
       "      <td>Stannis Baratheon</td>\n",
       "      <td>Roose Bolton</td>\n",
       "      <td>0.0</td>\n",
       "      <td>Winterfell</td>\n",
       "      <td>The North</td>\n",
       "      <td>NaN</td>\n",
       "    </tr>\n",
       "  </tbody>\n",
       "</table>\n",
       "<p>10 rows × 24 columns</p>\n",
       "</div>"
      ],
      "text/plain": [
       "                                                    year  battle_number  \\\n",
       "name                                                                      \n",
       "Fall of Moat Cailin                                  300             29   \n",
       "Sack of Saltpans                                     300             30   \n",
       "Retaking of Deepwood Motte                           300             31   \n",
       "Battle of the Shield Islands                         300             32   \n",
       "Invasion of Ryamsport, Vinetown, and Starfish H...   300             33   \n",
       "Second Seige of Storm's End                          300             34   \n",
       "Siege of Dragonstone                                 300             35   \n",
       "Siege of Riverrun                                    300             36   \n",
       "Siege of Raventree                                   300             37   \n",
       "Siege of Winterfell                                  300             38   \n",
       "\n",
       "                                                               attacker_king  \\\n",
       "name                                                                           \n",
       "Fall of Moat Cailin                                 Joffrey/Tommen Baratheon   \n",
       "Sack of Saltpans                                                         NaN   \n",
       "Retaking of Deepwood Motte                                 Stannis Baratheon   \n",
       "Battle of the Shield Islands                             Balon/Euron Greyjoy   \n",
       "Invasion of Ryamsport, Vinetown, and Starfish H...       Balon/Euron Greyjoy   \n",
       "Second Seige of Storm's End                         Joffrey/Tommen Baratheon   \n",
       "Siege of Dragonstone                                Joffrey/Tommen Baratheon   \n",
       "Siege of Riverrun                                   Joffrey/Tommen Baratheon   \n",
       "Siege of Raventree                                  Joffrey/Tommen Baratheon   \n",
       "Siege of Winterfell                                        Stannis Baratheon   \n",
       "\n",
       "                                                               defender_king  \\\n",
       "name                                                                           \n",
       "Fall of Moat Cailin                                      Balon/Euron Greyjoy   \n",
       "Sack of Saltpans                                                         NaN   \n",
       "Retaking of Deepwood Motte                               Balon/Euron Greyjoy   \n",
       "Battle of the Shield Islands                        Joffrey/Tommen Baratheon   \n",
       "Invasion of Ryamsport, Vinetown, and Starfish H...  Joffrey/Tommen Baratheon   \n",
       "Second Seige of Storm's End                                Stannis Baratheon   \n",
       "Siege of Dragonstone                                       Stannis Baratheon   \n",
       "Siege of Riverrun                                                 Robb Stark   \n",
       "Siege of Raventree                                                Robb Stark   \n",
       "Siege of Winterfell                                 Joffrey/Tommen Baratheon   \n",
       "\n",
       "                                                          attacker_1  \\\n",
       "name                                                                   \n",
       "Fall of Moat Cailin                                           Bolton   \n",
       "Sack of Saltpans                                    Brave Companions   \n",
       "Retaking of Deepwood Motte                                 Baratheon   \n",
       "Battle of the Shield Islands                                 Greyjoy   \n",
       "Invasion of Ryamsport, Vinetown, and Starfish H...           Greyjoy   \n",
       "Second Seige of Storm's End                                Baratheon   \n",
       "Siege of Dragonstone                                       Baratheon   \n",
       "Siege of Riverrun                                          Lannister   \n",
       "Siege of Raventree                                           Bracken   \n",
       "Siege of Winterfell                                        Baratheon   \n",
       "\n",
       "                                                   attacker_2 attacker_3  \\\n",
       "name                                                                       \n",
       "Fall of Moat Cailin                                       NaN        NaN   \n",
       "Sack of Saltpans                                          NaN        NaN   \n",
       "Retaking of Deepwood Motte                           Karstark    Mormont   \n",
       "Battle of the Shield Islands                              NaN        NaN   \n",
       "Invasion of Ryamsport, Vinetown, and Starfish H...        NaN        NaN   \n",
       "Second Seige of Storm's End                               NaN        NaN   \n",
       "Siege of Dragonstone                                      NaN        NaN   \n",
       "Siege of Riverrun                                        Frey        NaN   \n",
       "Siege of Raventree                                  Lannister        NaN   \n",
       "Siege of Winterfell                                  Karstark    Mormont   \n",
       "\n",
       "                                                   attacker_4 defender_1  \\\n",
       "name                                                                       \n",
       "Fall of Moat Cailin                                       NaN    Greyjoy   \n",
       "Sack of Saltpans                                          NaN        NaN   \n",
       "Retaking of Deepwood Motte                             Glover    Greyjoy   \n",
       "Battle of the Shield Islands                              NaN     Tyrell   \n",
       "Invasion of Ryamsport, Vinetown, and Starfish H...        NaN     Tyrell   \n",
       "Second Seige of Storm's End                               NaN  Baratheon   \n",
       "Siege of Dragonstone                                      NaN  Baratheon   \n",
       "Siege of Riverrun                                         NaN      Tully   \n",
       "Siege of Raventree                                        NaN  Blackwood   \n",
       "Siege of Winterfell                                    Glover     Bolton   \n",
       "\n",
       "                                                   defender_2  ...  \\\n",
       "name                                                           ...   \n",
       "Fall of Moat Cailin                                       NaN  ...   \n",
       "Sack of Saltpans                                          NaN  ...   \n",
       "Retaking of Deepwood Motte                                NaN  ...   \n",
       "Battle of the Shield Islands                              NaN  ...   \n",
       "Invasion of Ryamsport, Vinetown, and Starfish H...        NaN  ...   \n",
       "Second Seige of Storm's End                               NaN  ...   \n",
       "Siege of Dragonstone                                      NaN  ...   \n",
       "Siege of Riverrun                                         NaN  ...   \n",
       "Siege of Raventree                                        NaN  ...   \n",
       "Siege of Winterfell                                      Frey  ...   \n",
       "\n",
       "                                                    major_death  \\\n",
       "name                                                              \n",
       "Fall of Moat Cailin                                         0.0   \n",
       "Sack of Saltpans                                            0.0   \n",
       "Retaking of Deepwood Motte                                  0.0   \n",
       "Battle of the Shield Islands                                0.0   \n",
       "Invasion of Ryamsport, Vinetown, and Starfish H...          0.0   \n",
       "Second Seige of Storm's End                                 0.0   \n",
       "Siege of Dragonstone                                        0.0   \n",
       "Siege of Riverrun                                           0.0   \n",
       "Siege of Raventree                                          0.0   \n",
       "Siege of Winterfell                                         NaN   \n",
       "\n",
       "                                                    major_capture  \\\n",
       "name                                                                \n",
       "Fall of Moat Cailin                                           0.0   \n",
       "Sack of Saltpans                                              0.0   \n",
       "Retaking of Deepwood Motte                                    0.0   \n",
       "Battle of the Shield Islands                                  0.0   \n",
       "Invasion of Ryamsport, Vinetown, and Starfish H...            0.0   \n",
       "Second Seige of Storm's End                                   0.0   \n",
       "Siege of Dragonstone                                          0.0   \n",
       "Siege of Riverrun                                             0.0   \n",
       "Siege of Raventree                                            1.0   \n",
       "Siege of Winterfell                                           NaN   \n",
       "\n",
       "                                                   attacker_size  \\\n",
       "name                                                               \n",
       "Fall of Moat Cailin                                          NaN   \n",
       "Sack of Saltpans                                             NaN   \n",
       "Retaking of Deepwood Motte                                4500.0   \n",
       "Battle of the Shield Islands                                 NaN   \n",
       "Invasion of Ryamsport, Vinetown, and Starfish H...           NaN   \n",
       "Second Seige of Storm's End                                  NaN   \n",
       "Siege of Dragonstone                                      2000.0   \n",
       "Siege of Riverrun                                         3000.0   \n",
       "Siege of Raventree                                        1500.0   \n",
       "Siege of Winterfell                                       5000.0   \n",
       "\n",
       "                                                   defender_size  \\\n",
       "name                                                               \n",
       "Fall of Moat Cailin                                          NaN   \n",
       "Sack of Saltpans                                             NaN   \n",
       "Retaking of Deepwood Motte                                 200.0   \n",
       "Battle of the Shield Islands                                 NaN   \n",
       "Invasion of Ryamsport, Vinetown, and Starfish H...           NaN   \n",
       "Second Seige of Storm's End                                200.0   \n",
       "Siege of Dragonstone                                         NaN   \n",
       "Siege of Riverrun                                            NaN   \n",
       "Siege of Raventree                                           NaN   \n",
       "Siege of Winterfell                                       8000.0   \n",
       "\n",
       "                                                                             attacker_commander  \\\n",
       "name                                                                                              \n",
       "Fall of Moat Cailin                                                               Ramsey Bolton   \n",
       "Sack of Saltpans                                                                          Rorge   \n",
       "Retaking of Deepwood Motte                                    Stannis Baratheon, Alysane Mormot   \n",
       "Battle of the Shield Islands                                   Euron Greyjoy, Victarion Greyjoy   \n",
       "Invasion of Ryamsport, Vinetown, and Starfish H...             Euron Greyjoy, Victarion Greyjoy   \n",
       "Second Seige of Storm's End                                           Mace Tyrell, Mathis Rowan   \n",
       "Siege of Dragonstone                                               Loras Tyrell, Raxter Redwyne   \n",
       "Siege of Riverrun                                   Daven Lannister, Ryman Fey, Jaime Lannister   \n",
       "Siege of Raventree                                               Jonos Bracken, Jaime Lannister   \n",
       "Siege of Winterfell                                                           Stannis Baratheon   \n",
       "\n",
       "                                                    defender_commander  \\\n",
       "name                                                                     \n",
       "Fall of Moat Cailin                                                NaN   \n",
       "Sack of Saltpans                                                   NaN   \n",
       "Retaking of Deepwood Motte                                Asha Greyjoy   \n",
       "Battle of the Shield Islands                                       NaN   \n",
       "Invasion of Ryamsport, Vinetown, and Starfish H...                 NaN   \n",
       "Second Seige of Storm's End                            Gilbert Farring   \n",
       "Siege of Dragonstone                                     Rolland Storm   \n",
       "Siege of Riverrun                                        Brynden Tully   \n",
       "Siege of Raventree                                     Tytos Blackwood   \n",
       "Siege of Winterfell                                       Roose Bolton   \n",
       "\n",
       "                                                    summer  \\\n",
       "name                                                         \n",
       "Fall of Moat Cailin                                    0.0   \n",
       "Sack of Saltpans                                       0.0   \n",
       "Retaking of Deepwood Motte                             0.0   \n",
       "Battle of the Shield Islands                           0.0   \n",
       "Invasion of Ryamsport, Vinetown, and Starfish H...     0.0   \n",
       "Second Seige of Storm's End                            0.0   \n",
       "Siege of Dragonstone                                   0.0   \n",
       "Siege of Riverrun                                      0.0   \n",
       "Siege of Raventree                                     0.0   \n",
       "Siege of Winterfell                                    0.0   \n",
       "\n",
       "                                                                                location  \\\n",
       "name                                                                                       \n",
       "Fall of Moat Cailin                                                          Moat Cailin   \n",
       "Sack of Saltpans                                                                Saltpans   \n",
       "Retaking of Deepwood Motte                                                Deepwood Motte   \n",
       "Battle of the Shield Islands                                              Shield Islands   \n",
       "Invasion of Ryamsport, Vinetown, and Starfish H...  Ryamsport, Vinetown, Starfish Harbor   \n",
       "Second Seige of Storm's End                                                  Storm's End   \n",
       "Siege of Dragonstone                                                         Dragonstone   \n",
       "Siege of Riverrun                                                               Riverrun   \n",
       "Siege of Raventree                                                             Raventree   \n",
       "Siege of Winterfell                                                           Winterfell   \n",
       "\n",
       "                                                            region note  \n",
       "name                                                                     \n",
       "Fall of Moat Cailin                                      The North  NaN  \n",
       "Sack of Saltpans                                    The Riverlands  NaN  \n",
       "Retaking of Deepwood Motte                               The North  NaN  \n",
       "Battle of the Shield Islands                             The Reach  NaN  \n",
       "Invasion of Ryamsport, Vinetown, and Starfish H...       The Reach  NaN  \n",
       "Second Seige of Storm's End                         The Stormlands  NaN  \n",
       "Siege of Dragonstone                                The Stormlands  NaN  \n",
       "Siege of Riverrun                                   The Riverlands  NaN  \n",
       "Siege of Raventree                                  The Riverlands  NaN  \n",
       "Siege of Winterfell                                      The North  NaN  \n",
       "\n",
       "[10 rows x 24 columns]"
      ]
     },
     "execution_count": 5,
     "metadata": {},
     "output_type": "execute_result"
    }
   ],
   "source": [
    "character_predictions_df = pd.read_csv(\"CSV/character-predictions.csv\", sep=\",\", index_col=0)\n",
    "character_deaths_df = pd.read_csv(\"CSV/character-deaths.csv\", sep=\",\", index_col=0)\n",
    "german_credit_df = pd.read_csv(\"CSV/german_credit.csv\", sep=\",\", index_col=0)\n",
    "battles_df = pd.read_csv(\"CSV/battles.csv\", sep=\",\", index_col=0)\n",
    "battles_df.tail(10)"
   ]
  },
  {
   "cell_type": "markdown",
   "metadata": {
    "id": "B8PkqOAsZGyq"
   },
   "source": [
    "Все задания ниже, относящиеся к пункту I имеют равный вес (4/22)."
   ]
  },
  {
   "cell_type": "markdown",
   "metadata": {
    "id": "jPiMwyqHhLuy"
   },
   "source": [
    "#### 1. Есть ли в данных `character-predictions.csv` пропуски? В каких колонках? Сколько их в каждой из этих колонок? Сколько всего в общем?"
   ]
  },
  {
   "cell_type": "code",
   "execution_count": 6,
   "metadata": {
    "colab": {
     "base_uri": "https://localhost:8080/"
    },
    "id": "edY1RrSOhLuy",
    "outputId": "d29c973f-f0b0-4e5a-8a28-a2a1e853002e"
   },
   "outputs": [
    {
     "name": "stdout",
     "output_type": "stream",
     "text": [
      "actual                  0\n",
      "pred                    0\n",
      "alive                   0\n",
      "plod                    0\n",
      "name                    0\n",
      "title                1008\n",
      "male                    0\n",
      "culture              1269\n",
      "dateOfBirth          1513\n",
      "DateoFdeath          1502\n",
      "mother               1925\n",
      "father               1920\n",
      "heir                 1923\n",
      "house                 427\n",
      "spouse               1670\n",
      "book1                   0\n",
      "book2                   0\n",
      "book3                   0\n",
      "book4                   0\n",
      "book5                   0\n",
      "isAliveMother        1925\n",
      "isAliveFather        1920\n",
      "isAliveHeir          1923\n",
      "isAliveSpouse        1670\n",
      "isMarried               0\n",
      "isNoble                 0\n",
      "age                  1513\n",
      "numDeadRelations        0\n",
      "boolDeadRelations       0\n",
      "isPopular               0\n",
      "popularity              0\n",
      "isAlive                 0\n",
      "dtype: int64 \n",
      " Totall gaps:  22108\n"
     ]
    }
   ],
   "source": [
    "cp_null_df = character_predictions_df.isnull().sum()\n",
    "print(cp_null_df, \"\\n Totall gaps: \", cp_null_df.sum())\n"
   ]
  },
  {
   "cell_type": "markdown",
   "metadata": {
    "id": "B5ORhP2uhLuz"
   },
   "source": [
    "\n",
    "\n",
    "```\n",
    "# Выбран кодовый формат\n",
    "```\n",
    "\n",
    "#### 2. Заполните пропуски в `character-predictions.csv` пустой строкой для строковых колонок и нулём для числовых (постарайтесь избежать перечисления названий всех столбцов).\n"
   ]
  },
  {
   "cell_type": "code",
   "execution_count": 7,
   "metadata": {
    "id": "u-UakbEeqmxT"
   },
   "outputs": [],
   "source": [
    "string_columns = character_predictions_df.select_dtypes(include=['object']).columns\n",
    "character_predictions_df[string_columns] = character_predictions_df[string_columns].fillna('')\n",
    "\n",
    "# Заполнение пропусков числовых колонок нулём\n",
    "numeric_columns = character_predictions_df.select_dtypes(include=['float64', 'int64']).columns\n",
    "character_predictions_df[numeric_columns] = character_predictions_df[numeric_columns].fillna(0)\n"
   ]
  },
  {
   "cell_type": "markdown",
   "metadata": {
    "id": "LQNoFtSZqmxT"
   },
   "source": [
    "Проверьте, что в ваших данных отсутствуют нулевые значения:"
   ]
  },
  {
   "cell_type": "code",
   "execution_count": 8,
   "metadata": {
    "colab": {
     "base_uri": "https://localhost:8080/"
    },
    "id": "TlF_JJ2ghLuz",
    "outputId": "97e822da-03be-442d-b7e6-50e7d2b19f54"
   },
   "outputs": [
    {
     "data": {
      "text/plain": [
       "actual               0\n",
       "pred                 0\n",
       "alive                0\n",
       "plod                 0\n",
       "name                 0\n",
       "title                0\n",
       "male                 0\n",
       "culture              0\n",
       "dateOfBirth          0\n",
       "DateoFdeath          0\n",
       "mother               0\n",
       "father               0\n",
       "heir                 0\n",
       "house                0\n",
       "spouse               0\n",
       "book1                0\n",
       "book2                0\n",
       "book3                0\n",
       "book4                0\n",
       "book5                0\n",
       "isAliveMother        0\n",
       "isAliveFather        0\n",
       "isAliveHeir          0\n",
       "isAliveSpouse        0\n",
       "isMarried            0\n",
       "isNoble              0\n",
       "age                  0\n",
       "numDeadRelations     0\n",
       "boolDeadRelations    0\n",
       "isPopular            0\n",
       "popularity           0\n",
       "isAlive              0\n",
       "dtype: int64"
      ]
     },
     "execution_count": 8,
     "metadata": {},
     "output_type": "execute_result"
    }
   ],
   "source": [
    "character_predictions_df.isnull().sum()"
   ]
  },
  {
   "cell_type": "markdown",
   "metadata": {
    "id": "spu3r3vchLu0"
   },
   "source": [
    "#### 3. Как сражения в 299 году повлияли на количество основных_смертей? ( используйте данные из `battles.csv`)\n",
    "\n",
    "Например, в скольких битвах погиб хотя бы один командир и в скольких не погиб ни один"
   ]
  },
  {
   "cell_type": "code",
   "execution_count": 9,
   "metadata": {
    "colab": {
     "base_uri": "https://localhost:8080/"
    },
    "id": "t21fWi8ShLu0",
    "outputId": "27f81269-897b-4fda-ee02-8fa891475f11"
   },
   "outputs": [
    {
     "data": {
      "text/plain": [
       "Index(['year', 'battle_number', 'attacker_king', 'defender_king', 'attacker_1',\n",
       "       'attacker_2', 'attacker_3', 'attacker_4', 'defender_1', 'defender_2',\n",
       "       'defender_3', 'defender_4', 'attacker_outcome', 'battle_type',\n",
       "       'major_death', 'major_capture', 'attacker_size', 'defender_size',\n",
       "       'attacker_commander', 'defender_commander', 'summer', 'location',\n",
       "       'region', 'note'],\n",
       "      dtype='object')"
      ]
     },
     "execution_count": 9,
     "metadata": {},
     "output_type": "execute_result"
    }
   ],
   "source": [
    "battles_df.columns"
   ]
  },
  {
   "cell_type": "markdown",
   "metadata": {
    "id": "jLUfNWAXqmxT"
   },
   "source": [
    "#### 4. Каково среднее число смертей в наборе данных? см. `major_death`\n"
   ]
  },
  {
   "cell_type": "code",
   "execution_count": 10,
   "metadata": {
    "id": "PmGqCJPGqmxT"
   },
   "outputs": [],
   "source": [
    "# your code"
   ]
  },
  {
   "cell_type": "markdown",
   "metadata": {
    "id": "meJsghEeqmxT"
   },
   "source": [
    "#### 5. Каково среднее количество смертей только за 299 год? см. `major_death`"
   ]
  },
  {
   "cell_type": "code",
   "execution_count": 11,
   "metadata": {
    "id": "y-tqSyB0qmxU"
   },
   "outputs": [],
   "source": [
    "# your code"
   ]
  },
  {
   "cell_type": "markdown",
   "metadata": {
    "id": "MlLowWINqmxU"
   },
   "source": [
    "#### 6. Перечислите наибольшее количество сражений, произошедших за год, используя два разных метода**\n",
    "\n",
    "А также ниже выпишите год с наибольшим и с наименьшим числом сражений"
   ]
  },
  {
   "cell_type": "code",
   "execution_count": 12,
   "metadata": {
    "id": "f5vNhiBPqmxU"
   },
   "outputs": [],
   "source": [
    "# your code"
   ]
  },
  {
   "cell_type": "markdown",
   "metadata": {
    "id": "hPI2A7BiqmxU"
   },
   "source": [
    "####  7. Найти среднее количество крупных захватов за битву. см. `major_capture`\n"
   ]
  },
  {
   "cell_type": "code",
   "execution_count": 13,
   "metadata": {
    "id": "ZCu7Dq28qmxd"
   },
   "outputs": [],
   "source": [
    "# your code"
   ]
  },
  {
   "cell_type": "markdown",
   "metadata": {
    "id": "7vXBZVXbqmxd"
   },
   "source": [
    "#### 8. Напишите количество битв, проведенных каждым из нападавших королей"
   ]
  },
  {
   "cell_type": "code",
   "execution_count": 14,
   "metadata": {
    "id": "WAaHGfPIqmxd"
   },
   "outputs": [],
   "source": [
    "# your code"
   ]
  },
  {
   "cell_type": "markdown",
   "metadata": {
    "id": "zX-YJy2XbHb5"
   },
   "source": [
    "### Далее давайте применим методы pandas для другого набора данных.\n",
    "\n",
    "#### Описание данных\n",
    "\n",
    "В папке Data находится информация о студентах. Всего 10 групп студентов. Файлы делятся на две категории:\n",
    "\n",
    "    * Students_info_i - информация о студентах из группы i\n",
    "    * Students_marks_i - оценки студентов из группы i за экзамены"
   ]
  },
  {
   "cell_type": "markdown",
   "metadata": {
    "id": "B0Jib5MjbVs0"
   },
   "source": [
    "Одно из важных достоинств pandas $-$ это удобные методы реляционного взаимодействия с данными, аналогичные, например, возможностям SQL для слияния и конкатенации таблиц: merge, join, concat. Наличие готовых методов позволяет не реализовывать самостоятельно поэлементную обработку данных и оперировать сразу целыми таблицами данных.\n",
    "\n",
    "Подробно об этих методах посмотрите тут: https://www.kaggle.com/residentmario/renaming-and-combining#Combining"
   ]
  },
  {
   "cell_type": "markdown",
   "metadata": {
    "id": "Ft8eWeR8ba_d"
   },
   "source": [
    "#### 9. Соберите всю информацию о студентах в одну таблицу df. В получившейся таблице должна быть информация и оценки всех студентов из всех групп. Напечатайте несколько строк таблицы для демонстрации результата.¶"
   ]
  },
  {
   "cell_type": "code",
   "execution_count": 15,
   "metadata": {
    "id": "PNwAFaKnbgap"
   },
   "outputs": [],
   "source": [
    "# your code"
   ]
  },
  {
   "cell_type": "markdown",
   "metadata": {
    "id": "ssKWnBvta_Qy"
   },
   "source": [
    "#### 10. Удалите столбец index у полученной таблицы. Напечатайте первые 10 строк таблицы."
   ]
  },
  {
   "cell_type": "code",
   "execution_count": 16,
   "metadata": {
    "id": "MOoI2CAYa-Q3"
   },
   "outputs": [],
   "source": [
    "# your code"
   ]
  },
  {
   "cell_type": "markdown",
   "metadata": {
    "id": "kNXgQEeSbjjZ"
   },
   "source": [
    "#### 11. Выведите на экран размеры полученной таблицы"
   ]
  },
  {
   "cell_type": "code",
   "execution_count": 17,
   "metadata": {
    "id": "wGKgf78UbwRs"
   },
   "outputs": [],
   "source": [
    "# your code"
   ]
  },
  {
   "cell_type": "markdown",
   "metadata": {
    "id": "nL7RFdhNbwmz"
   },
   "source": [
    "12. Выведите на экран статистические характеристики числовых столбцов таблицы (минимум, максимум, среднее значение, стандартное отклонение)"
   ]
  },
  {
   "cell_type": "code",
   "execution_count": 18,
   "metadata": {
    "id": "l7XJAaUDbscs"
   },
   "outputs": [],
   "source": [
    "# your code"
   ]
  },
  {
   "cell_type": "markdown",
   "metadata": {
    "id": "8tSJ8F2eb07W"
   },
   "source": [
    "13. Как зависят оценки от того, проходил ли студент курс для подготовки к сдаче экзамена (test preparation course)? Выведите на экран для каждого предмета в отдельности средний балл студентов, проходивших курс для подготовки к экзамену и не проходивших курс."
   ]
  },
  {
   "cell_type": "code",
   "execution_count": 19,
   "metadata": {
    "id": "G4e9_rmHcCMG"
   },
   "outputs": [],
   "source": [
    "# your code"
   ]
  },
  {
   "cell_type": "markdown",
   "metadata": {
    "id": "fvUzhQ0QcEF0"
   },
   "source": [
    " 14. Выведите на экран все различные значения из столбца lunch."
   ]
  },
  {
   "cell_type": "code",
   "execution_count": 20,
   "metadata": {
    "id": "_cQ5H6PWcCa4"
   },
   "outputs": [],
   "source": [
    "# your code"
   ]
  },
  {
   "cell_type": "markdown",
   "metadata": {
    "id": "5sVVUZwrcNbU"
   },
   "source": [
    "15. Переименуйте колонку \"parental level of education\" в \"education\", а \"test preparation course\" в \"test preparation\" с помощью метода pandas rename https://pandas.pydata.org/pandas-docs/stable/reference/api/pandas.DataFrame.rename.html"
   ]
  },
  {
   "cell_type": "code",
   "execution_count": 21,
   "metadata": {
    "id": "TmzVKnjPcPSz"
   },
   "outputs": [],
   "source": [
    "# your code"
   ]
  },
  {
   "cell_type": "markdown",
   "metadata": {
    "id": "tUJDxJ5gcREN"
   },
   "source": [
    "Зафиксируем минимальный балл для сдачи экзамена"
   ]
  },
  {
   "cell_type": "code",
   "execution_count": 22,
   "metadata": {
    "id": "BbrAzON0cPl3"
   },
   "outputs": [],
   "source": [
    "passmark = 50"
   ]
  },
  {
   "cell_type": "markdown",
   "metadata": {
    "id": "U-PWS5N1cYgC"
   },
   "source": [
    "16. Ответьте на вопросы: * Какая доля студентов сдала экзамен по математике (passmark >= 50)? * Какая доля студентов, проходивших курс подготовки к экзамену, сдала экзамен по математике? * Какая доля женщин, не проходивших курс подготовки к экзамену, не сдала экзамен по математике?"
   ]
  },
  {
   "cell_type": "code",
   "execution_count": 23,
   "metadata": {
    "id": "ihxfK4eqcPsc"
   },
   "outputs": [],
   "source": [
    "# your code"
   ]
  },
  {
   "cell_type": "markdown",
   "metadata": {
    "id": "e4I94p2Rcddp"
   },
   "source": [
    "17. С помощью groupby выполните задания ниже. Также выведите время выполнения каждого из заданий. * Для каждой этнической группы выведите средний балл за экзамен по чтению * Для каждого уровня образования выведите минимальный балл за экзамен по письму"
   ]
  },
  {
   "cell_type": "code",
   "execution_count": 24,
   "metadata": {
    "id": "i-WNS831cPyC"
   },
   "outputs": [],
   "source": [
    "# your code"
   ]
  },
  {
   "cell_type": "markdown",
   "metadata": {
    "id": "aUAkO71fcgWr"
   },
   "source": [
    "18. Выполните предыдущее выше задание с помощью циклов. Сравните время выполнения."
   ]
  },
  {
   "cell_type": "code",
   "execution_count": 25,
   "metadata": {
    "id": "CsC0-6mkcg8z"
   },
   "outputs": [],
   "source": [
    "# your code"
   ]
  },
  {
   "cell_type": "markdown",
   "metadata": {
    "id": "2SqPLVP1cr89"
   },
   "source": [
    "19. Выведите на экран средние баллы студентов по каждому предмету в зависимости от пола и уровня образования. То есть должно получиться количество групп, равных 2 * (число уровней образования), и для каждой такой группы выыведите средний балл по каждому из предметов.**\n",
    "\n",
    "Это можно сделать с помощью сводных таблиц (pivot_table):\n",
    "\n",
    "https://www.kaggle.com/kamilpolak/tutorial-how-to-use-pivot-table-in-pandas"
   ]
  },
  {
   "cell_type": "code",
   "execution_count": 26,
   "metadata": {
    "id": "qPYcv-CAc7b2"
   },
   "outputs": [],
   "source": [
    "# your code"
   ]
  },
  {
   "cell_type": "markdown",
   "metadata": {
    "id": "8nnBl_OHc70Z"
   },
   "source": [
    "20. Сколько студентов успешно сдали экзамен по математике?\n",
    "\n",
    "Создайте новый столбец в таблице df под названием Math_PassStatus и запишите в него F, если студент не сдал экзамен по математике (балл за экзамен < passmark), и P иначе.\n",
    "\n",
    "Посчитайте количество студентов, сдавших и не сдавших экзамен по математике.\n",
    "\n",
    "Сделайте аналогичные шаги для экзаменов по чтению и письму."
   ]
  },
  {
   "cell_type": "code",
   "execution_count": 27,
   "metadata": {
    "id": "jnmsr8bZc-Ik"
   },
   "outputs": [],
   "source": [
    "# your code"
   ]
  },
  {
   "cell_type": "markdown",
   "metadata": {
    "id": "YwA3jJSpc_p0"
   },
   "source": [
    "21. Сколько студентов успешно сдали все экзамены?\n",
    "Создайте столбец OverAll_PassStatus и запишите в него для каждого студента 'F', если студент не сдал хотя бы один из трех экзаменов, а иначе 'P'.\n",
    "\n",
    "Посчитайте количество студентов, которые сдали все экзамены."
   ]
  },
  {
   "cell_type": "code",
   "execution_count": null,
   "metadata": {
    "id": "TBwUHZ-9c9vh"
   },
   "outputs": [],
   "source": []
  },
  {
   "cell_type": "markdown",
   "metadata": {
    "id": "8uWElO-ddHS1"
   },
   "source": [
    "22. Переведем баллы в оценки\n",
    "\n",
    " Система перевода баллов в оценки:\n",
    "                      больше 90 = A\n",
    "                      80-90 = B\n",
    "                      70-80 = C\n",
    "                      60-70 = D\n",
    "                      50-60 = E\n",
    "                      меньше 50 = F (Fail)\n",
    "\n",
    "Создайте вспомогательную функцию, которая будет по среднему баллу за три экзамена выставлять оценку студенту по данным выше критериям.\n",
    "\n",
    "Создайте столбец Grade и запишите в него оценку каждого студента.\n",
    "\n",
    "Выведите количество студентов, получивших каждую из оценок.\n",
    "\n",
    "**В случае, если средний балл попадает на границу между оценками (т.е. равен ровно 60, 70 или 80 баллов), вы можете интерпретировать условие на своё усмотрение (т.е. можете поставить за 60 баллов оценку D, а можете - E).**"
   ]
  },
  {
   "cell_type": "code",
   "execution_count": 29,
   "metadata": {
    "colab": {
     "base_uri": "https://localhost:8080/",
     "height": 106
    },
    "id": "LVLdHJzndPRq",
    "outputId": "7dabe6da-3789-4c3b-c5d3-3ba49a687658"
   },
   "outputs": [],
   "source": [
    "def GetGrade(average_mark):\n",
    "    # your code here\n",
    "    return"
   ]
  },
  {
   "cell_type": "markdown",
   "metadata": {
    "id": "A68xnXoaqmxd"
   },
   "source": [
    "На этом с пандами пока все, но только на сегодня;)\n",
    "\n",
    "<img src=\"https://media1.tenor.com/images/9b8fbe9214504bcf6c60fe4e4f7e114e/tenor.gif?itemid=5416416\" style=\"width: 400px\">"
   ]
  },
  {
   "cell_type": "markdown",
   "metadata": {
    "id": "uL45Tg5fhLu1"
   },
   "source": [
    "## II. Визуализации"
   ]
  },
  {
   "cell_type": "markdown",
   "metadata": {
    "id": "MY9lKmP2hLu1"
   },
   "source": [
    "При работе с данными часто неудобно делать какие-то выводы, если смотреть на таблицу и числа в частности, поэтому важно уметь визуализировать данные. Здесь будут описаны ключевые правила оформления графиков для **всех** домашних заданий.\n",
    "\n",
    "У matplotlib, конечно же, есть [документация](https://matplotlib.org/users/index.html) с большим количеством [примеров](https://matplotlib.org/examples/), но для начала достаточно знать про несколько основных типов графиков:\n",
    "- plot — обычный поточечный график, которым можно изображать кривые или отдельные точки;\n",
    "- hist — гистограмма, показывающая распределение некоторой величины;\n",
    "- scatter — график, показывающий взаимосвязь двух величин;\n",
    "- bar — столбцовый график, показывающий взаимосвязь количественной величины от категориальной.\n",
    "\n",
    "В этом задании вы попробуете построить один из них. Не забывайте про базовые принципы построения приличных графиков:\n",
    "- оси должны быть подписаны, причём не слишком мелко;\n",
    "- у графика должно быть название;\n",
    "- если изображено несколько графиков, то необходима поясняющая легенда;\n",
    "- все линии на графиках должны быть чётко видны (нет похожих цветов или цветов, сливающихся с фоном);\n",
    "- если отображена величина, имеющая очевидный диапазон значений (например, проценты могут быть от 0 до 100), то желательно масштабировать ось на весь диапазон значений (исключением является случай, когда вам необходимо показать малое отличие, которое незаметно в таких масштабах);\n",
    "- сетка на графике помогает оценить значения в точках на глаз, это обычно полезно, поэтому лучше ее отрисовывать;\n",
    "- если распределение на гистограмме имеет тяжёлые хвосты, лучше использовать логарифмическую шкалу.\n",
    "\n",
    "Каждый построенный график необходимо красиво оформить - для этого требуется как минимум указать его название, а также отметить, что изображено по каждой из осей.\n",
    "Также по каждому графику ожидается небольшой комментарий с выводами.\n",
    "\n",
    "*Функции, которые могут пригодиться при оформлении графиков: `.show()`, `.title()`, `.xlabel()`, `.ylabel()`*\n",
    "\n",
    "Еще одна билиотека для визуализации: [seaborn](https://jakevdp.github.io/PythonDataScienceHandbook/04.14-visualization-with-seaborn.html) (обычно сокращается до sns). Это настройка над matplotlib, иногда удобнее и красивее делать визуализации через неё.\n",
    "\n",
    "\n",
    "\n",
    "**5 пунктов после которых ваши графики не будут прежними:**\n",
    "- для красивой картинки <code>%config InlineBackend.figure_format = 'retina'</code>\n",
    "- задаем размер (почти) всех графиков (можно выбрать другие значения) <code>plt.rcParams['figure.figsize'] = 8, 5</code>\n",
    "- размер шрифта подписей графиков <code>plt.rcParams['font.size'] = 12</code>\n",
    "- формат в котором сохраняется изображение <code>mpl.rcParams['savefig.format'] = 'pdf'</code>\n",
    "- sns – seaborn, добавляет решетку <code>sns.set_style('darkgrid')</code>\n",
    "\n",
    "Добавьте эти функции в ячейку ниже. Каждый график все равно придется настраивать отдельно, но указанные строчки позволят значительно упростить процесс.  "
   ]
  },
  {
   "cell_type": "code",
   "execution_count": 31,
   "metadata": {
    "colab": {
     "base_uri": "https://localhost:8080/",
     "height": 226
    },
    "id": "na9doUOFhLu1",
    "outputId": "ac6ceb69-3201-41af-8cb0-91c863f7ad98"
   },
   "outputs": [
    {
     "data": {
      "text/html": [
       "<div>\n",
       "<style scoped>\n",
       "    .dataframe tbody tr th:only-of-type {\n",
       "        vertical-align: middle;\n",
       "    }\n",
       "\n",
       "    .dataframe tbody tr th {\n",
       "        vertical-align: top;\n",
       "    }\n",
       "\n",
       "    .dataframe thead th {\n",
       "        text-align: right;\n",
       "    }\n",
       "</style>\n",
       "<table border=\"1\" class=\"dataframe\">\n",
       "  <thead>\n",
       "    <tr style=\"text-align: right;\">\n",
       "      <th></th>\n",
       "      <th>name</th>\n",
       "      <th>year</th>\n",
       "      <th>battle_number</th>\n",
       "      <th>attacker_king</th>\n",
       "      <th>defender_king</th>\n",
       "      <th>attacker_1</th>\n",
       "      <th>attacker_2</th>\n",
       "      <th>attacker_3</th>\n",
       "      <th>attacker_4</th>\n",
       "      <th>defender_1</th>\n",
       "      <th>...</th>\n",
       "      <th>major_death</th>\n",
       "      <th>major_capture</th>\n",
       "      <th>attacker_size</th>\n",
       "      <th>defender_size</th>\n",
       "      <th>attacker_commander</th>\n",
       "      <th>defender_commander</th>\n",
       "      <th>summer</th>\n",
       "      <th>location</th>\n",
       "      <th>region</th>\n",
       "      <th>note</th>\n",
       "    </tr>\n",
       "  </thead>\n",
       "  <tbody>\n",
       "    <tr>\n",
       "      <th>0</th>\n",
       "      <td>Battle of the Golden Tooth</td>\n",
       "      <td>298</td>\n",
       "      <td>1</td>\n",
       "      <td>Joffrey/Tommen Baratheon</td>\n",
       "      <td>Robb Stark</td>\n",
       "      <td>Lannister</td>\n",
       "      <td>NaN</td>\n",
       "      <td>NaN</td>\n",
       "      <td>NaN</td>\n",
       "      <td>Tully</td>\n",
       "      <td>...</td>\n",
       "      <td>1.0</td>\n",
       "      <td>0.0</td>\n",
       "      <td>15000.0</td>\n",
       "      <td>4000.0</td>\n",
       "      <td>Jaime Lannister</td>\n",
       "      <td>Clement Piper, Vance</td>\n",
       "      <td>1.0</td>\n",
       "      <td>Golden Tooth</td>\n",
       "      <td>The Westerlands</td>\n",
       "      <td>NaN</td>\n",
       "    </tr>\n",
       "    <tr>\n",
       "      <th>1</th>\n",
       "      <td>Battle at the Mummer's Ford</td>\n",
       "      <td>298</td>\n",
       "      <td>2</td>\n",
       "      <td>Joffrey/Tommen Baratheon</td>\n",
       "      <td>Robb Stark</td>\n",
       "      <td>Lannister</td>\n",
       "      <td>NaN</td>\n",
       "      <td>NaN</td>\n",
       "      <td>NaN</td>\n",
       "      <td>Baratheon</td>\n",
       "      <td>...</td>\n",
       "      <td>1.0</td>\n",
       "      <td>0.0</td>\n",
       "      <td>NaN</td>\n",
       "      <td>120.0</td>\n",
       "      <td>Gregor Clegane</td>\n",
       "      <td>Beric Dondarrion</td>\n",
       "      <td>1.0</td>\n",
       "      <td>Mummer's Ford</td>\n",
       "      <td>The Riverlands</td>\n",
       "      <td>NaN</td>\n",
       "    </tr>\n",
       "    <tr>\n",
       "      <th>2</th>\n",
       "      <td>Battle of Riverrun</td>\n",
       "      <td>298</td>\n",
       "      <td>3</td>\n",
       "      <td>Joffrey/Tommen Baratheon</td>\n",
       "      <td>Robb Stark</td>\n",
       "      <td>Lannister</td>\n",
       "      <td>NaN</td>\n",
       "      <td>NaN</td>\n",
       "      <td>NaN</td>\n",
       "      <td>Tully</td>\n",
       "      <td>...</td>\n",
       "      <td>0.0</td>\n",
       "      <td>1.0</td>\n",
       "      <td>15000.0</td>\n",
       "      <td>10000.0</td>\n",
       "      <td>Jaime Lannister, Andros Brax</td>\n",
       "      <td>Edmure Tully, Tytos Blackwood</td>\n",
       "      <td>1.0</td>\n",
       "      <td>Riverrun</td>\n",
       "      <td>The Riverlands</td>\n",
       "      <td>NaN</td>\n",
       "    </tr>\n",
       "    <tr>\n",
       "      <th>3</th>\n",
       "      <td>Battle of the Green Fork</td>\n",
       "      <td>298</td>\n",
       "      <td>4</td>\n",
       "      <td>Robb Stark</td>\n",
       "      <td>Joffrey/Tommen Baratheon</td>\n",
       "      <td>Stark</td>\n",
       "      <td>NaN</td>\n",
       "      <td>NaN</td>\n",
       "      <td>NaN</td>\n",
       "      <td>Lannister</td>\n",
       "      <td>...</td>\n",
       "      <td>1.0</td>\n",
       "      <td>1.0</td>\n",
       "      <td>18000.0</td>\n",
       "      <td>20000.0</td>\n",
       "      <td>Roose Bolton, Wylis Manderly, Medger Cerwyn, H...</td>\n",
       "      <td>Tywin Lannister, Gregor Clegane, Kevan Lannist...</td>\n",
       "      <td>1.0</td>\n",
       "      <td>Green Fork</td>\n",
       "      <td>The Riverlands</td>\n",
       "      <td>NaN</td>\n",
       "    </tr>\n",
       "    <tr>\n",
       "      <th>4</th>\n",
       "      <td>Battle of the Whispering Wood</td>\n",
       "      <td>298</td>\n",
       "      <td>5</td>\n",
       "      <td>Robb Stark</td>\n",
       "      <td>Joffrey/Tommen Baratheon</td>\n",
       "      <td>Stark</td>\n",
       "      <td>Tully</td>\n",
       "      <td>NaN</td>\n",
       "      <td>NaN</td>\n",
       "      <td>Lannister</td>\n",
       "      <td>...</td>\n",
       "      <td>1.0</td>\n",
       "      <td>1.0</td>\n",
       "      <td>1875.0</td>\n",
       "      <td>6000.0</td>\n",
       "      <td>Robb Stark, Brynden Tully</td>\n",
       "      <td>Jaime Lannister</td>\n",
       "      <td>1.0</td>\n",
       "      <td>Whispering Wood</td>\n",
       "      <td>The Riverlands</td>\n",
       "      <td>NaN</td>\n",
       "    </tr>\n",
       "  </tbody>\n",
       "</table>\n",
       "<p>5 rows × 25 columns</p>\n",
       "</div>"
      ],
      "text/plain": [
       "                            name  year  battle_number  \\\n",
       "0     Battle of the Golden Tooth   298              1   \n",
       "1    Battle at the Mummer's Ford   298              2   \n",
       "2             Battle of Riverrun   298              3   \n",
       "3       Battle of the Green Fork   298              4   \n",
       "4  Battle of the Whispering Wood   298              5   \n",
       "\n",
       "              attacker_king             defender_king attacker_1 attacker_2  \\\n",
       "0  Joffrey/Tommen Baratheon                Robb Stark  Lannister        NaN   \n",
       "1  Joffrey/Tommen Baratheon                Robb Stark  Lannister        NaN   \n",
       "2  Joffrey/Tommen Baratheon                Robb Stark  Lannister        NaN   \n",
       "3                Robb Stark  Joffrey/Tommen Baratheon      Stark        NaN   \n",
       "4                Robb Stark  Joffrey/Tommen Baratheon      Stark      Tully   \n",
       "\n",
       "  attacker_3 attacker_4 defender_1  ... major_death  major_capture  \\\n",
       "0        NaN        NaN      Tully  ...         1.0            0.0   \n",
       "1        NaN        NaN  Baratheon  ...         1.0            0.0   \n",
       "2        NaN        NaN      Tully  ...         0.0            1.0   \n",
       "3        NaN        NaN  Lannister  ...         1.0            1.0   \n",
       "4        NaN        NaN  Lannister  ...         1.0            1.0   \n",
       "\n",
       "   attacker_size defender_size  \\\n",
       "0        15000.0        4000.0   \n",
       "1            NaN         120.0   \n",
       "2        15000.0       10000.0   \n",
       "3        18000.0       20000.0   \n",
       "4         1875.0        6000.0   \n",
       "\n",
       "                                  attacker_commander  \\\n",
       "0                                    Jaime Lannister   \n",
       "1                                     Gregor Clegane   \n",
       "2                       Jaime Lannister, Andros Brax   \n",
       "3  Roose Bolton, Wylis Manderly, Medger Cerwyn, H...   \n",
       "4                          Robb Stark, Brynden Tully   \n",
       "\n",
       "                                  defender_commander  summer         location  \\\n",
       "0                               Clement Piper, Vance     1.0     Golden Tooth   \n",
       "1                                   Beric Dondarrion     1.0    Mummer's Ford   \n",
       "2                      Edmure Tully, Tytos Blackwood     1.0         Riverrun   \n",
       "3  Tywin Lannister, Gregor Clegane, Kevan Lannist...     1.0       Green Fork   \n",
       "4                                    Jaime Lannister     1.0  Whispering Wood   \n",
       "\n",
       "            region note  \n",
       "0  The Westerlands  NaN  \n",
       "1   The Riverlands  NaN  \n",
       "2   The Riverlands  NaN  \n",
       "3   The Riverlands  NaN  \n",
       "4   The Riverlands  NaN  \n",
       "\n",
       "[5 rows x 25 columns]"
      ]
     },
     "execution_count": 31,
     "metadata": {},
     "output_type": "execute_result"
    }
   ],
   "source": [
    "%matplotlib inline\n",
    "import matplotlib.pyplot as plt\n",
    "import seaborn as sns\n",
    "\n",
    "#настройка вывода информации на графиках\n",
    "%config InlineBackend.figure_format = 'retina'\n",
    "plt.rcParams['figure.figsize'] = 8, 5\n",
    "plt.rcParams['font.size'] = 12\n",
    "plt.rcParams['savefig.format'] = 'pdf'\n",
    "sns.set_style('darkgrid')\n",
    "# your code\n",
    "dataBattle = pd.read_csv(\n",
    "    \"CSV/battles.csv\",\n",
    "    sep=\",\",\n",
    ")\n",
    "\n",
    "dataBattle.head()\n"
   ]
  },
  {
   "cell_type": "markdown",
   "metadata": {
    "id": "39Zzdh0EeA5f"
   },
   "source": [
    "Все задания, относящиеся к пункту II имеют равный вес (3/14)."
   ]
  },
  {
   "cell_type": "code",
   "execution_count": 32,
   "metadata": {
    "colab": {
     "base_uri": "https://localhost:8080/",
     "height": 257
    },
    "id": "jy1lGr3Z5Uvm",
    "outputId": "c9a86288-dc47-4198-e260-d57530bbf025"
   },
   "outputs": [
    {
     "data": {
      "text/html": [
       "<div>\n",
       "<style scoped>\n",
       "    .dataframe tbody tr th:only-of-type {\n",
       "        vertical-align: middle;\n",
       "    }\n",
       "\n",
       "    .dataframe tbody tr th {\n",
       "        vertical-align: top;\n",
       "    }\n",
       "\n",
       "    .dataframe thead th {\n",
       "        text-align: right;\n",
       "    }\n",
       "</style>\n",
       "<table border=\"1\" class=\"dataframe\">\n",
       "  <thead>\n",
       "    <tr style=\"text-align: right;\">\n",
       "      <th></th>\n",
       "      <th>name</th>\n",
       "      <th>year</th>\n",
       "      <th>battle_number</th>\n",
       "      <th>attacker_king</th>\n",
       "      <th>defender_king</th>\n",
       "      <th>attacker_1</th>\n",
       "      <th>attacker_2</th>\n",
       "      <th>attacker_3</th>\n",
       "      <th>attacker_4</th>\n",
       "      <th>defender_1</th>\n",
       "      <th>...</th>\n",
       "      <th>major_death</th>\n",
       "      <th>major_capture</th>\n",
       "      <th>attacker_size</th>\n",
       "      <th>defender_size</th>\n",
       "      <th>attacker_commander</th>\n",
       "      <th>defender_commander</th>\n",
       "      <th>summer</th>\n",
       "      <th>location</th>\n",
       "      <th>region</th>\n",
       "      <th>note</th>\n",
       "    </tr>\n",
       "  </thead>\n",
       "  <tbody>\n",
       "    <tr>\n",
       "      <th>0</th>\n",
       "      <td>Battle of the Golden Tooth</td>\n",
       "      <td>298</td>\n",
       "      <td>1</td>\n",
       "      <td>Joffrey/Tommen Baratheon</td>\n",
       "      <td>Robb Stark</td>\n",
       "      <td>Lannister</td>\n",
       "      <td>NaN</td>\n",
       "      <td>NaN</td>\n",
       "      <td>NaN</td>\n",
       "      <td>Tully</td>\n",
       "      <td>...</td>\n",
       "      <td>1.0</td>\n",
       "      <td>0.0</td>\n",
       "      <td>15000.0</td>\n",
       "      <td>4000.0</td>\n",
       "      <td>Jaime Lannister</td>\n",
       "      <td>Clement Piper, Vance</td>\n",
       "      <td>1.0</td>\n",
       "      <td>Golden Tooth</td>\n",
       "      <td>The Westerlands</td>\n",
       "      <td>NaN</td>\n",
       "    </tr>\n",
       "    <tr>\n",
       "      <th>1</th>\n",
       "      <td>Battle at the Mummer's Ford</td>\n",
       "      <td>298</td>\n",
       "      <td>2</td>\n",
       "      <td>Joffrey/Tommen Baratheon</td>\n",
       "      <td>Robb Stark</td>\n",
       "      <td>Lannister</td>\n",
       "      <td>NaN</td>\n",
       "      <td>NaN</td>\n",
       "      <td>NaN</td>\n",
       "      <td>Baratheon</td>\n",
       "      <td>...</td>\n",
       "      <td>1.0</td>\n",
       "      <td>0.0</td>\n",
       "      <td>NaN</td>\n",
       "      <td>120.0</td>\n",
       "      <td>Gregor Clegane</td>\n",
       "      <td>Beric Dondarrion</td>\n",
       "      <td>1.0</td>\n",
       "      <td>Mummer's Ford</td>\n",
       "      <td>The Riverlands</td>\n",
       "      <td>NaN</td>\n",
       "    </tr>\n",
       "    <tr>\n",
       "      <th>2</th>\n",
       "      <td>Battle of Riverrun</td>\n",
       "      <td>298</td>\n",
       "      <td>3</td>\n",
       "      <td>Joffrey/Tommen Baratheon</td>\n",
       "      <td>Robb Stark</td>\n",
       "      <td>Lannister</td>\n",
       "      <td>NaN</td>\n",
       "      <td>NaN</td>\n",
       "      <td>NaN</td>\n",
       "      <td>Tully</td>\n",
       "      <td>...</td>\n",
       "      <td>0.0</td>\n",
       "      <td>1.0</td>\n",
       "      <td>15000.0</td>\n",
       "      <td>10000.0</td>\n",
       "      <td>Jaime Lannister, Andros Brax</td>\n",
       "      <td>Edmure Tully, Tytos Blackwood</td>\n",
       "      <td>1.0</td>\n",
       "      <td>Riverrun</td>\n",
       "      <td>The Riverlands</td>\n",
       "      <td>NaN</td>\n",
       "    </tr>\n",
       "    <tr>\n",
       "      <th>3</th>\n",
       "      <td>Battle of the Green Fork</td>\n",
       "      <td>298</td>\n",
       "      <td>4</td>\n",
       "      <td>Robb Stark</td>\n",
       "      <td>Joffrey/Tommen Baratheon</td>\n",
       "      <td>Stark</td>\n",
       "      <td>NaN</td>\n",
       "      <td>NaN</td>\n",
       "      <td>NaN</td>\n",
       "      <td>Lannister</td>\n",
       "      <td>...</td>\n",
       "      <td>1.0</td>\n",
       "      <td>1.0</td>\n",
       "      <td>18000.0</td>\n",
       "      <td>20000.0</td>\n",
       "      <td>Roose Bolton, Wylis Manderly, Medger Cerwyn, H...</td>\n",
       "      <td>Tywin Lannister, Gregor Clegane, Kevan Lannist...</td>\n",
       "      <td>1.0</td>\n",
       "      <td>Green Fork</td>\n",
       "      <td>The Riverlands</td>\n",
       "      <td>NaN</td>\n",
       "    </tr>\n",
       "    <tr>\n",
       "      <th>4</th>\n",
       "      <td>Battle of the Whispering Wood</td>\n",
       "      <td>298</td>\n",
       "      <td>5</td>\n",
       "      <td>Robb Stark</td>\n",
       "      <td>Joffrey/Tommen Baratheon</td>\n",
       "      <td>Stark</td>\n",
       "      <td>Tully</td>\n",
       "      <td>NaN</td>\n",
       "      <td>NaN</td>\n",
       "      <td>Lannister</td>\n",
       "      <td>...</td>\n",
       "      <td>1.0</td>\n",
       "      <td>1.0</td>\n",
       "      <td>1875.0</td>\n",
       "      <td>6000.0</td>\n",
       "      <td>Robb Stark, Brynden Tully</td>\n",
       "      <td>Jaime Lannister</td>\n",
       "      <td>1.0</td>\n",
       "      <td>Whispering Wood</td>\n",
       "      <td>The Riverlands</td>\n",
       "      <td>NaN</td>\n",
       "    </tr>\n",
       "    <tr>\n",
       "      <th>5</th>\n",
       "      <td>Battle of the Camps</td>\n",
       "      <td>298</td>\n",
       "      <td>6</td>\n",
       "      <td>Robb Stark</td>\n",
       "      <td>Joffrey/Tommen Baratheon</td>\n",
       "      <td>Stark</td>\n",
       "      <td>Tully</td>\n",
       "      <td>NaN</td>\n",
       "      <td>NaN</td>\n",
       "      <td>Lannister</td>\n",
       "      <td>...</td>\n",
       "      <td>0.0</td>\n",
       "      <td>0.0</td>\n",
       "      <td>6000.0</td>\n",
       "      <td>12625.0</td>\n",
       "      <td>Robb Stark, Tytos Blackwood, Brynden Tully</td>\n",
       "      <td>Lord Andros Brax, Forley Prester</td>\n",
       "      <td>1.0</td>\n",
       "      <td>Riverrun</td>\n",
       "      <td>The Riverlands</td>\n",
       "      <td>NaN</td>\n",
       "    </tr>\n",
       "  </tbody>\n",
       "</table>\n",
       "<p>6 rows × 25 columns</p>\n",
       "</div>"
      ],
      "text/plain": [
       "                            name  year  battle_number  \\\n",
       "0     Battle of the Golden Tooth   298              1   \n",
       "1    Battle at the Mummer's Ford   298              2   \n",
       "2             Battle of Riverrun   298              3   \n",
       "3       Battle of the Green Fork   298              4   \n",
       "4  Battle of the Whispering Wood   298              5   \n",
       "5            Battle of the Camps   298              6   \n",
       "\n",
       "              attacker_king             defender_king attacker_1 attacker_2  \\\n",
       "0  Joffrey/Tommen Baratheon                Robb Stark  Lannister        NaN   \n",
       "1  Joffrey/Tommen Baratheon                Robb Stark  Lannister        NaN   \n",
       "2  Joffrey/Tommen Baratheon                Robb Stark  Lannister        NaN   \n",
       "3                Robb Stark  Joffrey/Tommen Baratheon      Stark        NaN   \n",
       "4                Robb Stark  Joffrey/Tommen Baratheon      Stark      Tully   \n",
       "5                Robb Stark  Joffrey/Tommen Baratheon      Stark      Tully   \n",
       "\n",
       "  attacker_3 attacker_4 defender_1  ... major_death  major_capture  \\\n",
       "0        NaN        NaN      Tully  ...         1.0            0.0   \n",
       "1        NaN        NaN  Baratheon  ...         1.0            0.0   \n",
       "2        NaN        NaN      Tully  ...         0.0            1.0   \n",
       "3        NaN        NaN  Lannister  ...         1.0            1.0   \n",
       "4        NaN        NaN  Lannister  ...         1.0            1.0   \n",
       "5        NaN        NaN  Lannister  ...         0.0            0.0   \n",
       "\n",
       "   attacker_size defender_size  \\\n",
       "0        15000.0        4000.0   \n",
       "1            NaN         120.0   \n",
       "2        15000.0       10000.0   \n",
       "3        18000.0       20000.0   \n",
       "4         1875.0        6000.0   \n",
       "5         6000.0       12625.0   \n",
       "\n",
       "                                  attacker_commander  \\\n",
       "0                                    Jaime Lannister   \n",
       "1                                     Gregor Clegane   \n",
       "2                       Jaime Lannister, Andros Brax   \n",
       "3  Roose Bolton, Wylis Manderly, Medger Cerwyn, H...   \n",
       "4                          Robb Stark, Brynden Tully   \n",
       "5         Robb Stark, Tytos Blackwood, Brynden Tully   \n",
       "\n",
       "                                  defender_commander  summer         location  \\\n",
       "0                               Clement Piper, Vance     1.0     Golden Tooth   \n",
       "1                                   Beric Dondarrion     1.0    Mummer's Ford   \n",
       "2                      Edmure Tully, Tytos Blackwood     1.0         Riverrun   \n",
       "3  Tywin Lannister, Gregor Clegane, Kevan Lannist...     1.0       Green Fork   \n",
       "4                                    Jaime Lannister     1.0  Whispering Wood   \n",
       "5                   Lord Andros Brax, Forley Prester     1.0         Riverrun   \n",
       "\n",
       "            region note  \n",
       "0  The Westerlands  NaN  \n",
       "1   The Riverlands  NaN  \n",
       "2   The Riverlands  NaN  \n",
       "3   The Riverlands  NaN  \n",
       "4   The Riverlands  NaN  \n",
       "5   The Riverlands  NaN  \n",
       "\n",
       "[6 rows x 25 columns]"
      ]
     },
     "execution_count": 32,
     "metadata": {},
     "output_type": "execute_result"
    }
   ],
   "source": [
    "dataBattle.loc[:5]"
   ]
  },
  {
   "cell_type": "markdown",
   "metadata": {
    "id": "5UDhjOtHaunv"
   },
   "source": [
    "Вернемся к данным о сражениях из сериала \"Игра престолов\":"
   ]
  },
  {
   "cell_type": "markdown",
   "metadata": {
    "id": "kikwLpxfhLu1"
   },
   "source": [
    "#### 1. Выведите на экран круговую диаграмму распределения количества смертей. Какие Вы можете следать по ней выводы?\n",
    "Этот инструмент отлично подходит для визуализации собранных нами данных. На выбор предлагается множество графиков: столбик, линия, круговая диаграмма или диаграмма рассеяния."
   ]
  },
  {
   "cell_type": "code",
   "execution_count": 33,
   "metadata": {
    "colab": {
     "base_uri": "https://localhost:8080/",
     "height": 479
    },
    "id": "UTPLVeQvhLu2",
    "outputId": "d315003d-bc33-4e84-d404-11c85b564077"
   },
   "outputs": [
    {
     "name": "stdout",
     "output_type": "stream",
     "text": [
      "Data size: (38, 24)\n"
     ]
    },
    {
     "data": {
      "text/plain": [
       "(array([24.,  0.,  0.,  0.,  0.,  0.,  0.,  0.,  0., 13.]),\n",
       " array([0. , 0.1, 0.2, 0.3, 0.4, 0.5, 0.6, 0.7, 0.8, 0.9, 1. ]),\n",
       " <BarContainer object of 10 artists>)"
      ]
     },
     "execution_count": 33,
     "metadata": {},
     "output_type": "execute_result"
    },
    {
     "data": {
      "image/png": "[encoded data removed]",
      "text/plain": [
       "<Figure size 750x450 with 1 Axes>"
      ]
     },
     "metadata": {
      "image/png": {
       "height": 441,
       "width": 653
      }
     },
     "output_type": "display_data"
    }
   ],
   "source": [
    "print(f\"Data size: {battles_df.shape}\")\n",
    "plt.figure(figsize=(5, 3), dpi=150)\n",
    "plt.title(\"Death\", fontsize=10)\n",
    "plt.hist(battles_df[\"major_death\"], bins=10)"
   ]
  },
  {
   "cell_type": "markdown",
   "metadata": {
    "id": "AmsQg9_xhLu2"
   },
   "source": [
    "Сохраните график в формате pdf (так он останется векторизованным)."
   ]
  },
  {
   "cell_type": "code",
   "execution_count": 34,
   "metadata": {
    "id": "vKZNSwWghLu2"
   },
   "outputs": [],
   "source": [
    "# your code"
   ]
  },
  {
   "cell_type": "markdown",
   "metadata": {
    "id": "Wq-yI-4qqmxe"
   },
   "source": [
    "#### 2. Выведите на экран гистограмму, показывающую количество умерших людей по отношению к каждому дому."
   ]
  },
  {
   "cell_type": "code",
   "execution_count": 35,
   "metadata": {
    "id": "VQS-q-2aqmxe"
   },
   "outputs": [],
   "source": [
    "# your code"
   ]
  },
  {
   "cell_type": "markdown",
   "metadata": {
    "id": "1jC9nr2Cqmxe"
   },
   "source": [
    "#### 3. Выведите на экран диаграмму, используя библиотеку `seaborn`, которая бы наглядно показала количество битв, в которых король участвовал в качестве защитника"
   ]
  },
  {
   "cell_type": "code",
   "execution_count": 36,
   "metadata": {
    "id": "rlW0y1nFqmxe"
   },
   "outputs": [],
   "source": [
    "# your code"
   ]
  },
  {
   "cell_type": "markdown",
   "metadata": {
    "id": "576mSF3Lqmxe"
   },
   "source": [
    "#### 4. Выведите на экран диаграмму, используя библиотеку `seaborn`, которая бы наглядно показала количество битв, в которых король участвовал в качестве атакующего"
   ]
  },
  {
   "cell_type": "code",
   "execution_count": 37,
   "metadata": {
    "id": "vee2vgzHqmxe"
   },
   "outputs": [],
   "source": [
    "# your code"
   ]
  },
  {
   "cell_type": "markdown",
   "metadata": {
    "id": "Iw6ni5_uqmxe"
   },
   "source": [
    "#### 5. Выведите на экран диаграмму зависимости успеха атаки от числа защитников. Используйте \"ящик с усами\" из `seaborn`"
   ]
  },
  {
   "cell_type": "code",
   "execution_count": 38,
   "metadata": {
    "id": "7tywtsAWqmxe"
   },
   "outputs": [],
   "source": [
    "# your code"
   ]
  },
  {
   "cell_type": "markdown",
   "metadata": {
    "id": "ngRs4V9_qmxf"
   },
   "source": [
    "#### 6. Приведите ниже диаграмму, которая показывает, как количество серьезных смертей повлияло на результат битвы для атакующего ('Влияние гибели командира на исход битвы')."
   ]
  },
  {
   "cell_type": "code",
   "execution_count": 39,
   "metadata": {
    "id": "JxDRLeb5qmxf"
   },
   "outputs": [],
   "source": [
    "# your code"
   ]
  },
  {
   "cell_type": "markdown",
   "metadata": {
    "id": "-Smd75jUqmxf"
   },
   "source": [
    "#### 7. Приведите ниже диаграмму, которая показывает, как количество крупных захватов повлияло на результат боя для атакующего ('Влияние пленения командира на исход битвы')."
   ]
  },
  {
   "cell_type": "code",
   "execution_count": 40,
   "metadata": {
    "id": "i0FlMQUrqmxf"
   },
   "outputs": [],
   "source": [
    "# your code"
   ]
  },
  {
   "cell_type": "markdown",
   "metadata": {
    "id": "c3ifNyOqSnrz"
   },
   "source": [
    "# И ещё немного EDA и визуализаций"
   ]
  },
  {
   "cell_type": "markdown",
   "metadata": {
    "id": "8gY_INKJThW6"
   },
   "source": [
    "Теперь поработаетм с такой задачей, как задача кредитного скоринга (оценка надёжности клиента).\n",
    "\n",
    "Предоставляются данные о 1000 клиентов, про которых известно около 20 признаков и положительная или отрицательная оценка в качестве кредитуемого. Эти данные нужно будет подготовить, исследовать (в том числе с помощью средств визуализации) и даже попробовать предложить какую-нибудь формулу для условной оценки надёжности клиентов исходя из предоставленных данных. Описание данных:\n",
    "https://www.rdocumentation.org/packages/evtree/versions/1.0-8/topics/GermanCredit\n",
    "\n"
   ]
  },
  {
   "cell_type": "markdown",
   "metadata": {
    "id": "otLtn4NIUMw1"
   },
   "source": [
    "8. Прочитайте средствами pandas файл с данными `german_credit.csv`. Выведите базовое представление таблицы (первые 5 и последние 5 строк, размер)."
   ]
  },
  {
   "cell_type": "code",
   "execution_count": 41,
   "metadata": {
    "id": "dwByl1fKSmQc"
   },
   "outputs": [],
   "source": [
    "# your code"
   ]
  },
  {
   "cell_type": "markdown",
   "metadata": {
    "id": "DS62tFQ3Ujtg"
   },
   "source": [
    "9. Рассмотрим сравнительное количество положительных и отрицательных кейсов в зависимости от размера текущего счёта. Постройте зеркальные горизонтальные гистограммы."
   ]
  },
  {
   "cell_type": "code",
   "execution_count": 42,
   "metadata": {
    "id": "KDoRz6h-U9lR"
   },
   "outputs": [],
   "source": [
    "# your code"
   ]
  },
  {
   "cell_type": "markdown",
   "metadata": {
    "id": "u7PddnyKUjig"
   },
   "source": [
    "10. Теперь постройте гистограмму для сравнения количества положительных и отрицательных кейсов в зависимости от размера сберегательного счёта с помощью seaborn. Какой способ вам больше нравится с точки зрения трудоёмкости написания кода? А с точки зрения восприятия результата? (используйте `seaborn`)"
   ]
  },
  {
   "cell_type": "code",
   "execution_count": 43,
   "metadata": {
    "id": "wHa7SboDUi6l"
   },
   "outputs": [],
   "source": [
    "# your code"
   ]
  },
  {
   "cell_type": "markdown",
   "metadata": {
    "id": "UYUKNLm_Vcb0"
   },
   "source": [
    "11. `seaborn` легко позволяет добавить ещё больше информации на один график. Для каждого размера сберегательного счёта мы можем оценить не только количество положительных и отрицательных кейсов, но и их распределение по возрасту, например. Постройте подходящую для этого визуализацию."
   ]
  },
  {
   "cell_type": "code",
   "execution_count": 44,
   "metadata": {
    "id": "AvsmsGrIVgBE"
   },
   "outputs": [],
   "source": [
    "# your code"
   ]
  },
  {
   "cell_type": "markdown",
   "metadata": {
    "id": "qu69orsNViiu"
   },
   "source": [
    "12. Заканчивая с гистограммами, посмотрим на распределение положительных и отрицательных кейсов по возрастам, разместив их друг над другом. Добавим распределение всех взятых кредитов."
   ]
  },
  {
   "cell_type": "code",
   "execution_count": 45,
   "metadata": {
    "id": "ap-TJUs-VgmB"
   },
   "outputs": [],
   "source": [
    "# your code here"
   ]
  },
  {
   "cell_type": "markdown",
   "metadata": {
    "id": "HlDnZ3xiVpNO"
   },
   "source": [
    "13. Не менее полезной иногда может быть диаграмма рассеяния. Постройте такую диаграмму с продолжительностью и размерами кредитов в качестве осей. Обозначьте положительные и отрицательные кейсы разными цветами."
   ]
  },
  {
   "cell_type": "code",
   "execution_count": 46,
   "metadata": {
    "id": "VwXLYYEGVxEz"
   },
   "outputs": [],
   "source": [
    "# your code here"
   ]
  },
  {
   "cell_type": "markdown",
   "metadata": {
    "id": "w5-TASo4VvYv"
   },
   "source": [
    "14. Продвинемся глубже. Постройте 3D версию диаграммы рассеяния, добавив ось с возрастом."
   ]
  },
  {
   "cell_type": "code",
   "execution_count": 47,
   "metadata": {
    "id": "4b4LpuSNVvJP"
   },
   "outputs": [],
   "source": [
    "# your code here"
   ]
  },
  {
   "cell_type": "markdown",
   "metadata": {
    "id": "6QPVKZgpqmxf"
   },
   "source": [
    "## III. NumPy\n",
    "\n",
    "\n",
    "Далее вы попрактикуетесь в работе с библиотекой numpy, которая позволяет сравнительно легко и удобно выполнять разнообразные вычисления, избегая самостоятельной реализации поэлементной обработки.\n",
    "\n",
    "Во всех задачах необходимо написать код решения внутри функции и убедиться, что она работает, с помощью assert на выражение с использованием этой функции для данных из условия.\n",
    "\n",
    "При решении задач запрещается использовать циклы (for, while) и оператор if.\n",
    "\n",
    "Везде, где встречаются массивы или матрицы, подразумевается, что это numpy.array.\n",
    "\n",
    "numpy reference: https://numpy.org/doc/stable/reference/index.html"
   ]
  },
  {
   "cell_type": "markdown",
   "metadata": {
    "id": "0fVDag9vqmxf"
   },
   "source": [
    "\n",
    "\n",
    "**NumPy** — библиотека языка Python, позволяющая (удобно) работать с многомерными массивами и матрицами. Кроме того, NumPy позволяет векторизовать многие вычисления, имеющие место в машинном обучении.\n",
    "\n",
    " - [numpy](http://www.numpy.org)\n",
    " - [numpy tutorial](http://cs231n.github.io/python-numpy-tutorial/)\n",
    " - [100 numpy exercises](http://www.labri.fr/perso/nrougier/teaching/numpy.100/)\n",
    "\n",
    "Кстати, про NumPy недавно вышла [публикация](https://www.nature.com/articles/s41586-020-2649-2) в Nature.\n",
    "\n",
    "Все задания ниже имеют равный вес (3/10)."
   ]
  },
  {
   "cell_type": "markdown",
   "metadata": {
    "id": "Fn2Y0xz5qmxf"
   },
   "source": [
    "#### Задача NumPy-1\n",
    "Напишите функцию, возвращающую округленную взвешенную сумму оценок по данным оценкам и весам. Можете посчитать свою оценку за курс :) В нашем случае вес экзамена равен 0.3, вес домашек - 0.4, вес контрольной - 0.2, вес самостоятельных - 0.1. Например, если за экзамен у вас 7, за домашки 10, за контрольную 8, а за самостоятельные 6, то вы получите отличную оценку 8!"
   ]
  },
  {
   "cell_type": "code",
   "execution_count": 48,
   "metadata": {
    "id": "NYkbG5qTqmxf"
   },
   "outputs": [],
   "source": [
    "import numpy as np\n",
    "def result_mark(weights: np.array, marks: np.array) -> int:\n",
    "  return int(np.sum(weights * marks))"
   ]
  },
  {
   "cell_type": "code",
   "execution_count": 49,
   "metadata": {
    "id": "AICLuEQ1qmxf"
   },
   "outputs": [],
   "source": [
    "weights = np.array([0.3, 0.4, 0.2, 0.1])\n",
    "marks = np.array([7, 10, 8, 6])\n",
    "#print(result_mark(weights, marks))\n",
    "assert result_mark(weights, marks) == 8"
   ]
  },
  {
   "cell_type": "code",
   "execution_count": 50,
   "metadata": {
    "id": "68KYXW9Uqmxf"
   },
   "outputs": [],
   "source": [
    "weights = np.array([0.3, 0.4, 0.2, 0.1])\n",
    "marks = np.array([7, 0, 8, 6])\n",
    "\n",
    "assert result_mark(weights, marks) == 4"
   ]
  },
  {
   "cell_type": "markdown",
   "metadata": {
    "id": "AxlTeiTQXE5T"
   },
   "source": [
    "#### Задача NumPy-2\n",
    "Напишите функцию, меняющую каждое третье (начиная с 0) значение массива целых чисел на заданное число. Например, если на вход поступает массив `array([3, 5, 1, 0, -3, 22, 213436])` и число `-111`, то на выходе должен получиться массив `array([-111, 5, 1, -111, -3, 22, -111])`."
   ]
  },
  {
   "cell_type": "code",
   "execution_count": 51,
   "metadata": {
    "id": "8oJe-EmTXES1"
   },
   "outputs": [],
   "source": [
    "def change_array(array: np.array, number: int) -> np.array:\n",
    "    array[::3] = number\n",
    "    return array"
   ]
  },
  {
   "cell_type": "code",
   "execution_count": 52,
   "metadata": {
    "id": "2vYNvOJMXMLL"
   },
   "outputs": [],
   "source": [
    "array = np.array([3, 5, 1, 0, -3, 22, 213436])\n",
    "number = -111\n",
    "#print(change_array(array, number))\n",
    "assert np.allclose(change_array(array, number), np.array([-111, 5, 1, -111, -3, 22, -111]))"
   ]
  },
  {
   "cell_type": "code",
   "execution_count": 53,
   "metadata": {
    "id": "D0xG3vE0XMim"
   },
   "outputs": [],
   "source": [
    "array = np.array([3, 14, 15, 92, 6])\n",
    "number = 8\n",
    "\n",
    "assert np.allclose(change_array(array, number), np.array([8, 14, 15, 8, 6]))"
   ]
  },
  {
   "cell_type": "markdown",
   "metadata": {
    "id": "36q_qmJoXWOw"
   },
   "source": [
    "#### Задача NumPy-3\n",
    "\n",
    "Напишите функцию, выдающую индексы «близких» элементов заданных массивов, а именно тех пар элементов, чей модуль разницы не превосходит заданного значения. Например, если на вход поступают массив `array([1.5, 0.5, 2, -4.1, -3, 6, -1])`, массив `array([1.2, 0.5, 1, -4, 3, 0, -1.2])` и число `0.5`, то на выходе должен получиться массив `array([0, 1, 3, 6])` (**важно: не `tuple`, а одномерный массив типа `numpy.ndarray` (то есть `.ndim` от него равно 1)!**)."
   ]
  },
  {
   "cell_type": "code",
   "execution_count": 54,
   "metadata": {
    "id": "9CeKTj1-XVg0"
   },
   "outputs": [],
   "source": [
    "def find_close(array1: np.array, array2: np.array,\n",
    "               precision: float) -> np.array:\n",
    "       return  np.where(abs(array1 - array2) <= precision)[0]"
   ]
  },
  {
   "cell_type": "code",
   "execution_count": 55,
   "metadata": {
    "id": "YpnDZK0QXbIu"
   },
   "outputs": [],
   "source": [
    "array1 = np.array([1.5, 0.5, 2, -4.1, -3, 6, -1])\n",
    "array2 = np.array([1.2, 0.5, 1, -4.0,  3, 0, -1.2])\n",
    "precision = 0.5\n",
    "res = find_close(array1, array2, precision)\n",
    "\n",
    "assert res.ndim == 1\n",
    "assert np.allclose(res, np.array([0, 1, 3, 6]))"
   ]
  },
  {
   "cell_type": "code",
   "execution_count": 56,
   "metadata": {
    "id": "ulVhgO6zXdfa"
   },
   "outputs": [],
   "source": [
    "array1 = np.array([3.1415, 2.7182, 1.6180, 6.6261])\n",
    "array2 = np.array([6.6730, 1.3807, -1,     6.0222])\n",
    "precision = 1.7\n",
    "res = find_close(array1, array2, precision)\n",
    "\n",
    "assert res.ndim == 1\n",
    "assert np.allclose(res, np.array([1, 3]))"
   ]
  },
  {
   "cell_type": "markdown",
   "metadata": {
    "id": "yAxzSrx-Xk5V"
   },
   "source": [
    "#### Задача NumPy-4\n",
    "Напишите функцию, которая составляет блочную матрицу из четырех блоков, где каждый блок - это заданная матрица. Например, если на вход поступает матрица\n",
    "$$\n",
    "\\begin{pmatrix}\n",
    "0 & 1 & 2\\\\\n",
    "3 & 4 & 5\\\\\n",
    "\\end{pmatrix},\n",
    "$$\n",
    "то ответом будет матрица\n",
    "$$\n",
    "\\begin{pmatrix}\n",
    "0 & 1 & 2 & 0 & 1 & 2\\\\\n",
    "3 & 4 & 5 & 3 & 4 & 5\\\\\n",
    "0 & 1 & 2 & 0 & 1 & 2\\\\\n",
    "3 & 4 & 5 & 3 & 4 & 5\\\\\n",
    "\\end{pmatrix}\n",
    "$$"
   ]
  },
  {
   "cell_type": "code",
   "execution_count": 57,
   "metadata": {
    "id": "FrFqtoXQXkBO"
   },
   "outputs": [],
   "source": [
    "def block_matrix(block: np.array) -> np.array:\n",
    "    return np.tile(block,(2,2))\n"
   ]
  },
  {
   "cell_type": "code",
   "execution_count": 58,
   "metadata": {
    "id": "JVbERmC4XrFu"
   },
   "outputs": [],
   "source": [
    "block = np.array([[1, 3, 3], [7, 0, 0]])\n",
    "\n",
    "assert np.allclose(\n",
    "    block_matrix(block),\n",
    "    np.array([[1, 3, 3, 1, 3, 3],\n",
    "              [7, 0, 0, 7, 0, 0],\n",
    "              [1, 3, 3, 1, 3, 3],\n",
    "              [7, 0, 0, 7, 0, 0]])\n",
    ")"
   ]
  },
  {
   "cell_type": "markdown",
   "metadata": {
    "id": "1JtlkjJFXvQU"
   },
   "source": [
    "#### Задача NumPy-5\n",
    "Напишите функцию, вычисляющую произведение всех ненулевых диагональных элементов на диагонали данной квадратной матрицы. Например, если на вход поступает матрица\n",
    "$$\n",
    "\\begin{pmatrix}\n",
    "0 & 1 & 2\\\\\n",
    "3 & 4 & 5\\\\\n",
    "6 & 7 & 8\\\\\n",
    "\\end{pmatrix},\n",
    "$$\n",
    "то ответом будет 32.\n",
    "\n",
    "Элементы матрицы считать целочисленными."
   ]
  },
  {
   "cell_type": "code",
   "execution_count": 59,
   "metadata": {
    "id": "8zfqCvgBXvnO"
   },
   "outputs": [],
   "source": [
    "def diag_prod(matrix: np.array) -> int:\n",
    "  return np.array([a if a !=0 else 1 for a in  np.diag(matrix)]).prod()"
   ]
  },
  {
   "cell_type": "code",
   "execution_count": 60,
   "metadata": {
    "id": "IqMxXJQYX2rj"
   },
   "outputs": [],
   "source": [
    "matrix = np.array([[0, 1, 2, 3],\n",
    "                   [4, 5, 6, 7],\n",
    "                   [8, 9, 10, 11],\n",
    "                   [12, 13, 14, 15]])\n",
    "\n",
    "assert diag_prod(matrix) == 750"
   ]
  },
  {
   "cell_type": "markdown",
   "metadata": {
    "id": "nYh2_sXpqmxf"
   },
   "source": [
    "####  Задача NumPy-6\n",
    "Для улучшения качества работы некоторых алгоритмов машинного обучения может быть полезно использовать [нормализацию данных](https://vk.cc/8xmfQk), чтобы привести признаки в выборке к одному масштабу — а именно, из каждого столбца вычесть среднее его значений и поделить на их стандартное отклонение. Напишите функцию, нормализующую входящую матрицу (по столбцам). Например, если на вход подается матрица\n",
    "$$\n",
    "\\begin{pmatrix}\n",
    "1 & 4 & 4200\\\\\n",
    "0 & 10 & 5000\\\\\n",
    "1 & 2 & 1000\\\\\n",
    "\\end{pmatrix},\n",
    "$$\n",
    "то результатом с точностью до сотых будет матрица\n",
    "$$\n",
    "\\begin{pmatrix}\n",
    "0.71 & -0.39 & 0.46\\\\\n",
    "-1.41 & 1.37 & 0.93\\\\\n",
    "0.71 & -0.98 & -1.39\\\\\n",
    "\\end{pmatrix}\n",
    "$$\n",
    "\n",
    "Учтите, что в вашем матрице не должно получаться никаких nan. Подумайте, в каком случае они могут возникнуть и как обойти эту проблему.\n",
    "\n",
    "_Подсказка. Казалось бы, при чем тут деление на ноль._"
   ]
  },
  {
   "cell_type": "code",
   "execution_count": 61,
   "metadata": {
    "id": "mEX6OOFCqmxg"
   },
   "outputs": [],
   "source": [
    "def normalize(matrix: np.array) -> np.array:\n",
    "    # your code here\n",
    "    #return matrix - np.mean(matrix,axis=0) / np.var(matrix, axis=0)\n",
    "    return (matrix - np.mean(matrix,axis=0)) / np.sqrt(np.var(matrix, axis=0))"
   ]
  },
  {
   "cell_type": "code",
   "execution_count": 62,
   "metadata": {
    "colab": {
     "base_uri": "https://localhost:8080/"
    },
    "id": "Dsg4QXmQqmxg",
    "outputId": "90888e89-c84a-442a-e27c-324dafac7b2a"
   },
   "outputs": [
    {
     "name": "stdout",
     "output_type": "stream",
     "text": [
      "[[ 0.70710678 -0.39223227  0.46291005]\n",
      " [-1.41421356  1.37281295  0.9258201 ]\n",
      " [ 0.70710678 -0.98058068 -1.38873015]]\n"
     ]
    }
   ],
   "source": [
    "matrix = np.array([[1, 4, 4200], [0, 10, 5000], [1, 2, 1000]])\n",
    "\n",
    "print(normalize(matrix))\n",
    "\n",
    "assert np.allclose(\n",
    "    normalize(matrix),\n",
    "    np.array([[ 0.7071, -0.39223,  0.46291],\n",
    "              [-1.4142,  1.37281,  0.92582],\n",
    "              [ 0.7071, -0.98058, -1.38873]])\n",
    ")"
   ]
  },
  {
   "cell_type": "code",
   "execution_count": 63,
   "metadata": {
    "id": "yQ9lTpIVqmxg"
   },
   "outputs": [],
   "source": [
    "matrix = np.array([[-7, 2, 42], [2, 10, 50], [5, 4, 10]])\n",
    "\n",
    "assert np.allclose(\n",
    "    normalize(matrix),\n",
    "    np.array([[-1.37281, -0.98058,  0.46291],\n",
    "              [ 0.39223,  1.37281,  0.92582],\n",
    "              [ 0.98058, -0.39223, -1.38873]])\n",
    ")"
   ]
  },
  {
   "cell_type": "markdown",
   "metadata": {
    "id": "id5OgPpoX-7_"
   },
   "source": [
    " #### Задача NumPy-7\n",
    "\n",
    " Напишите функцию, вычисляющую какую-нибудь первообразную данного полинома (в качестве константы возьмите $0$). Например, если на вход поступает массив коэффициентов `array([4, 6, 0, 1])`, что соответствует полиному $4x^3 + 6x^2 + 1$, на выходе получается массив коэффициентов `array([1, 2, 0, 1, -2])`, соответствующий полиному $x^4 + 2x^3 + x - 2$."
   ]
  },
  {
   "cell_type": "code",
   "execution_count": 64,
   "metadata": {
    "id": "VWPjNjSzX-VN"
   },
   "outputs": [],
   "source": [
    "def antiderivative(coefs: np.array) -> np.array:\n",
    "    # your code here\n",
    "    res = list(coefs / np.array(range(len(coefs),0,-1)))\n",
    "    res.append(0)\n",
    "    return res"
   ]
  },
  {
   "cell_type": "code",
   "execution_count": 65,
   "metadata": {
    "colab": {
     "base_uri": "https://localhost:8080/"
    },
    "id": "paNTR2DFYGKk",
    "outputId": "37011cd4-0a14-4657-a8e2-dac83849f6d5"
   },
   "outputs": [
    {
     "name": "stdout",
     "output_type": "stream",
     "text": [
      "[1.0, 2.0, 0.0, 1.0, 0]\n"
     ]
    }
   ],
   "source": [
    "coefs = np.array([4, 6, 0, 1])\n",
    "print(antiderivative(coefs))\n",
    "assert np.allclose(\n",
    "    antiderivative(coefs),\n",
    "    np.array([1., 2., 0., 1., 0.])\n",
    ")"
   ]
  },
  {
   "cell_type": "code",
   "execution_count": 66,
   "metadata": {
    "id": "GQrWaef1YIVS"
   },
   "outputs": [],
   "source": [
    "coefs = np.array([1, 7, -12, 21, -6])\n",
    "\n",
    "assert np.allclose(\n",
    "    antiderivative(coefs),\n",
    "    np.array([ 0.2, 1.75, -4., 10.5, -6., 0.])\n",
    ")"
   ]
  },
  {
   "cell_type": "markdown",
   "metadata": {
    "id": "yVUjo56OYPP6"
   },
   "source": [
    "#### Задача NumPy-8\n",
    "\n",
    "Напишите функцию, делающую данную [треугольную матрицу](https://ru.wikipedia.org/wiki/%D0%A2%D1%80%D0%B5%D1%83%D0%B3%D0%BE%D0%BB%D1%8C%D0%BD%D0%B0%D1%8F_%D0%BC%D0%B0%D1%82%D1%80%D0%B8%D1%86%D0%B0) симметричной. Например, если на вход поступает матрица\n",
    "$$\n",
    "\\begin{pmatrix}\n",
    "1 & 2 & 3 & 4\\\\\n",
    "0 & 5 & 6 & 7\\\\\n",
    "0 & 0 & 8 & 9\\\\\n",
    "0 & 0 & 0 & 10\\\\\n",
    "\\end{pmatrix},\n",
    "$$\n",
    "то на выходе должна быть матрица\n",
    "$$\n",
    "\\begin{pmatrix}\n",
    "1 & 2 & 3 & 4\\\\\n",
    "2 & 5 & 6 & 7\\\\\n",
    "3 & 6 & 8 & 9\\\\\n",
    "4 & 7 & 9 & 10\\\\\n",
    "\\end{pmatrix}.\n",
    "$$"
   ]
  },
  {
   "cell_type": "code",
   "execution_count": 67,
   "metadata": {
    "id": "k3Ln_C0TYOmX"
   },
   "outputs": [],
   "source": [
    "def make_symmetric(matrix: np.array) -> np.array:\n",
    "    # your code here\n",
    "    return matrix.T + matrix - np.diag(np.diag(matrix))"
   ]
  },
  {
   "cell_type": "code",
   "execution_count": 68,
   "metadata": {
    "id": "V6Jg-lpoYfX-"
   },
   "outputs": [],
   "source": [
    "matrix = np.array([[1, 2, 3, 4], [0, 5, 6, 7], [0, 0, 8, 9], [0, 0, 0, 10]])\n",
    "\n",
    "assert np.allclose(\n",
    "    make_symmetric(matrix),\n",
    "    np.array([[ 1,  2,  3,  4],\n",
    "              [ 2,  5,  6,  7],\n",
    "              [ 3,  6,  8,  9],\n",
    "              [ 4,  7,  9, 10]])\n",
    ")"
   ]
  },
  {
   "cell_type": "code",
   "execution_count": 69,
   "metadata": {
    "id": "SG4VXJN3YXBq"
   },
   "outputs": [],
   "source": [
    "matrix = np.array([[10, 21, 32, 49], [0, 53, 62, 78], [0, 0, 82, 92], [0, 0, 0, 10]])\n",
    "\n",
    "assert np.allclose(\n",
    "    make_symmetric(matrix),\n",
    "    np.array([[10, 21, 32, 49],\n",
    "              [21, 53, 62, 78],\n",
    "              [32, 62, 82, 92],\n",
    "              [49, 78, 92, 10]])\n",
    ")"
   ]
  },
  {
   "cell_type": "markdown",
   "metadata": {
    "id": "2tNcnHiDYXo6"
   },
   "source": [
    "#### Задача NumPy-9\n",
    "\n",
    "Напишите функцию, создающую прямоугольную матрицу из m одинаковых строк, заполненных последовательными натуральными числами от a до b включительно в возрастающем порядке. Например, если m = 5, a = 3, b = 10, то на выходе будет матрица\n",
    "$$\n",
    "\\begin{pmatrix}\n",
    "3 & 4 & 5 & 6 & 7 & 8 & 9 & 10\\\\\n",
    "3 & 4 & 5 & 6 & 7 & 8 & 9 & 10\\\\\n",
    "3 & 4 & 5 & 6 & 7 & 8 & 9 & 10\\\\\n",
    "3 & 4 & 5 & 6 & 7 & 8 & 9 & 10\\\\\n",
    "3 & 4 & 5 & 6 & 7 & 8 & 9 & 10\\\\\n",
    "\\end{pmatrix}\n",
    "$$"
   ]
  },
  {
   "cell_type": "code",
   "execution_count": 70,
   "metadata": {
    "id": "4DtNF8p9Yjcs"
   },
   "outputs": [],
   "source": [
    "def construct_matrix(m: int, a: int, b: int) -> np.array:\n",
    "    # your code here\n",
    "    return np.tile(np.array(range(a,b+1)), (m,1))"
   ]
  },
  {
   "cell_type": "code",
   "execution_count": 71,
   "metadata": {
    "id": "oAXQfWmTYj8t"
   },
   "outputs": [],
   "source": [
    "m = 5\n",
    "a = 3\n",
    "b = 10\n",
    "\n",
    "assert np.allclose(\n",
    "    construct_matrix(m, a, b),\n",
    "    np.array([[ 3,  4,  5,  6,  7,  8,  9, 10],\n",
    "              [ 3,  4,  5,  6,  7,  8,  9, 10],\n",
    "              [ 3,  4,  5,  6,  7,  8,  9, 10],\n",
    "              [ 3,  4,  5,  6,  7,  8,  9, 10],\n",
    "              [ 3,  4,  5,  6,  7,  8,  9, 10]])\n",
    ")"
   ]
  },
  {
   "cell_type": "code",
   "execution_count": 72,
   "metadata": {
    "id": "nr4Sh8GXYlay"
   },
   "outputs": [],
   "source": [
    "m = 3\n",
    "a = 2\n",
    "b = 6\n",
    "\n",
    "assert np.allclose(\n",
    "    construct_matrix(m, a, b),\n",
    "    np.array([[2, 3, 4, 5, 6],\n",
    "              [2, 3, 4, 5, 6],\n",
    "              [2, 3, 4, 5, 6]])\n",
    ")"
   ]
  },
  {
   "cell_type": "markdown",
   "metadata": {
    "id": "XnZZ7H43qmxg"
   },
   "source": [
    "#### Задача NumPy-10\n",
    "\n",
    "Напишите функцию, вычисляющую [косинусную близость](https://en.wikipedia.org/wiki/Cosine_similarity) двух векторов. Например, если на вход поступают вектора `array([-2, 1, 0, -5, 4, 3, -3])` и `array([0, 2, -2, 10, 6, 0, 0])`, ответом будет -0.25."
   ]
  },
  {
   "cell_type": "markdown",
   "metadata": {
    "id": "uY_OY6inhLu7"
   },
   "source": [
    "Вставьте картинку, описывающую ваш опыт выполнения этого задания:"
   ]
  },
  {
   "cell_type": "code",
   "execution_count": 73,
   "metadata": {
    "id": "HbEFWVajqmxg"
   },
   "outputs": [],
   "source": [
    "def cosine_similarity(vec1: np.array, vec2: np.array) -> float:\n",
    "    # your code here\n",
    "    return vec1 @ vec2 / (np.linalg.norm(vec1) * np.linalg.norm(vec2))"
   ]
  },
  {
   "cell_type": "code",
   "execution_count": 74,
   "metadata": {
    "colab": {
     "base_uri": "https://localhost:8080/"
    },
    "id": "g0O77__uqmxg",
    "outputId": "be210d67-a542-4b78-da7f-883bc1fcccfc"
   },
   "outputs": [
    {
     "name": "stdout",
     "output_type": "stream",
     "text": [
      "-0.25\n"
     ]
    }
   ],
   "source": [
    "vec1 = np.array([-2, 1,  0, -5, 4, 3, -3])\n",
    "vec2 = np.array([ 0, 2, -2, 10, 6, 0,  0])\n",
    "print(cosine_similarity(vec1, vec2))\n",
    "assert np.allclose(cosine_similarity(vec1, vec2), -0.25)"
   ]
  },
  {
   "cell_type": "code",
   "execution_count": 75,
   "metadata": {
    "id": "Qbjcu5BLqmxg"
   },
   "outputs": [],
   "source": [
    "vec1 = np.array([-2, 1,  0, -5, 4, 3, -3])\n",
    "vec2 = np.array([ 0, 2, -2, 10, 6, 0,  0])\n",
    "\n",
    "assert np.allclose(cosine_similarity(vec1, vec2), -0.25)"
   ]
  },
  {
   "cell_type": "markdown",
   "metadata": {
    "id": "RQSLfvJRqmxg"
   },
   "source": [
    "# Бонусное задание (0.01 балла)\n",
    "\n",
    "Наступило прекрасное время --- весна. Напишите и/или прикрепите примеры того, как вы занимаетесь дейстельностью, которая вас радует этой весной."
   ]
  },
  {
   "cell_type": "code",
   "execution_count": 76,
   "metadata": {
    "id": "uPbYmoljPtOB"
   },
   "outputs": [],
   "source": [
    "# ٩(◕‿◕｡)۶"
   ]
  },
  {
   "cell_type": "markdown",
   "metadata": {
    "id": "ZdUuTiomPqfL"
   },
   "source": [
    "Для удобства проверки настоятельно рекомендуется самостоятельно посчитать свою максимальную оценку (исходя из набора решенных задач) и указать ниже.\n",
    "\n",
    "### Оценка: xx."
   ]
  }
 ],
 "metadata": {
  "colab": {
   "provenance": []
  },
  "kernelspec": {
   "display_name": "Python 3",
   "language": "python",
   "name": "python3"
  },
  "language_info": {
   "codemirror_mode": {
    "name": "ipython",
    "version": 3
   },
   "file_extension": ".py",
   "mimetype": "text/x-python",
   "name": "python",
   "nbconvert_exporter": "python",
   "pygments_lexer": "ipython3",
   "version": "3.12.1"
  },
  "toc": {
   "base_numbering": 1,
   "nav_menu": {},
   "number_sections": true,
   "sideBar": true,
   "skip_h1_title": false,
   "title_cell": "Table of Contents",
   "title_sidebar": "Contents",
   "toc_cell": false,
   "toc_position": {
    "height": "calc(100% - 180px)",
    "left": "10px",
    "top": "150px",
    "width": "599.006px"
   },
   "toc_section_display": true,
   "toc_window_display": false
  },
  "varInspector": {
   "cols": {
    "lenName": 16,
    "lenType": 16,
    "lenVar": 40
   },
   "kernels_config": {
    "python": {
     "delete_cmd_postfix": "",
     "delete_cmd_prefix": "del ",
     "library": "var_list.py",
     "varRefreshCmd": "print(var_dic_list())"
    },
    "r": {
     "delete_cmd_postfix": ") ",
     "delete_cmd_prefix": "rm(",
     "library": "var_list.r",
     "varRefreshCmd": "cat(var_dic_list()) "
    }
   },
   "types_to_exclude": [
    "module",
    "function",
    "builtin_function_or_method",
    "instance",
    "_Feature"
   ],
   "window_display": false
  },
  "vscode": {
   "interpreter": {
    "hash": "e7370f93d1d0cde622a1f8e1c04877d8463912d04d973331ad4851f04de6915a"
   }
  }
 },
 "nbformat": 4,
 "nbformat_minor": 1
}
